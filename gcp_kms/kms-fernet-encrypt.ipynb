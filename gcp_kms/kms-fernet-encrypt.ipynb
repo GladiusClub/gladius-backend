{
 "cells": [
  {
   "cell_type": "code",
   "execution_count": 12,
   "metadata": {},
   "outputs": [],
   "source": [
    "from google.cloud import storage\n",
    "from google.cloud import kms\n",
    "\n",
    "from google.oauth2 import service_account\n",
    "\n",
    "import firebase_admin\n",
    "from firebase_admin import auth, credentials, firestore\n",
    "\n",
    "from cryptography.fernet import Fernet"
   ]
  },
  {
   "attachments": {},
   "cell_type": "markdown",
   "metadata": {},
   "source": [
    "GCP params"
   ]
  },
  {
   "cell_type": "code",
   "execution_count": 2,
   "metadata": {},
   "outputs": [],
   "source": [
    "# SERVICE_ACCOUNT_FILE = '../firebase-adminsdk.json'\n",
    "KMS_SERVICE_ACCOUNT_FILE = '../../kms-admin.json'\n",
    "\n",
    "project_id = 'wallet-login-45c1c'"
   ]
  },
  {
   "attachments": {},
   "cell_type": "markdown",
   "metadata": {},
   "source": [
    "KMS params"
   ]
  },
  {
   "cell_type": "code",
   "execution_count": 3,
   "metadata": {},
   "outputs": [
    {
     "name": "stdout",
     "output_type": "stream",
     "text": [
      "projects/wallet-login-45c1c/locations/global/keyRings/gladius-key-ring/cryptoKeys/gladius-key\n"
     ]
    }
   ],
   "source": [
    "# Build the parent name from the project and location.\n",
    "parent = f\"projects/{project_id}/locations/global\"\n",
    "\n",
    "# Build the key ring name.\n",
    "key_ring_name = f\"{parent}/keyRings/gladius-key-ring\"\n",
    "\n",
    "# Build the key name.\n",
    "key_name = f\"{key_ring_name}/cryptoKeys/gladius-key\"\n",
    "\n",
    "print(key_name)"
   ]
  },
  {
   "attachments": {},
   "cell_type": "markdown",
   "metadata": {},
   "source": [
    "#### Connect to KMS"
   ]
  },
  {
   "cell_type": "code",
   "execution_count": 8,
   "metadata": {},
   "outputs": [],
   "source": [
    "\n",
    "# Create the credentials object from the service account file.\n",
    "kms_credentials = service_account.Credentials.from_service_account_file(KMS_SERVICE_ACCOUNT_FILE)\n",
    "\n",
    "# Create the client with the credentials.\n",
    "kms_client  = kms.KeyManagementServiceClient(credentials=kms_credentials)"
   ]
  },
  {
   "cell_type": "markdown",
   "metadata": {},
   "source": [
    "### Load an encryption key from a file in a bucket "
   ]
  },
  {
   "cell_type": "code",
   "execution_count": 13,
   "metadata": {},
   "outputs": [],
   "source": [
    "\n",
    "\n",
    "# Create a storage client\n",
    "storage_client = storage.Client(project='wallet-login-45c1c', \n",
    "                                credentials=service_account.Credentials.from_service_account_file('../../firebase-adminsdk.json'))\n",
    "\n",
    "# Get the bucket and blob (file) objects\n",
    "bucket_name = 'gladius-backend'\n",
    "file_name = 'gladius-key-encryption_key-ciphertext.txt'\n",
    "bucket = storage_client.bucket(bucket_name)\n",
    "blob = bucket.blob(file_name)\n",
    "\n",
    "# Download the file contents as bytes\n",
    "encryption_key = blob.download_as_bytes()\n",
    "\n"
   ]
  },
  {
   "cell_type": "markdown",
   "metadata": {},
   "source": [
    "### Initiate Fernet\n",
    "https://cryptography.io/en/latest/fernet/"
   ]
  },
  {
   "cell_type": "code",
   "execution_count": 16,
   "metadata": {},
   "outputs": [],
   "source": [
    "f = Fernet(encryption_key)"
   ]
  },
  {
   "cell_type": "code",
   "execution_count": 17,
   "metadata": {},
   "outputs": [],
   "source": [
    "response = kms_client.encrypt(request={\"name\": key_name, \"plaintext\": encryption_key})\n",
    "encrypted_encryption_key = response.ciphertext"
   ]
  },
  {
   "cell_type": "code",
   "execution_count": 18,
   "metadata": {},
   "outputs": [
    {
     "data": {
      "text/plain": [
       "b\"\\n$\\x00\\x04\\xc9Y\\x9b\\x8c\\xe2/@=\\xd4|\\xe8\\x15\\x7f\\x8c\\xc1\\x01\\xfb\\xd5\\xba$\\xfbhM\\xca\\x04\\xf9\\x9ek\\x92\\xa0?\\xb7c\\x98\\x12U\\x00\\x06\\x16!\\xa1\\x8a\\x9c\\xb7\\x0bG}w\\xe6=\\xbf\\x92[\\x02\\ra\\xc3-\\xcb\\x9f_\\xc0\\xa4\\xe3\\xd64xD:\\xf3\\xd3O\\x08\\x10\\xf7W\\xfa\\xeas\\xddX\\xbf\\xa2\\x9cG\\x15\\x0e3<\\xfeZB\\xb7'j\\xc7\\x1f\\xef\\x8f^\\xe1\\xe0\\x1d`\\xa2\\xf3\\x82{s\\xf3\\x10\\xdd \\x83\\xf5\\x0ej\\xa2!\\xe0\\x0e\""
      ]
     },
     "execution_count": 18,
     "metadata": {},
     "output_type": "execute_result"
    }
   ],
   "source": [
    "encrypted_encryption_key"
   ]
  },
  {
   "attachments": {},
   "cell_type": "markdown",
   "metadata": {},
   "source": [
    "#### Connect to Firebase"
   ]
  },
  {
   "cell_type": "code",
   "execution_count": null,
   "metadata": {},
   "outputs": [],
   "source": [
    "firebase_cred = credentials.Certificate('../../firebase-adminsdk.json')\n",
    "firebase_admin.initialize_app(firebase_cred)\n",
    "db = firestore.client()"
   ]
  },
  {
   "cell_type": "code",
   "execution_count": 26,
   "metadata": {},
   "outputs": [],
   "source": [
    "users_ref = db.collection(\"users\")\n",
    "\n",
    "# Get all documents from the users collection.\n",
    "users_docs = users_ref.stream()\n",
    "\n",
    "for user_doc in users_docs:\n",
    "    try:\n",
    "        user_data = user_doc.to_dict()\n",
    "        user_name = user_data.get(\"name\")\n",
    "        # print(user_name)  # Consider removing or securing this print in production\n",
    "        if user_name == 'test03':\n",
    "            stellar_secret = user_data.get(\"stellar_secret:\", \"Field not found\")\n",
    "            encrypted_stellar_secret = f.encrypt(stellar_secret.encode())\n",
    "            user_doc.reference.update({\"encrypted_stellar_secret\": encrypted_stellar_secret})\n",
    "        \n",
    "            # Store encrypted_encryption_key in user doc\n",
    "            user_doc.reference.update({\"encrypted_encryption_key\": encrypted_encryption_key})\n",
    "                \n",
    "    except Exception as e:\n",
    "        print(f\"Error processing document {user_doc.id}: {e}\")\n",
    "    "
   ]
  },
  {
   "cell_type": "code",
   "execution_count": null,
   "metadata": {},
   "outputs": [],
   "source": []
  }
 ],
 "metadata": {
  "kernelspec": {
   "display_name": ".venv",
   "language": "python",
   "name": "python3"
  },
  "language_info": {
   "codemirror_mode": {
    "name": "ipython",
    "version": 3
   },
   "file_extension": ".py",
   "mimetype": "text/x-python",
   "name": "python",
   "nbconvert_exporter": "python",
   "pygments_lexer": "ipython3",
   "version": "3.10.12"
  },
  "orig_nbformat": 4
 },
 "nbformat": 4,
 "nbformat_minor": 2
}
