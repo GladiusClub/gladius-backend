{
 "cells": [
  {
   "attachments": {},
   "cell_type": "markdown",
   "metadata": {},
   "source": [
    "## Encrypt user private key with Fernet with encryption key stored in GCP KMS\n",
    "https://cryptography.io/en/latest/fernet/\n",
    "\n",
    "https://www.geeksforgeeks.org/fernet-symmetric-encryption-using-cryptography-module-in-python/ \n",
    "\n",
    "\n",
    "#### Step 1. Activate Cloud Key Management Service (KMS) API\n",
    "https://console.cloud.google.com/marketplace/product/google/cloudkms.googleapis.com"
   ]
  },
  {
   "attachments": {},
   "cell_type": "markdown",
   "metadata": {},
   "source": [
    "#### Step 2. Create a Google service account that has the role of Cloud KMS Admin\n",
    "https://console.cloud.google.com/iam-admin/serviceaccounts\n",
    "\n",
    "Generate and download a private key for the service account in JSON format"
   ]
  },
  {
   "attachments": {},
   "cell_type": "markdown",
   "metadata": {},
   "source": [
    "#### Step 3. Install KMS client lib\n",
    "\n",
    "pip install google-cloud-kms firebase-admin"
   ]
  },
  {
   "attachments": {},
   "cell_type": "markdown",
   "metadata": {},
   "source": [
    "#### Step 4. Connect to KMS"
   ]
  },
  {
   "cell_type": "code",
   "execution_count": 2,
   "metadata": {},
   "outputs": [],
   "source": [
    "from google.cloud import kms\n",
    "from google.oauth2 import service_account"
   ]
  },
  {
   "cell_type": "code",
   "execution_count": 5,
   "metadata": {},
   "outputs": [],
   "source": [
    "# SERVICE_ACCOUNT_FILE = '../firebase-adminsdk.json'\n",
    "KMS_SERVICE_ACCOUNT_FILE = '../../kms-admin.json'\n",
    "\n",
    "project_id = 'wallet-login-45c1c'"
   ]
  },
  {
   "cell_type": "code",
   "execution_count": 8,
   "metadata": {},
   "outputs": [],
   "source": [
    "\n",
    "# Create the credentials object from the service account file.\n",
    "credentials = service_account.Credentials.from_service_account_file(KMS_SERVICE_ACCOUNT_FILE)\n",
    "\n",
    "# Create the client with the credentials.\n",
    "client = kms.KeyManagementServiceClient(credentials=credentials)\n"
   ]
  },
  {
   "attachments": {},
   "cell_type": "markdown",
   "metadata": {},
   "source": [
    "create a key ring, a key, and a key version. You can specify the name of the key when you create it. \n",
    "For example, you can use the following code to create a symmetric encryption key named gladius-key in a key ring named gladius-key-ring in the global location"
   ]
  },
  {
   "cell_type": "code",
   "execution_count": null,
   "metadata": {},
   "outputs": [],
   "source": [
    "\n",
    "\n",
    "# Build the parent name from the project and location.\n",
    "parent = f\"projects/{project_id}/locations/global\"\n",
    "\n",
    "# Build the key ring name.\n",
    "key_ring_name = f\"{parent}/keyRings/gladius-key-ring\"\n",
    "\n",
    "# Build the key name.\n",
    "key_name = f\"{key_ring_name}/cryptoKeys/gladius-key\"\n",
    "\n",
    "# Create the key ring.\n",
    "key_ring = {}\n",
    "client.create_key_ring(request={\"parent\": parent, \"key_ring_id\": \"gladius-key-ring\", \"key_ring\": key_ring})\n",
    "\n",
    "# Create the key.\n",
    "purpose = kms.CryptoKey.CryptoKeyPurpose.ENCRYPT_DECRYPT\n",
    "crypto_key = {\"purpose\": purpose}\n",
    "client.create_crypto_key(request={\"parent\": key_ring_name, \"crypto_key_id\": \"gladius-key\", \"crypto_key\": crypto_key})\n"
   ]
  },
  {
   "attachments": {},
   "cell_type": "markdown",
   "metadata": {},
   "source": [
    "### Test KMS"
   ]
  },
  {
   "attachments": {},
   "cell_type": "markdown",
   "metadata": {},
   "source": [
    "You can use the client library to encrypt and decrypt data with the key you created. For example, you can use the following code to encrypt and decrypt a message using gladius-key"
   ]
  },
  {
   "cell_type": "code",
   "execution_count": 9,
   "metadata": {},
   "outputs": [
    {
     "name": "stdout",
     "output_type": "stream",
     "text": [
      "b'\\n$\\x00\\x04\\xc9Y\\x9b\\rt\\x94\\xc1\\xee]\\x95;@Ek\\xc0\\xbcO\\x14PC\\xf4*!3\\xb7\\xb1\\xc4D\\xc8b`\\xf5\\x1aG\\x129\\x00\\x06\\x16!\\xa1\\xeeZg\\xf2H\\xc8O\\t\\x00Wv\\xab\\x9d\\xd6\\xf5 \\xefR\\xbd\\xdbr\\x17w\\xd8^\\xac \\xb0\\xfe\\x82\\x0f\\xf6\\xfc\\xe2}\\xee\\xab\\xb4Q\\x16`\\xca!\\xb4h\\xc9\\xd0\\xf3\\x9a\\xda\\xedh'\n"
     ]
    }
   ],
   "source": [
    "\n",
    "# Build the key name.\n",
    "key_name = f\"projects/{project_id}/locations/global/keyRings/gladius-key-ring/cryptoKeys/gladius-key\"\n",
    "\n",
    "# The message to encrypt.\n",
    "message = b\"Hello Gladius 2!\"\n",
    "\n",
    "# Encrypt the message.\n",
    "response = client.encrypt(request={\"name\": key_name, \"plaintext\": message})\n",
    "ciphertext = response.ciphertext\n",
    "\n",
    "print(ciphertext)"
   ]
  },
  {
   "cell_type": "code",
   "execution_count": 10,
   "metadata": {},
   "outputs": [
    {
     "name": "stdout",
     "output_type": "stream",
     "text": [
      "b'Hello Gladius 2!'\n"
     ]
    }
   ],
   "source": [
    "# Decrypt the message.\n",
    "response = client.decrypt(request={\"name\": key_name, \"ciphertext\": ciphertext})\n",
    "plaintext = response.plaintext\n",
    "\n",
    "print(plaintext)\n"
   ]
  },
  {
   "attachments": {},
   "cell_type": "markdown",
   "metadata": {},
   "source": [
    "### Step 5. Encrypt private_key with Fernet and encryption key stored in Cloud KMS\n",
    "https://cryptography.io/en/latest/fernet/"
   ]
  },
  {
   "cell_type": "code",
   "execution_count": 11,
   "metadata": {},
   "outputs": [],
   "source": [
    "# pip install cryptography\n",
    "\n",
    "from cryptography.fernet import Fernet"
   ]
  },
  {
   "attachments": {},
   "cell_type": "markdown",
   "metadata": {},
   "source": [
    "Use the generate_key() method of the Fernet class to generate a new fernet key2. The key is a random value, and will be completely different each time you call the method2. The key is a URL-safe base64-encoded 32-byte key2. You need to keep this key safe and secret, as it is the only way to encrypt and decrypt your data with Fernet2. For example:"
   ]
  },
  {
   "cell_type": "code",
   "execution_count": 12,
   "metadata": {},
   "outputs": [],
   "source": [
    "# this re-gerate the encryption key\n",
    "\n",
    "key = Fernet.generate_key()"
   ]
  },
  {
   "attachments": {},
   "cell_type": "markdown",
   "metadata": {},
   "source": [
    "### Backup an encryption key into a file in a bucket "
   ]
  },
  {
   "cell_type": "code",
   "execution_count": 45,
   "metadata": {},
   "outputs": [],
   "source": [
    "from google.cloud import storage\n",
    "from google.oauth2 import service_account\n",
    "\n",
    "# gcloud config set project  'wallet-login-45c1c'\n",
    "# gsutil mb -l europe-west1 gs://gladius-backend\n",
    "\n",
    "storage_client = storage.Client(project='wallet-login-45c1c', \n",
    "                                credentials=service_account.Credentials.from_service_account_file('../firebase-adminsdk.json'))\n",
    "\n",
    "bucket_name = 'gladius-backend'\n",
    "key_str = key.decode('utf-8')\n",
    "file_name = 'gladius-key-encryption_key-ciphertext.txt'"
   ]
  },
  {
   "cell_type": "code",
   "execution_count": 34,
   "metadata": {},
   "outputs": [],
   "source": [
    "#save encryption key to a bucket gs://gladius-backend\n",
    "\n",
    "bucket = storage_client.bucket(bucket_name)\n",
    "blob = bucket.blob(file_name)\n",
    "\n",
    "blob.upload_from_string(key_str, content_type='text')\n"
   ]
  },
  {
   "attachments": {},
   "cell_type": "markdown",
   "metadata": {},
   "source": [
    "### Load an encryption key from a file in a bucket "
   ]
  },
  {
   "cell_type": "code",
   "execution_count": 14,
   "metadata": {},
   "outputs": [],
   "source": [
    "from google.cloud import storage\n",
    "from google.oauth2 import service_account\n",
    "\n",
    "# Create a storage client\n",
    "storage_client = storage.Client(project='wallet-login-45c1c', \n",
    "                                credentials=service_account.Credentials.from_service_account_file('../../firebase-adminsdk.json'))\n",
    "\n",
    "# Get the bucket and blob (file) objects\n",
    "bucket_name = 'gladius-backend'\n",
    "file_name = 'gladius-key-encryption_key-ciphertext.txt'\n",
    "bucket = storage_client.bucket(bucket_name)\n",
    "blob = bucket.blob(file_name)\n",
    "\n",
    "# Download the file contents as bytes\n",
    "encryption_key = blob.download_as_bytes()\n",
    "\n"
   ]
  },
  {
   "cell_type": "code",
   "execution_count": 23,
   "metadata": {},
   "outputs": [
    {
     "name": "stdout",
     "output_type": "stream",
     "text": [
      "b'iy1qGhJqjFTcUReSRcQ_eQ9v81vfUW8lVj4ZLn8MBQM='\n"
     ]
    }
   ],
   "source": [
    "# Print the byte data\n",
    "print(encryption_key)\n"
   ]
  },
  {
   "attachments": {},
   "cell_type": "markdown",
   "metadata": {},
   "source": [
    "Connect to KMS with SA"
   ]
  },
  {
   "cell_type": "code",
   "execution_count": 16,
   "metadata": {},
   "outputs": [],
   "source": [
    "from google.cloud import kms\n",
    "from google.oauth2 import service_account\n",
    "\n",
    "# Create the credentials object from the service account file.\n",
    "kms_credentials = service_account.Credentials.from_service_account_file(KMS_SERVICE_ACCOUNT_FILE)\n",
    "\n",
    "# Create the client with the credentials.\n",
    "kms_client  = kms.KeyManagementServiceClient(credentials=kms_credentials)"
   ]
  },
  {
   "attachments": {},
   "cell_type": "markdown",
   "metadata": {},
   "source": [
    "##### Create Gladius Key Ring - Gladius Key (if not exist in Cloud KMS)"
   ]
  },
  {
   "cell_type": "code",
   "execution_count": 17,
   "metadata": {},
   "outputs": [
    {
     "name": "stdout",
     "output_type": "stream",
     "text": [
      "projects/wallet-login-45c1c/locations/global/keyRings/gladius-key-ring/cryptoKeys/gladius-key\n"
     ]
    }
   ],
   "source": [
    "\n",
    "# Build the parent name from the project and location.\n",
    "parent = f\"projects/{project_id}/locations/global\"\n",
    "\n",
    "# Build the key ring name.\n",
    "key_ring_name = f\"{parent}/keyRings/gladius-key-ring\"\n",
    "\n",
    "# Build the key name.\n",
    "key_name = f\"{key_ring_name}/cryptoKeys/gladius-key\"\n",
    "\n",
    "print(key_name)\n",
    "\n",
    "# NEEDED ONLY FIRST TIME\n",
    "# Create the key ring.\n",
    "# key_ring = {}\n",
    "# client.create_key_ring(request={\"parent\": parent, \"key_ring_id\": \"gladius-key-ring\", \"key_ring\": key_ring})\n",
    "\n",
    "# Create the key.\n",
    "#purpose = kms.CryptoKey.CryptoKeyPurpose.ENCRYPT_DECRYPT\n",
    "#crypto_key = {\"purpose\": purpose}\n",
    "#client.create_crypto_key(request={\"parent\": key_ring_name, \"crypto_key_id\": \"gladius-key\", \"crypto_key\": crypto_key})\n"
   ]
  },
  {
   "cell_type": "code",
   "execution_count": 24,
   "metadata": {},
   "outputs": [],
   "source": [
    "key=encryption_key"
   ]
  },
  {
   "cell_type": "code",
   "execution_count": 25,
   "metadata": {},
   "outputs": [],
   "source": [
    "response = kms_client.encrypt(request={\"name\": key_name, \"plaintext\": encryption_key})\n",
    "encrypted_encryption_key = response.ciphertext\n"
   ]
  },
  {
   "cell_type": "code",
   "execution_count": 26,
   "metadata": {},
   "outputs": [
    {
     "data": {
      "text/plain": [
       "b'\\n$\\x00\\x04\\xc9Y\\x9bT\\xabXD\\x01w\\xaa\\xae\\x04\\xb9\\xaf\\xa4\\x99;;f\\xdf\\xa4\\x91\\xc87\\t#L\\x12+\\xa9\\xe7b9C\\x12U\\x00\\x06\\x16!\\xa1\\xe9(D$\\xb6\\xa1\\x80p4j\\xba[\\x92\\x0f\\xd8\\xc0\\x88E\\xadw\\x1b]]\\xde\\xcet\\x10\\x91sp\\xef\\x99T*\\xde\\xac\\x0c\\x1d\\x19\\x86,V8+\\xf3\\x05\\x95\\xca\\xbf\\xd4m\\xc4@&kOj\\x1c\\r\\xaf\\x81\\xe2R\\xf4U\\xe2X\\x94\\xa8p@s\\x81\\x88\\xaeH\\xc3\\xa8\\xa02'"
      ]
     },
     "execution_count": 26,
     "metadata": {},
     "output_type": "execute_result"
    }
   ],
   "source": [
    "encrypted_encryption_key"
   ]
  },
  {
   "cell_type": "code",
   "execution_count": 16,
   "metadata": {},
   "outputs": [],
   "source": [
    "\n",
    "# Encrypt the encryption key with Google KMS.\n",
    "\n",
    "response = client.encrypt(request={\"name\": key_name, \"plaintext\": key})\n",
    "encrypted_encryption_key = response.ciphertext\n"
   ]
  },
  {
   "cell_type": "code",
   "execution_count": 21,
   "metadata": {},
   "outputs": [],
   "source": [
    "#encrypted_encryption_key"
   ]
  },
  {
   "attachments": {},
   "cell_type": "markdown",
   "metadata": {},
   "source": [
    "Use the client library to decrypt your encryption key that was encrypted with a Cloud KMS key\n",
    "\n",
    "https://cloud.google.com/kms/docs/encrypt-decrypt"
   ]
  },
  {
   "cell_type": "code",
   "execution_count": 27,
   "metadata": {},
   "outputs": [],
   "source": [
    "\n",
    "# Decrypt your encryption key with Google KMS.\n",
    "response = client.decrypt(request={\"name\": key_name, \"ciphertext\": encrypted_encryption_key})\n",
    "new_encryption_key = response.plaintext"
   ]
  },
  {
   "cell_type": "code",
   "execution_count": 29,
   "metadata": {},
   "outputs": [
    {
     "data": {
      "text/plain": [
       "b'iy1qGhJqjFTcUReSRcQ_eQ9v81vfUW8lVj4ZLn8MBQM='"
      ]
     },
     "execution_count": 29,
     "metadata": {},
     "output_type": "execute_result"
    }
   ],
   "source": [
    "new_encryption_key"
   ]
  },
  {
   "cell_type": "code",
   "execution_count": 30,
   "metadata": {},
   "outputs": [
    {
     "data": {
      "text/plain": [
       "b'iy1qGhJqjFTcUReSRcQ_eQ9v81vfUW8lVj4ZLn8MBQM='"
      ]
     },
     "execution_count": 30,
     "metadata": {},
     "output_type": "execute_result"
    }
   ],
   "source": [
    "encryption_key"
   ]
  },
  {
   "attachments": {},
   "cell_type": "markdown",
   "metadata": {},
   "source": [
    "## Encrypt Data in Firebase\n",
    "\n",
    "### Connect to Firebase"
   ]
  },
  {
   "cell_type": "code",
   "execution_count": 19,
   "metadata": {},
   "outputs": [],
   "source": [
    "import firebase_admin\n",
    "from firebase_admin import auth, credentials, firestore\n",
    "\n",
    "\n",
    "if not firebase_admin._apps:\n",
    "    cred = credentials.Certificate(\"../../firebase-adminsdk.json\")\n",
    "    default_app = firebase_admin.initialize_app(cred)\n",
    "# Get a reference to the firestore database\n",
    "db = firestore.client()\n",
    "\n",
    "# Get a reference to the users collection.\n",
    "users_ref = db.collection(\"users\")\n",
    "\n",
    "# Get all documents from the users collection.\n",
    "users_docs = users_ref.stream()"
   ]
  },
  {
   "attachments": {},
   "cell_type": "markdown",
   "metadata": {},
   "source": [
    "Create a Fernet object with your encryption key\n",
    "\n",
    "https://www.geeksforgeeks.org/fernet-symmetric-encryption-using-cryptography-module-in-python/"
   ]
  },
  {
   "cell_type": "code",
   "execution_count": 20,
   "metadata": {},
   "outputs": [],
   "source": [
    "from cryptography.fernet import Fernet\n",
    "\n",
    "f = Fernet(encryption_key)"
   ]
  },
  {
   "attachments": {},
   "cell_type": "markdown",
   "metadata": {},
   "source": [
    "Use the update() method of the Firestore client to save or update the name field for a specific user document. You need to specify the document reference and a dictionary of fields and values to update. For each name field, use the encrypt() method of Fernet to encrypt it with your encryption key"
   ]
  },
  {
   "cell_type": "code",
   "execution_count": null,
   "metadata": {},
   "outputs": [],
   "source": [
    "# Iterate over the documents and encrypt and update the name field.\n",
    "for user_doc in users_docs:\n",
    "  \n",
    "  # Get the document data as a dictionary.\n",
    "  user_data = user_doc.to_dict()\n",
    "\n",
    "  # Get the name field from the data.\n",
    "  user_name = user_data.get(\"name\")\n",
    "\n",
    "  # Print the name field.\n",
    "  print(user_name)\n",
    "\n",
    "  if user_name == 'test03':\n",
    "\n",
    "\n",
    "    # Encrypt the name field with Fernet.\n",
    "    encrypted_user_name = f.encrypt(user_name.encode())\n",
    "    #print(encrypted_user_name)\n",
    "\n",
    "    # Update the document with the encrypted name field.\n",
    "    user_doc.reference.update({\"glc_transaction_private_key\": encrypted_user_name})\n",
    "    \n",
    "    # Store encrypted_encryption_key in user doc\n",
    "    # user_doc.reference.update({\"encrypted_encryption_key\": encrypted_encryption_key})\n"
   ]
  },
  {
   "attachments": {},
   "cell_type": "markdown",
   "metadata": {},
   "source": [
    "### Decrypt private key in users/user/glc_transaction_private_key\n",
    "using users/user/encrypted_encryption_key\n",
    "decrypted with KMS"
   ]
  },
  {
   "cell_type": "code",
   "execution_count": 52,
   "metadata": {},
   "outputs": [],
   "source": [
    "user_id = 'WUTqVpvvvcaroORmoC34HwweJJp1'  # Test03\n",
    "user_ref = db.collection('users').document(user_id)\n",
    "encrypted_private_key = user_ref.get().get('glc_transaction_private_key')\n",
    "encrypted_encryption_key = user_ref.get().get('encrypted_encryption_key')"
   ]
  },
  {
   "cell_type": "code",
   "execution_count": 54,
   "metadata": {},
   "outputs": [],
   "source": [
    "response = kms_client.decrypt(\n",
    "    request={\"name\": key_name, \"ciphertext\": encrypted_encryption_key}\n",
    ")\n",
    "encryption_key = response.plaintext"
   ]
  },
  {
   "cell_type": "code",
   "execution_count": 55,
   "metadata": {},
   "outputs": [
    {
     "data": {
      "text/plain": [
       "b'Bob'"
      ]
     },
     "execution_count": 55,
     "metadata": {},
     "output_type": "execute_result"
    }
   ],
   "source": [
    "cipher_suite = Fernet(encryption_key)\n",
    "#encrypted_private_key = base64.b64decode(encrypted_private_key)  # If necessary\n",
    "\n",
    "decrypted_private_key = cipher_suite.decrypt(encrypted_private_key)\n",
    "decrypted_private_key"
   ]
  },
  {
   "cell_type": "code",
   "execution_count": null,
   "metadata": {},
   "outputs": [],
   "source": [
    "# encrypted_private_key was actually encrypted user_name\n",
    "# glc_transaction_private_key = f.encrypt(user_name.encode())"
   ]
  }
 ],
 "metadata": {
  "kernelspec": {
   "display_name": "Python 3",
   "language": "python",
   "name": "python3"
  },
  "language_info": {
   "codemirror_mode": {
    "name": "ipython",
    "version": 3
   },
   "file_extension": ".py",
   "mimetype": "text/x-python",
   "name": "python",
   "nbconvert_exporter": "python",
   "pygments_lexer": "ipython3",
   "version": "3.10.12"
  },
  "orig_nbformat": 4
 },
 "nbformat": 4,
 "nbformat_minor": 2
}
