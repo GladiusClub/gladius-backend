{
 "cells": [
  {
   "attachments": {},
   "cell_type": "markdown",
   "metadata": {},
   "source": [
    "# The Gladius Data Model"
   ]
  },
  {
   "attachments": {},
   "cell_type": "markdown",
   "metadata": {},
   "source": [
    "### Data Model Structure"
   ]
  },
  {
   "attachments": {},
   "cell_type": "markdown",
   "metadata": {},
   "source": [
    "\n",
    "Collection: \"clubs\"\n",
    "\n",
    "Document: \"club_id\"\n",
    "Club data fields\n",
    "Sub-collection: \"events\"\n",
    "Document: \"event_id\"\n",
    "Event data fields\n",
    "Sub-collection: \"occurrences\"\n",
    "Document: \"occurrence_id\"\n",
    "Occurrence data fields\n",
    "Sub-collection: \"attendance\"\n",
    "Document: \"attendance_id\"\n",
    "Field: \"user_id\" (to reference the attending user)\n",
    "Field: \"score\" (record the score for the user at this occurrence)\n",
    "\n",
    "Collection: \"users\"\n",
    "\n",
    "Document: \"user_id\"\n",
    "User data fields\n",
    "Sub-collection: \"scores\"\n",
    "Document: \"score_id\"\n",
    "Field: \"club_id\" (to reference the club)\n",
    "Field: \"event_id\" (to reference the event)\n",
    "Field: \"occurrence_id\" (to reference the occurrence)\n",
    "Field: \"score\" (the user's score for this event occurrence)\n"
   ]
  },
  {
   "cell_type": "code",
   "execution_count": 1,
   "metadata": {},
   "outputs": [],
   "source": [
    "# Installs\n",
    "#!pip install firebase-admin"
   ]
  },
  {
   "cell_type": "code",
   "execution_count": 2,
   "metadata": {},
   "outputs": [],
   "source": [
    "\n",
    "# Import firebase_admin and initialize the app\n",
    "import firebase_admin\n",
    "from firebase_admin import auth, credentials, firestore\n",
    "import random\n"
   ]
  },
  {
   "attachments": {},
   "cell_type": "markdown",
   "metadata": {},
   "source": [
    "Authentication"
   ]
  },
  {
   "cell_type": "code",
   "execution_count": 3,
   "metadata": {},
   "outputs": [],
   "source": [
    "if not firebase_admin._apps:\n",
    "    cred = credentials.Certificate(\"../firebase-adminsdk.json\")\n",
    "    default_app = firebase_admin.initialize_app(cred)\n",
    "# Get a reference to the firestore database\n",
    "db = firestore.client()"
   ]
  },
  {
   "attachments": {},
   "cell_type": "markdown",
   "metadata": {},
   "source": [
    "# Create users with authentication"
   ]
  },
  {
   "attachments": {},
   "cell_type": "markdown",
   "metadata": {},
   "source": [
    "### Delete all auth users"
   ]
  },
  {
   "cell_type": "code",
   "execution_count": 4,
   "metadata": {},
   "outputs": [
    {
     "name": "stdout",
     "output_type": "stream",
     "text": [
      "Deleted user: 0NJODUUON2Vgbi3oljEwNYvidhf2\n",
      "Deleted user: 7ObuzTQ6JvYlscl0SUOo8VugYGd2\n",
      "Deleted user: FOT2uG85SOUBJJS4mjYylLdTU913\n",
      "Deleted user: Kd0hmmihopNFyw1Ow084N9tFcUj1\n",
      "Deleted user: OHZnSkynnPdKwo499G1efGLcI9j2\n",
      "Deleted user: OVX7GF7ehxgd1msev9NiIt1bRtN2\n",
      "Deleted user: bA55tE1YmUUL5SZltErQr6ZaR4A2\n",
      "Deleted user: gAn93QCaqKOGxwcdsLyFy0KSRob2\n",
      "Deleted user: rkvzf2W4rrOJSIQDvgpnyjCoBpK2\n",
      "Deleted user: wxLp7s7sq0gFiHhaEb0pWYlDb2l1\n",
      "Deleted user: zwyZTrjf5uMreUlOtyy8bmOuzst2\n",
      "All users have been deleted.\n"
     ]
    }
   ],
   "source": [
    "user_list = auth.list_users()\n",
    "\n",
    "# Iterate over each user and delete them\n",
    "for user in user_list.users:\n",
    "    auth.delete_user(user.uid)\n",
    "    print(f\"Deleted user: {user.uid}\")\n",
    "\n",
    "print(\"All users have been deleted.\")"
   ]
  },
  {
   "attachments": {},
   "cell_type": "markdown",
   "metadata": {},
   "source": [
    "### Create new auth users"
   ]
  },
  {
   "cell_type": "code",
   "execution_count": 5,
   "metadata": {},
   "outputs": [
    {
     "name": "stdout",
     "output_type": "stream",
     "text": [
      "Successfully created new user: OmhJNOUIJjVtXGOu6oPKdq9YAmH3\n",
      "Successfully created new user: dzF6x0Gl7ZRx9AoF3egFxlFc3uo1\n",
      "Successfully created new user: 3zAtGoYEBfQ2wMDSdV4ARgaS4x12\n",
      "Successfully created new user: ZSV5DCw5cJWRmF574DgNkVvZdJh2\n",
      "Successfully created new user: XXKdbC6aD8OsR56nrhvMgJ8Ysme2\n",
      "Successfully created new user: TnkbLqtlivR4t678By9Kiekb3bq2\n",
      "Successfully created new user: MOYbXq0AFncbx19jdepiG2bxdSu1\n",
      "Successfully created new user: tmQKJuK4zQMUOCiPy1QZQOauirh1\n",
      "Successfully created new user: 8G8vmzaLicV5K9IBYm6YiVZ3dXZ2\n",
      "Successfully created new user: bnb0HQJu9GWG5HCzVSXSSranCgr1\n",
      "Successfully created new user: s8JIw6ahhcSNPlvArCANQUmSh1e2\n"
     ]
    }
   ],
   "source": [
    "# Create a list of users to add\n",
    "users = [\"Mare\", \"Jüri\", \"Liisa\", \"Mart\", \"Evelin\", \"Tõnis\", \"Mari\", \"Henrik\", \"Triin\", \"Jaak\", 'Bob']\n",
    "\n",
    "\n",
    "user_uuids = {}\n",
    "# Loop through the users and create them with a default password\n",
    "for user in users:\n",
    "  try:\n",
    "    # Create the user with the email and password\n",
    "    user_record = auth.create_user(\n",
    "      email=f'{user.lower()}@example.com',\n",
    "      password='123456'\n",
    "    )\n",
    "    user_uuids[user] = user_record.uid\n",
    "    # Print the user ID\n",
    "    print(f'Successfully created new user: {user_record.uid}')\n",
    "  except firebase_admin.auth.AuthError as e:\n",
    "    # Handle any errors\n",
    "    print(f'Error creating new user: {e}')"
   ]
  },
  {
   "attachments": {},
   "cell_type": "markdown",
   "metadata": {},
   "source": [
    "### Delete user collection"
   ]
  },
  {
   "cell_type": "code",
   "execution_count": 6,
   "metadata": {},
   "outputs": [
    {
     "name": "stdout",
     "output_type": "stream",
     "text": [
      "Users collection deleted successfully.\n"
     ]
    }
   ],
   "source": [
    "## Delete user collection\n",
    "# Function to delete a collection and its documents\n",
    "def delete_collection(collection_ref, batch_size):\n",
    "    docs = collection_ref.limit(batch_size).stream()\n",
    "    deleted = 0\n",
    "\n",
    "    for doc in docs:\n",
    "        doc.reference.delete()\n",
    "        deleted += 1\n",
    "\n",
    "    if deleted >= batch_size:\n",
    "        return delete_collection(collection_ref, batch_size)\n",
    "\n",
    "# Specify the \"users\" collection to be deleted\n",
    "users_collection_ref = db.collection(\"users\")\n",
    "\n",
    "# Delete the \"users\" collection and its documents\n",
    "delete_collection(users_collection_ref, 500)\n",
    "\n",
    "print(\"Users collection deleted successfully.\")"
   ]
  },
  {
   "attachments": {},
   "cell_type": "markdown",
   "metadata": {},
   "source": [
    "## Add users collection"
   ]
  },
  {
   "cell_type": "code",
   "execution_count": 7,
   "metadata": {},
   "outputs": [
    {
     "name": "stdout",
     "output_type": "stream",
     "text": [
      "Successfully created user: OmhJNOUIJjVtXGOu6oPKdq9YAmH3\n",
      "Successfully created user: dzF6x0Gl7ZRx9AoF3egFxlFc3uo1\n",
      "Successfully created user: 3zAtGoYEBfQ2wMDSdV4ARgaS4x12\n",
      "Successfully created user: ZSV5DCw5cJWRmF574DgNkVvZdJh2\n",
      "Successfully created user: XXKdbC6aD8OsR56nrhvMgJ8Ysme2\n",
      "Successfully created user: TnkbLqtlivR4t678By9Kiekb3bq2\n",
      "Successfully created user: MOYbXq0AFncbx19jdepiG2bxdSu1\n",
      "Successfully created user: tmQKJuK4zQMUOCiPy1QZQOauirh1\n",
      "Successfully created user: 8G8vmzaLicV5K9IBYm6YiVZ3dXZ2\n",
      "Successfully created user: bnb0HQJu9GWG5HCzVSXSSranCgr1\n",
      "Successfully created user: s8JIw6ahhcSNPlvArCANQUmSh1e2\n"
     ]
    }
   ],
   "source": [
    "# Create a collection for users\n",
    "users_collection = db.collection(\"users\")\n",
    "\n",
    "user_clubs_roles = {}\n",
    "\n",
    "for user in users:\n",
    "    user_data = {\n",
    "        \"name\": user,\n",
    "        \"email\": f\"{user.lower()}@example.com\",\n",
    "        \"age\": random.randint(18, 60),\n",
    "        \"occupation\": random.choice([\"Student\", \"Engineer\", \"Teacher\", \"Artist\"]),\n",
    "        \"is_active\": random.choice([True, False]),\n",
    "        \"clubs_roles\": [],  # initialize an empty list for clubs and roles\n",
    "    }\n",
    "\n",
    "    user_ref = users_collection.document(user_uuids[user])\n",
    "    user_ref.set(user_data)\n",
    "    print(f\"Successfully created user: {user_uuids[user]}\")\n",
    "\n",
    "    if user in [\"Bob\", \"Mare\"]:\n",
    "        user_clubs_roles[user_uuids[user]] = [{\"club_id\": \"1\", \"role\": \"owner\"}]\n",
    "    else:\n",
    "        user_clubs_roles[user_uuids[user]] = [{\"club_id\": \"1\", \"role\": \"athlete\"}]\n",
    "\n",
    "# After creating all users, update the users with their clubs and roles\n",
    "for user_uuid, clubs_roles in user_clubs_roles.items():\n",
    "    user_ref = users_collection.document(user_uuid)\n",
    "    user_ref.update({\"clubs_roles\": clubs_roles})\n"
   ]
  },
  {
   "attachments": {},
   "cell_type": "markdown",
   "metadata": {},
   "source": [
    "## Delete Club collection"
   ]
  },
  {
   "cell_type": "code",
   "execution_count": 10,
   "metadata": {},
   "outputs": [
    {
     "name": "stdout",
     "output_type": "stream",
     "text": [
      "Clubs collection deleted successfully.\n"
     ]
    }
   ],
   "source": [
    "## Delete user collection\n",
    "# Function to delete a collection and its documents\n",
    "def delete_collection(collection_ref, batch_size):\n",
    "    docs = collection_ref.limit(batch_size).stream()\n",
    "    deleted = 0\n",
    "\n",
    "    for doc in docs:\n",
    "        doc.reference.delete()\n",
    "        deleted += 1\n",
    "\n",
    "    if deleted >= batch_size:\n",
    "        return delete_collection(collection_ref, batch_size)\n",
    "\n",
    "# Specify the \"users\" collection to be deleted\n",
    "users_collection_ref = db.collection(\"clubs\")\n",
    "\n",
    "# Delete the \"users\" collection and its documents\n",
    "delete_collection(users_collection_ref, 500)\n",
    "\n",
    "print(\"Clubs collection deleted successfully.\")"
   ]
  },
  {
   "attachments": {},
   "cell_type": "markdown",
   "metadata": {},
   "source": [
    "## Add club collection"
   ]
  },
  {
   "cell_type": "code",
   "execution_count": 12,
   "metadata": {},
   "outputs": [],
   "source": [
    "\n",
    "# Create a collection for clubs\n",
    "clubs_collection = db.collection(\"clubs\")\n",
    "\n",
    "# Create a document for a club with some data fields\n",
    "club_id = '1'\n",
    "club_data = {\n",
    "    \"name\": \"Gladius Club\",\n",
    "    \"description\": \"A Learn to Earn Club\",\n",
    "}\n",
    "club_ref = clubs_collection.document(club_id)\n",
    "club_ref.set(club_data)\n",
    "\n",
    "# Create a users subcollection under the club\n",
    "users_subcollection = club_ref.collection(\"users\")\n",
    "\n",
    "# Add users to the users subcollection\n",
    "for user_uuid, clubs_roles in user_clubs_roles.items():\n",
    "    for role in clubs_roles:\n",
    "        if role[\"club_id\"] == \"1\":\n",
    "            # Get user data from the users collection\n",
    "            user_doc_ref = users_collection.document(user_uuid)\n",
    "            user_snapshot = user_doc_ref.get()\n",
    "            user_data = user_snapshot.to_dict()\n",
    "\n",
    "            # Create the user data to be stored in the subcollection\n",
    "            user_subcollection_data = {\n",
    "                \"user\": user_uuid,\n",
    "                \"name\": user_data[\"name\"],\n",
    "                \"email\": user_data[\"email\"],\n",
    "                \"role\": role[\"role\"],\n",
    "            }\n",
    "            users_subcollection.document(user_uuid).set(user_subcollection_data)\n",
    "\n"
   ]
  },
  {
   "attachments": {},
   "cell_type": "markdown",
   "metadata": {},
   "source": [
    "## Add events to clubs"
   ]
  },
  {
   "attachments": {},
   "cell_type": "markdown",
   "metadata": {},
   "source": [
    "### Listing events from calendar"
   ]
  },
  {
   "cell_type": "code",
   "execution_count": 25,
   "metadata": {},
   "outputs": [],
   "source": [
    "googleCalendarId = \"dcromp88@googlemail.com\"\n",
    "\n",
    "\n",
    "SCOPES = ['https://www.googleapis.com/auth/calendar']\n",
    "SERVICE_ACCOUNT_FILE = '../firebase-adminsdk.json'"
   ]
  },
  {
   "cell_type": "code",
   "execution_count": 27,
   "metadata": {},
   "outputs": [
    {
     "name": "stdout",
     "output_type": "stream",
     "text": [
      "Getting the upcoming 10 events\n",
      "2023-06-23T19:00:00+02:00 Training\n",
      "2023-06-23T20:00:00+02:00 Adult Training\n",
      "2023-06-27T19:00:00+02:00 Training\n",
      "2023-06-30T19:00:00+02:00 Training\n",
      "2023-06-30T20:00:00+02:00 Adult Training\n",
      "2023-07-04T19:00:00+02:00 Training\n",
      "2023-07-07T19:00:00+02:00 Training\n",
      "2023-07-07T20:00:00+02:00 Adult Training\n",
      "2023-07-11T19:00:00+02:00 Training\n",
      "2023-07-14T19:00:00+02:00 Training\n"
     ]
    }
   ],
   "source": [
    "from __future__ import print_function\n",
    "\n",
    "import datetime\n",
    "import os.path\n",
    "\n",
    "from google.auth.transport.requests import Request\n",
    "from google.oauth2.credentials import Credentials\n",
    "from google_auth_oauthlib.flow import InstalledAppFlow\n",
    "from googleapiclient.discovery import build\n",
    "from googleapiclient.errors import HttpError\n",
    "from google.oauth2 import service_account\n",
    "\n",
    "\n",
    "# If modifying these scopes, delete the file token.json.\n",
    "SCOPES = ['https://www.googleapis.com/auth/calendar.readonly']\n",
    "\n",
    "\n",
    "\n",
    "\n",
    "def main():\n",
    "    creds = service_account.Credentials.from_service_account_file(\n",
    "        SERVICE_ACCOUNT_FILE, scopes=SCOPES)\n",
    "\n",
    "\n",
    "    try:\n",
    "        service = build('calendar', 'v3', credentials=creds)\n",
    "\n",
    "        # Call the Calendar API\n",
    "        now = datetime.datetime.utcnow().isoformat() + 'Z'  # 'Z' indicates UTC time\n",
    "        print('Getting the upcoming 10 events')\n",
    "        events_result = service.events().list(calendarId=googleCalendarId, timeMin=now,\n",
    "                                              maxResults=10, singleEvents=True,\n",
    "                                              orderBy='startTime').execute()\n",
    "        events = events_result.get('items', [])\n",
    "\n",
    "        if not events:\n",
    "            print('No upcoming events found.')\n",
    "            return\n",
    "\n",
    "        # Prints the start and name of the next 10 events\n",
    "        for event in events:\n",
    "            start = event['start'].get('dateTime', event['start'].get('date'))\n",
    "            print(start, event['summary'])\n",
    "\n",
    "    except HttpError as error:\n",
    "        print('An error occurred: %s' % error)\n",
    "\n",
    "\n",
    "if __name__ == '__main__':\n",
    "    main()\n",
    "\n"
   ]
  },
  {
   "attachments": {},
   "cell_type": "markdown",
   "metadata": {},
   "source": [
    "### Add events to Firebase [events] collection"
   ]
  },
  {
   "cell_type": "code",
   "execution_count": 38,
   "metadata": {},
   "outputs": [
    {
     "name": "stderr",
     "output_type": "stream",
     "text": [
      "/home/alexsi/.local/lib/python3.10/site-packages/google/auth/_default.py:78: UserWarning: Your application has authenticated using end user credentials from Google Cloud SDK without a quota project. You might receive a \"quota exceeded\" or \"API not enabled\" error. See the following page for troubleshooting: https://cloud.google.com/docs/authentication/adc-troubleshooting/user-creds. \n",
      "  warnings.warn(_CLOUD_SDK_CREDENTIALS_WARNING)\n"
     ]
    },
    {
     "name": "stdout",
     "output_type": "stream",
     "text": [
      "Getting the upcoming 10 events\n",
      "2023-06-23T19:00:00+02:00 Training\n",
      "2023-06-23T19:00:00+02:00 Training  added\n",
      "2023-06-23T20:00:00+02:00 Adult Training\n",
      "2023-06-23T20:00:00+02:00 Adult Training  added\n",
      "2023-06-27T19:00:00+02:00 Training\n",
      "2023-06-27T19:00:00+02:00 Training  added\n",
      "2023-06-30T19:00:00+02:00 Training\n",
      "2023-06-30T19:00:00+02:00 Training  added\n",
      "2023-06-30T20:00:00+02:00 Adult Training\n",
      "2023-06-30T20:00:00+02:00 Adult Training  added\n",
      "2023-07-04T19:00:00+02:00 Training\n",
      "2023-07-04T19:00:00+02:00 Training  added\n",
      "2023-07-07T19:00:00+02:00 Training\n",
      "2023-07-07T19:00:00+02:00 Training  added\n",
      "2023-07-07T20:00:00+02:00 Adult Training\n",
      "2023-07-07T20:00:00+02:00 Adult Training  added\n",
      "2023-07-11T19:00:00+02:00 Training\n",
      "2023-07-11T19:00:00+02:00 Training  added\n",
      "2023-07-14T19:00:00+02:00 Training\n",
      "2023-07-14T19:00:00+02:00 Training  added\n"
     ]
    }
   ],
   "source": [
    "import os\n",
    "os.environ[\"GCLOUD_PROJECT\"] = \"wallet-login-45c1c\"\n",
    "\n",
    "from google.oauth2.credentials import Credentials\n",
    "from googleapiclient.discovery import build\n",
    "from googleapiclient.errors import HttpError\n",
    "from google.oauth2 import service_account\n",
    "\n",
    "\n",
    "#SCOPES = ['https://www.googleapis.com/auth/calendar']\n",
    "#SERVICE_ACCOUNT_FILE = '../firebase-adminsdk.json'\n",
    "\n",
    "def import_events():\n",
    "    # Set up the Calendar API\n",
    "    \n",
    "    creds = service_account.Credentials.from_service_account_file(\n",
    "        SERVICE_ACCOUNT_FILE, scopes=SCOPES)\n",
    "    \n",
    "\n",
    "    service = build('calendar', 'v3', credentials=creds)\n",
    "\n",
    "\n",
    "    # Get the events from the public calendar\n",
    "    # Call the Calendar API\n",
    "    now = datetime.datetime.utcnow().isoformat() + 'Z'  # 'Z' indicates UTC time\n",
    "    print('Getting the upcoming 10 events')\n",
    "        \n",
    "    events_result = service.events().list(calendarId=googleCalendarId, timeMin=now,\n",
    "                                              maxResults=10, singleEvents=True,\n",
    "                                              orderBy='startTime').execute()\n",
    "    events = events_result.get('items', [])\n",
    "\n",
    "    #rewrite creds\n",
    "    if not firebase_admin._apps:\n",
    "\n",
    "        firebase_cred = credentials.Certificate(\"../firebase-adminsdk.json\")\n",
    "        default_app = firebase_admin.initialize_app(firebase_cred)\n",
    "\n",
    "    db = firestore.client()\n",
    "\n",
    "    # Add each event to Firestore\n",
    "    for event in events:\n",
    "        start = event['start'].get('dateTime', event['start'].get('date'))\n",
    "        print(start, event['summary'])\n",
    "\n",
    "        event_ref = db.collection('events').document(event['summary'])\n",
    "        event_ref.set(event)\n",
    "        print(start, event['summary'], ' added')\n",
    "\n",
    "\n",
    "if __name__ == '__main__':\n",
    "    import_events()\n"
   ]
  },
  {
   "attachments": {},
   "cell_type": "markdown",
   "metadata": {},
   "source": [
    "### Create groups"
   ]
  },
  {
   "cell_type": "code",
   "execution_count": 5,
   "metadata": {},
   "outputs": [],
   "source": [
    "firestore_client = firestore.client()"
   ]
  },
  {
   "cell_type": "code",
   "execution_count": 6,
   "metadata": {},
   "outputs": [],
   "source": [
    "# Create a collection named 'groups'\n",
    "groups_ref = firestore_client.collection('groups')"
   ]
  },
  {
   "cell_type": "code",
   "execution_count": 7,
   "metadata": {},
   "outputs": [
    {
     "data": {
      "text/plain": [
       "update_time {\n",
       "  seconds: 1687524363\n",
       "  nanos: 541386000\n",
       "}"
      ]
     },
     "execution_count": 7,
     "metadata": {},
     "output_type": "execute_result"
    }
   ],
   "source": [
    "# Create a document with ID 'group1' and some data\n",
    "group1_ref = groups_ref.document('group1')\n",
    "group1_ref.set({\n",
    "    'name': 'Group 1',\n",
    "    'members': ['Alice', 'Bob', 'Charlie']\n",
    "})\n",
    "\n",
    "# Create another document with ID 'group2' and some data\n",
    "group2_ref = groups_ref.document('group2')\n",
    "group2_ref.set({\n",
    "    'name': 'Group 2',\n",
    "    'members': ['David', 'Eve', 'Frank']\n",
    "})"
   ]
  },
  {
   "attachments": {},
   "cell_type": "markdown",
   "metadata": {},
   "source": [
    "### Create test events manually\n",
    "Testing the strucutre"
   ]
  },
  {
   "cell_type": "code",
   "execution_count": 36,
   "metadata": {},
   "outputs": [
    {
     "data": {
      "text/plain": [
       "update_time {\n",
       "  seconds: 1687533427\n",
       "  nanos: 938552000\n",
       "}"
      ]
     },
     "execution_count": 36,
     "metadata": {},
     "output_type": "execute_result"
    }
   ],
   "source": [
    "# Create a collection named 'events'\n",
    "events_ref = firestore_client.collection('events')\n",
    "\n",
    "# Create a document with ID 'event1' and a reference to group1\n",
    "event1_ref = events_ref.document('event1')\n",
    "event1_ref.set({\n",
    "    'name': 'Event 1',\n",
    "    'date': '2023-06-30',\n",
    "    'group': group1_ref # Reference to group1 document\n",
    "})\n",
    "\n",
    "# Create another document with ID 'event2' and a reference to group2\n",
    "event2_ref = events_ref.document('event2')\n",
    "event2_ref.set({\n",
    "    'name': 'Event 2',\n",
    "    'date': '2023-07-01',\n",
    "    'group': group2_ref # Reference to group2 document\n",
    "})"
   ]
  },
  {
   "attachments": {},
   "cell_type": "markdown",
   "metadata": {},
   "source": [
    "### OLD VERSION OF EVENTS"
   ]
  },
  {
   "cell_type": "code",
   "execution_count": null,
   "metadata": {},
   "outputs": [
    {
     "data": {
      "text/plain": [
       "update_time {\n",
       "  seconds: 1687370617\n",
       "  nanos: 317941000\n",
       "}"
      ]
     },
     "execution_count": 24,
     "metadata": {},
     "output_type": "execute_result"
    }
   ],
   "source": [
    "# Create a sub-collection for events under the club document\n",
    "events = club_ref.collection(\"events\")\n",
    "\n",
    "# Create a document for an event with some data fields\n",
    "event_id = \"456\"\n",
    "event_data = {\n",
    "    \"title\": \"Fencing Tournament\",\n",
    "    \"date\": \"2023-06-30\",\n",
    "    \"location\": \"Gladius Arena\"\n",
    "}\n",
    "event_ref = events.document(event_id)\n",
    "event_ref.set(event_data)\n",
    "\n",
    "# Create a sub-collection for occurrences under the event document\n",
    "occurrences = event_ref.collection(\"occurrences\")\n",
    "\n",
    "# Create a document for an occurrence with some data fields\n",
    "occurrence_id = \"789\"\n",
    "occurrence_data = {\n",
    "    \"start_time\": \"14:00\",\n",
    "    \"end_time\": \"16:00\",\n",
    "    \"participants\": [\"Alice\", \"Bob\"]\n",
    "}\n",
    "occurrence_ref = occurrences.document(occurrence_id)\n",
    "occurrence_ref.set(occurrence_data)\n",
    "\n",
    "# Create a sub-collection for attendance under the occurrence document\n",
    "attendance = occurrence_ref.collection(\"attendance\")\n",
    "\n",
    "# Create a document for an attendance with some data fields\n",
    "attendance_id = \"1011\"\n",
    "attendance_data = {\n",
    "    \"name\": \"Alice\",\n",
    "    \"score\": 3\n",
    "}\n",
    "attendance_ref = attendance.document(attendance_id)\n",
    "attendance_ref.set(attendance_data)"
   ]
  }
 ],
 "metadata": {
  "kernelspec": {
   "display_name": "base",
   "language": "python",
   "name": "python3"
  },
  "language_info": {
   "codemirror_mode": {
    "name": "ipython",
    "version": 3
   },
   "file_extension": ".py",
   "mimetype": "text/x-python",
   "name": "python",
   "nbconvert_exporter": "python",
   "pygments_lexer": "ipython3",
   "version": "3.9.6"
  },
  "orig_nbformat": 4
 },
 "nbformat": 4,
 "nbformat_minor": 2
}
