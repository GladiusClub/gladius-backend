{
 "cells": [
  {
   "attachments": {},
   "cell_type": "markdown",
   "metadata": {},
   "source": [
    "# The Gladius Data Model"
   ]
  },
  {
   "attachments": {},
   "cell_type": "markdown",
   "metadata": {},
   "source": [
    "### Data Model Structure"
   ]
  },
  {
   "attachments": {},
   "cell_type": "markdown",
   "metadata": {},
   "source": [
    "\n",
    "Collection: \"clubs\"\n",
    "\n",
    "Document: \"club_id\"\n",
    "Club data fields\n",
    "Sub-collection: \"events\"\n",
    "Document: \"event_id\"\n",
    "Event data fields\n",
    "Sub-collection: \"occurrences\"\n",
    "Document: \"occurrence_id\"\n",
    "Occurrence data fields\n",
    "Sub-collection: \"attendance\"\n",
    "Document: \"attendance_id\"\n",
    "Field: \"user_id\" (to reference the attending user)\n",
    "Field: \"score\" (record the score for the user at this occurrence)\n",
    "\n",
    "Collection: \"users\"\n",
    "\n",
    "Document: \"user_id\"\n",
    "User data fields\n",
    "Sub-collection: \"scores\"\n",
    "Document: \"score_id\"\n",
    "Field: \"club_id\" (to reference the club)\n",
    "Field: \"event_id\" (to reference the event)\n",
    "Field: \"occurrence_id\" (to reference the occurrence)\n",
    "Field: \"score\" (the user's score for this event occurrence)\n"
   ]
  },
  {
   "cell_type": "code",
   "execution_count": 49,
   "metadata": {},
   "outputs": [],
   "source": [
    "# Installs\n",
    "#!pip install firebase-admin"
   ]
  },
  {
   "cell_type": "code",
   "execution_count": 50,
   "metadata": {},
   "outputs": [],
   "source": [
    "\n",
    "# Import firebase_admin and initialize the app\n",
    "import firebase_admin\n",
    "from firebase_admin import auth, credentials, firestore\n",
    "import random\n"
   ]
  },
  {
   "attachments": {},
   "cell_type": "markdown",
   "metadata": {},
   "source": [
    "Authentication"
   ]
  },
  {
   "cell_type": "code",
   "execution_count": 51,
   "metadata": {},
   "outputs": [],
   "source": [
    "if not firebase_admin._apps:\n",
    "    cred = credentials.Certificate(\"../firebase-adminsdk.json\")\n",
    "    default_app = firebase_admin.initialize_app(cred)\n",
    "# Get a reference to the firestore database\n",
    "db = firestore.client()"
   ]
  },
  {
   "attachments": {},
   "cell_type": "markdown",
   "metadata": {},
   "source": [
    "# Create users with authentication"
   ]
  },
  {
   "attachments": {},
   "cell_type": "markdown",
   "metadata": {},
   "source": [
    "### Delete all auth users"
   ]
  },
  {
   "cell_type": "code",
   "execution_count": 52,
   "metadata": {},
   "outputs": [
    {
     "name": "stdout",
     "output_type": "stream",
     "text": [
      "Deleted user: BKmW7N3BeKVxnIl0rbQwqgScmno2\n",
      "Deleted user: Bg0stmW4SwRyaux5PAdTNDagWZl1\n",
      "Deleted user: DOsqHsE3nIUr9RXGglTyCPDebUg2\n",
      "Deleted user: IBki9jrgi4UtKNM5GaoNP3Rv0U13\n",
      "Deleted user: QBqf9fpqmAbeh8rH9XbfTvTbth72\n",
      "Deleted user: UYqZyLLL0Gfdupx5wHGLm4zkcai1\n",
      "Deleted user: ZqGGKYYWQhNTCeQuylpeMmsdpjt1\n",
      "Deleted user: gPePcGPh6sg7qdC8Pd61YXDplKs1\n",
      "Deleted user: iJ6I5mg8aGW0C49l2RRS3IZSljG3\n",
      "Deleted user: kyR5S1EBlHXzOO8dPLE7g5DNhd43\n",
      "Deleted user: yZwYEmMyc4fxd2JI1cshOq4wSFB2\n",
      "All users have been deleted.\n"
     ]
    }
   ],
   "source": [
    "user_list = auth.list_users()\n",
    "\n",
    "# Iterate over each user and delete them\n",
    "for user in user_list.users:\n",
    "    auth.delete_user(user.uid)\n",
    "    print(f\"Deleted user: {user.uid}\")\n",
    "\n",
    "print(\"All users have been deleted.\")"
   ]
  },
  {
   "attachments": {},
   "cell_type": "markdown",
   "metadata": {},
   "source": [
    "### Create new auth users"
   ]
  },
  {
   "cell_type": "code",
   "execution_count": 53,
   "metadata": {},
   "outputs": [
    {
     "name": "stdout",
     "output_type": "stream",
     "text": [
      "Successfully created new user: wakWc93Le9To3xWDyrQqnXIzcdy2\n",
      "Successfully created new user: J8FG9JcM1MhCwybnPsAEQmmlKVu2\n",
      "Successfully created new user: meiLzj7pVRTL3076QhOwpYHCzbJ2\n",
      "Successfully created new user: 8BOczr3bJThrlXYjgpi1C2NfvUs2\n",
      "Successfully created new user: 9ACvW23WNdge7N6BztUhbaIDYmx2\n",
      "Successfully created new user: 1ZvF76PQCkc03oLhGFEVWzEwChC3\n",
      "Successfully created new user: lYRXOi3Xh1QqQDTWBSxnzS3jQ7i2\n",
      "Successfully created new user: II1C7lDEaoYsVLwX5NHq0VxOAdG2\n",
      "Successfully created new user: nBqerjT2x9dyLo9x1JspjgLJhRE2\n",
      "Successfully created new user: JyAba6MjHsONVPt9C0QjAYibxKE2\n",
      "Successfully created new user: jjzEiaH1SqN92fMuQSapSbKuHVB2\n"
     ]
    }
   ],
   "source": [
    "# Create a list of users to add\n",
    "users = [\"Mare\", \"Jüri\", \"Liisa\", \"Mart\", \"Evelin\", \"Tõnis\", \"Mari\", \"Henrik\", \"Triin\", \"Jaak\", 'Bob']\n",
    "\n",
    "\n",
    "user_uuids = {}\n",
    "# Loop through the users and create them with a default password\n",
    "for user in users:\n",
    "  try:\n",
    "    # Create the user with the email and password\n",
    "    user_record = auth.create_user(\n",
    "      email=f'{user.lower()}@example.com',\n",
    "      password='123456'\n",
    "    )\n",
    "    user_uuids[user] = user_record.uid\n",
    "    # Print the user ID\n",
    "    print(f'Successfully created new user: {user_record.uid}')\n",
    "  except firebase_admin.auth.AuthError as e:\n",
    "    # Handle any errors\n",
    "    print(f'Error creating new user: {e}')"
   ]
  },
  {
   "attachments": {},
   "cell_type": "markdown",
   "metadata": {},
   "source": [
    "### Delete user collection"
   ]
  },
  {
   "cell_type": "code",
   "execution_count": 54,
   "metadata": {},
   "outputs": [
    {
     "name": "stdout",
     "output_type": "stream",
     "text": [
      "Users collection deleted successfully.\n"
     ]
    }
   ],
   "source": [
    "## Delete user collection\n",
    "# Function to delete a collection and its documents\n",
    "def delete_collection(collection_ref, batch_size):\n",
    "    docs = collection_ref.limit(batch_size).stream()\n",
    "    deleted = 0\n",
    "\n",
    "    for doc in docs:\n",
    "        doc.reference.delete()\n",
    "        deleted += 1\n",
    "\n",
    "    if deleted >= batch_size:\n",
    "        return delete_collection(collection_ref, batch_size)\n",
    "\n",
    "# Specify the \"users\" collection to be deleted\n",
    "users_collection_ref = db.collection(\"users\")\n",
    "\n",
    "# Delete the \"users\" collection and its documents\n",
    "delete_collection(users_collection_ref, 500)\n",
    "\n",
    "print(\"Users collection deleted successfully.\")"
   ]
  },
  {
   "attachments": {},
   "cell_type": "markdown",
   "metadata": {},
   "source": [
    "## Add users collection"
   ]
  },
  {
   "cell_type": "code",
   "execution_count": 55,
   "metadata": {},
   "outputs": [
    {
     "name": "stdout",
     "output_type": "stream",
     "text": [
      "Successfully created user: wakWc93Le9To3xWDyrQqnXIzcdy2\n",
      "Successfully created user: J8FG9JcM1MhCwybnPsAEQmmlKVu2\n",
      "Successfully created user: meiLzj7pVRTL3076QhOwpYHCzbJ2\n",
      "Successfully created user: 8BOczr3bJThrlXYjgpi1C2NfvUs2\n",
      "Successfully created user: 9ACvW23WNdge7N6BztUhbaIDYmx2\n",
      "Successfully created user: 1ZvF76PQCkc03oLhGFEVWzEwChC3\n",
      "Successfully created user: lYRXOi3Xh1QqQDTWBSxnzS3jQ7i2\n",
      "Successfully created user: II1C7lDEaoYsVLwX5NHq0VxOAdG2\n",
      "Successfully created user: nBqerjT2x9dyLo9x1JspjgLJhRE2\n",
      "Successfully created user: JyAba6MjHsONVPt9C0QjAYibxKE2\n",
      "Successfully created user: jjzEiaH1SqN92fMuQSapSbKuHVB2\n"
     ]
    }
   ],
   "source": [
    "# Create a collection for users\n",
    "users_collection = db.collection(\"users\")\n",
    "\n",
    "user_clubs_roles = {}\n",
    "\n",
    "for user in users:\n",
    "    user_data = {\n",
    "        \"name\": user,\n",
    "        \"email\": f\"{user.lower()}@example.com\",\n",
    "        \"age\": random.randint(18, 60),\n",
    "        \"occupation\": random.choice([\"Student\", \"Engineer\", \"Teacher\", \"Artist\"]),\n",
    "        \"is_active\": random.choice([True, False]),\n",
    "        \"clubs_roles\": [],  # initialize an empty list for clubs and roles\n",
    "    }\n",
    "\n",
    "    user_ref = users_collection.document(user_uuids[user])\n",
    "    user_ref.set(user_data)\n",
    "    print(f\"Successfully created user: {user_uuids[user]}\")\n",
    "\n",
    "    if user in [\"Bob\", \"Mare\"]:\n",
    "        user_clubs_roles[user_uuids[user]] = [{\"club_id\": \"1\", \"role\": \"owner\"}]\n",
    "    else:\n",
    "        user_clubs_roles[user_uuids[user]] = [{\"club_id\": \"1\", \"role\": \"athlete\"}]\n",
    "\n",
    "# After creating all users, update the users with their clubs and roles\n",
    "for user_uuid, clubs_roles in user_clubs_roles.items():\n",
    "    user_ref = users_collection.document(user_uuid)\n",
    "    user_ref.update({\"clubs_roles\": clubs_roles})\n"
   ]
  },
  {
   "attachments": {},
   "cell_type": "markdown",
   "metadata": {},
   "source": [
    "## Delete Club collection"
   ]
  },
  {
   "cell_type": "code",
   "execution_count": 63,
   "metadata": {},
   "outputs": [
    {
     "name": "stdout",
     "output_type": "stream",
     "text": [
      "Deleting doc 1 => None\n",
      "Deleting doc 0K8eufuc2slcVCpVXyMf => {'event_ids': [], 'member_uuids': [], 'name': 'names'}\n",
      "Deleting doc Cr5ScGxWjWRCcnwkXZ6g => {'event_ids': [], 'member_uuids': [], 'name': 'Test 2'}\n",
      "Deleting doc EDH2kDnWbeWBjjf33s2J => {'event_ids': [], 'member_uuids': ['BKmW7N3BeKVxnIl0rbQwqgScmno2', 'Bg0stmW4SwRyaux5PAdTNDagWZl1', 'DOsqHsE3nIUr9RXGglTyCPDebUg2'], 'name': '123 again'}\n",
      "Deleting doc KRLm8aOf74YMmb28rpT4 => {'name': 'Test'}\n",
      "Deleting doc MGBbB7aGJqrKwHQY3OPF => {'event_ids': [], 'member_uuids': [], 'name': 'a'}\n",
      "Deleting doc RA5hgFJNOhWHYBxseXW9 => {'event_ids': [], 'member_uuids': [], 'name': 'Alexey'}\n",
      "Deleting doc VUBH0AGuxl04V3AAX7vh => {'event_ids': [], 'member_uuids': [], 'name': 'With Members'}\n",
      "Deleting doc fXIoJsrm9xiLJGKsuPYr => {'events': [{'calendarId': 'dcromp88@googlemail.com', 'eventId': '4d06bu8godice3gdt7qs8k3cg4'}], 'member_uuids': ['J8FG9JcM1MhCwybnPsAEQmmlKVu2', 'wakWc93Le9To3xWDyrQqnXIzcdy2', 'JyAba6MjHsONVPt9C0QjAYibxKE2', 'II1C7lDEaoYsVLwX5NHq0VxOAdG2', 'meiLzj7pVRTL3076QhOwpYHCzbJ2', '9ACvW23WNdge7N6BztUhbaIDYmx2', 'jjzEiaH1SqN92fMuQSapSbKuHVB2', '8BOczr3bJThrlXYjgpi1C2NfvUs2', 'lYRXOi3Xh1QqQDTWBSxnzS3jQ7i2', '1ZvF76PQCkc03oLhGFEVWzEwChC3'], 'name': 'Random Group'}\n",
      "Deleting doc jOVS0S24Rv10BVKDEeor => {'event_ids': [], 'member_uuids': [], 'name': 'Quick Close'}\n",
      "Deleting doc kA6G0UoXHHweWIIMw8qS => {'event_ids': [], 'member_uuids': [], 'name': 'Super Tennis Stars'}\n",
      "Deleting doc kzquXAC7YcqZuCuIEvIn => {'event_ids': [], 'member_uuids': [], 'name': \"Bob's kick boxing\"}\n",
      "Deleting doc ymFrug8mO5WhFY9VbHZm => {'event_ids': [], 'member_uuids': [], 'name': 'Test3'}\n",
      "Deleting doc ypqB8bYKavoWTjMnY62a => {'event_ids': [], 'member_uuids': ['gPePcGPh6sg7qdC8Pd61YXDplKs1', 'iJ6I5mg8aGW0C49l2RRS3IZSljG3', 'DOsqHsE3nIUr9RXGglTyCPDebUg2', 'ZqGGKYYWQhNTCeQuylpeMmsdpjt1', 'UYqZyLLL0Gfdupx5wHGLm4zkcai1', 'IBki9jrgi4UtKNM5GaoNP3Rv0U13', 'Bg0stmW4SwRyaux5PAdTNDagWZl1', 'BKmW7N3BeKVxnIl0rbQwqgScmno2', 'kyR5S1EBlHXzOO8dPLE7g5DNhd43', 'QBqf9fpqmAbeh8rH9XbfTvTbth72'], 'name': 'Random Group'}\n",
      "Deleting doc 1ZvF76PQCkc03oLhGFEVWzEwChC3 => {'name': 'Tõnis', 'user': '1ZvF76PQCkc03oLhGFEVWzEwChC3', 'email': 'tõnis@example.com', 'role': 'athlete'}\n",
      "Deleting doc 8BOczr3bJThrlXYjgpi1C2NfvUs2 => {'name': 'Mart', 'user': '8BOczr3bJThrlXYjgpi1C2NfvUs2', 'email': 'mart@example.com', 'role': 'athlete'}\n",
      "Deleting doc 9ACvW23WNdge7N6BztUhbaIDYmx2 => {'name': 'Evelin', 'user': '9ACvW23WNdge7N6BztUhbaIDYmx2', 'email': 'evelin@example.com', 'role': 'athlete'}\n",
      "Deleting doc BKmW7N3BeKVxnIl0rbQwqgScmno2 => {'name': 'Jüri', 'user': 'BKmW7N3BeKVxnIl0rbQwqgScmno2', 'email': 'jüri@example.com', 'role': 'athlete'}\n",
      "Deleting doc Bg0stmW4SwRyaux5PAdTNDagWZl1 => {'name': 'Evelin', 'user': 'Bg0stmW4SwRyaux5PAdTNDagWZl1', 'email': 'evelin@example.com', 'role': 'athlete'}\n",
      "Deleting doc DOsqHsE3nIUr9RXGglTyCPDebUg2 => {'name': 'Henrik', 'user': 'DOsqHsE3nIUr9RXGglTyCPDebUg2', 'email': 'henrik@example.com', 'role': 'athlete'}\n",
      "Deleting doc IBki9jrgi4UtKNM5GaoNP3Rv0U13 => {'name': 'Bob', 'user': 'IBki9jrgi4UtKNM5GaoNP3Rv0U13', 'email': 'bob@example.com', 'role': 'owner'}\n",
      "Deleting doc II1C7lDEaoYsVLwX5NHq0VxOAdG2 => {'name': 'Henrik', 'user': 'II1C7lDEaoYsVLwX5NHq0VxOAdG2', 'email': 'henrik@example.com', 'role': 'athlete'}\n",
      "Deleting doc J8FG9JcM1MhCwybnPsAEQmmlKVu2 => {'name': 'Jüri', 'user': 'J8FG9JcM1MhCwybnPsAEQmmlKVu2', 'email': 'jüri@example.com', 'role': 'athlete'}\n",
      "Deleting doc JyAba6MjHsONVPt9C0QjAYibxKE2 => {'name': 'Jaak', 'user': 'JyAba6MjHsONVPt9C0QjAYibxKE2', 'email': 'jaak@example.com', 'role': 'athlete'}\n",
      "Deleting doc QBqf9fpqmAbeh8rH9XbfTvTbth72 => {'name': 'Liisa', 'user': 'QBqf9fpqmAbeh8rH9XbfTvTbth72', 'email': 'liisa@example.com', 'role': 'athlete'}\n",
      "Deleting doc UYqZyLLL0Gfdupx5wHGLm4zkcai1 => {'name': 'Mart', 'user': 'UYqZyLLL0Gfdupx5wHGLm4zkcai1', 'email': 'mart@example.com', 'role': 'athlete'}\n",
      "Deleting doc ZqGGKYYWQhNTCeQuylpeMmsdpjt1 => {'name': 'Jaak', 'user': 'ZqGGKYYWQhNTCeQuylpeMmsdpjt1', 'email': 'jaak@example.com', 'role': 'athlete'}\n",
      "Deleting doc gPePcGPh6sg7qdC8Pd61YXDplKs1 => {'name': 'Triin', 'user': 'gPePcGPh6sg7qdC8Pd61YXDplKs1', 'email': 'triin@example.com', 'role': 'athlete'}\n",
      "Deleting doc iJ6I5mg8aGW0C49l2RRS3IZSljG3 => {'name': 'Mare', 'user': 'iJ6I5mg8aGW0C49l2RRS3IZSljG3', 'email': 'mare@example.com', 'role': 'owner'}\n",
      "Deleting doc jjzEiaH1SqN92fMuQSapSbKuHVB2 => {'name': 'Bob', 'user': 'jjzEiaH1SqN92fMuQSapSbKuHVB2', 'email': 'bob@example.com', 'role': 'owner'}\n",
      "Deleting doc kyR5S1EBlHXzOO8dPLE7g5DNhd43 => {'name': 'Tõnis', 'user': 'kyR5S1EBlHXzOO8dPLE7g5DNhd43', 'email': 'tõnis@example.com', 'role': 'athlete'}\n",
      "Deleting doc lYRXOi3Xh1QqQDTWBSxnzS3jQ7i2 => {'name': 'Mari', 'user': 'lYRXOi3Xh1QqQDTWBSxnzS3jQ7i2', 'email': 'mari@example.com', 'role': 'athlete'}\n",
      "Deleting doc meiLzj7pVRTL3076QhOwpYHCzbJ2 => {'name': 'Liisa', 'user': 'meiLzj7pVRTL3076QhOwpYHCzbJ2', 'email': 'liisa@example.com', 'role': 'athlete'}\n",
      "Deleting doc nBqerjT2x9dyLo9x1JspjgLJhRE2 => {'name': 'Triin', 'user': 'nBqerjT2x9dyLo9x1JspjgLJhRE2', 'email': 'triin@example.com', 'role': 'athlete'}\n",
      "Deleting doc wakWc93Le9To3xWDyrQqnXIzcdy2 => {'name': 'Mare', 'user': 'wakWc93Le9To3xWDyrQqnXIzcdy2', 'email': 'mare@example.com', 'role': 'owner'}\n",
      "Deleting doc yZwYEmMyc4fxd2JI1cshOq4wSFB2 => {'name': 'Mari', 'user': 'yZwYEmMyc4fxd2JI1cshOq4wSFB2', 'email': 'mari@example.com', 'role': 'athlete'}\n",
      "Deleting doc 3zAtGoYEBfQ2wMDSdV4ARgaS4x12 => {'role': 'coach', 'user': '3zAtGoYEBfQ2wMDSdV4ARgaS4x12', 'email': 'liisa@example.com', 'name': 'Liisa'}\n",
      "Deleting doc 8G8vmzaLicV5K9IBYm6YiVZ3dXZ2 => {'name': 'Triin', 'user': '8G8vmzaLicV5K9IBYm6YiVZ3dXZ2', 'email': 'triin@example.com', 'role': 'athlete'}\n",
      "Deleting doc BKmW7N3BeKVxnIl0rbQwqgScmno2 => {'role': 'fan', 'user': 'BKmW7N3BeKVxnIl0rbQwqgScmno2', 'email': 'jüri@example.com', 'name': 'Jüri'}\n",
      "Deleting doc Bg0stmW4SwRyaux5PAdTNDagWZl1 => {'name': 'Evelin', 'user': 'Bg0stmW4SwRyaux5PAdTNDagWZl1', 'email': 'evelin@example.com', 'role': 'athlete'}\n",
      "Deleting doc DOsqHsE3nIUr9RXGglTyCPDebUg2 => {'name': 'Henrik', 'user': 'DOsqHsE3nIUr9RXGglTyCPDebUg2', 'email': 'henrik@example.com', 'role': 'athlete'}\n",
      "Deleting doc IBki9jrgi4UtKNM5GaoNP3Rv0U13 => {'name': 'Bob', 'user': 'IBki9jrgi4UtKNM5GaoNP3Rv0U13', 'email': 'bob@example.com', 'role': 'owner'}\n",
      "Deleting doc MOYbXq0AFncbx19jdepiG2bxdSu1 => {'name': 'Mari', 'user': 'MOYbXq0AFncbx19jdepiG2bxdSu1', 'email': 'mari@example.com', 'role': 'athlete'}\n",
      "Deleting doc OmhJNOUIJjVtXGOu6oPKdq9YAmH3 => {'name': 'Mare', 'user': 'OmhJNOUIJjVtXGOu6oPKdq9YAmH3', 'email': 'mare@example.com', 'role': 'owner'}\n",
      "Deleting doc QBqf9fpqmAbeh8rH9XbfTvTbth72 => {'name': 'Liisa', 'user': 'QBqf9fpqmAbeh8rH9XbfTvTbth72', 'email': 'liisa@example.com', 'role': 'athlete'}\n",
      "Deleting doc TnkbLqtlivR4t678By9Kiekb3bq2 => {'name': 'Tõnis', 'user': 'TnkbLqtlivR4t678By9Kiekb3bq2', 'email': 'tõnis@example.com', 'role': 'athlete'}\n",
      "Deleting doc UYqZyLLL0Gfdupx5wHGLm4zkcai1 => {'name': 'Mart', 'user': 'UYqZyLLL0Gfdupx5wHGLm4zkcai1', 'email': 'mart@example.com', 'role': 'athlete'}\n",
      "Deleting doc XXKdbC6aD8OsR56nrhvMgJ8Ysme2 => {'name': 'Evelin', 'user': 'XXKdbC6aD8OsR56nrhvMgJ8Ysme2', 'email': 'evelin@example.com', 'role': 'athlete'}\n",
      "Deleting doc ZSV5DCw5cJWRmF574DgNkVvZdJh2 => {'name': 'Mart', 'user': 'ZSV5DCw5cJWRmF574DgNkVvZdJh2', 'email': 'mart@example.com', 'role': 'athlete'}\n",
      "Deleting doc ZqGGKYYWQhNTCeQuylpeMmsdpjt1 => {'name': 'Jaak', 'user': 'ZqGGKYYWQhNTCeQuylpeMmsdpjt1', 'email': 'jaak@example.com', 'role': 'athlete'}\n",
      "Deleting doc bnb0HQJu9GWG5HCzVSXSSranCgr1 => {'name': 'Jaak', 'user': 'bnb0HQJu9GWG5HCzVSXSSranCgr1', 'email': 'jaak@example.com', 'role': 'athlete'}\n",
      "Deleting doc dzF6x0Gl7ZRx9AoF3egFxlFc3uo1 => {'name': 'Jüri', 'user': 'dzF6x0Gl7ZRx9AoF3egFxlFc3uo1', 'email': 'jüri@example.com', 'role': 'athlete'}\n",
      "Deleting doc gPePcGPh6sg7qdC8Pd61YXDplKs1 => {'role': 'owner', 'user': 'gPePcGPh6sg7qdC8Pd61YXDplKs1', 'email': 'triin@example.com', 'name': 'Triin'}\n",
      "Deleting doc iJ6I5mg8aGW0C49l2RRS3IZSljG3 => {'name': 'Mare', 'user': 'iJ6I5mg8aGW0C49l2RRS3IZSljG3', 'email': 'mare@example.com', 'role': 'owner'}\n",
      "Deleting doc kyR5S1EBlHXzOO8dPLE7g5DNhd43 => {'name': 'Tõnis', 'user': 'kyR5S1EBlHXzOO8dPLE7g5DNhd43', 'email': 'tõnis@example.com', 'role': 'athlete'}\n",
      "Deleting doc s8JIw6ahhcSNPlvArCANQUmSh1e2 => {'name': 'Bob', 'user': 's8JIw6ahhcSNPlvArCANQUmSh1e2', 'email': 'bob@example.com', 'role': 'owner'}\n",
      "Deleting doc tmQKJuK4zQMUOCiPy1QZQOauirh1 => {'name': 'Henrik', 'user': 'tmQKJuK4zQMUOCiPy1QZQOauirh1', 'email': 'henrik@example.com', 'role': 'athlete'}\n",
      "Deleting doc yZwYEmMyc4fxd2JI1cshOq4wSFB2 => {'name': 'Mari', 'user': 'yZwYEmMyc4fxd2JI1cshOq4wSFB2', 'email': 'mari@example.com', 'role': 'athlete'}\n"
     ]
    }
   ],
   "source": [
    "def delete_collection(coll_ref, batch_size):\n",
    "    docs = coll_ref.list_documents(page_size=batch_size)\n",
    "    deleted = 0\n",
    "\n",
    "    for doc in docs:\n",
    "        print(f\"Deleting doc {doc.id} => {doc.get().to_dict()}\")\n",
    "        \n",
    "        # Delete subcollections of the document\n",
    "        for subcoll in doc.collections():\n",
    "            delete_collection(subcoll, batch_size)\n",
    "            \n",
    "        doc.delete()\n",
    "        deleted = deleted + 1\n",
    "\n",
    "    if deleted >= batch_size:\n",
    "        return delete_collection(coll_ref, batch_size)\n",
    "\n",
    "# Specify the \"clubs\" collection to be deleted\n",
    "clubs_collection_ref = db.collection(\"clubs\")\n",
    "\n",
    "# Delete the \"clubs\" collection and its documents\n",
    "delete_collection(clubs_collection_ref, 500)\n"
   ]
  },
  {
   "attachments": {},
   "cell_type": "markdown",
   "metadata": {},
   "source": [
    "## Add club collection"
   ]
  },
  {
   "cell_type": "code",
   "execution_count": 64,
   "metadata": {},
   "outputs": [],
   "source": [
    "\n",
    "# Create a collection for clubs\n",
    "clubs_collection = db.collection(\"clubs\")\n",
    "\n",
    "# Create a document for a club with some data fields\n",
    "club_id = '1'\n",
    "club_data = {\n",
    "    \"name\": \"Gladius Club\",\n",
    "    \"description\": \"A Learn to Earn Club\",\n",
    "    \"calendars\": [\"dcromp88@googlemail.com\"],\n",
    "}\n",
    "club_ref = clubs_collection.document(club_id)\n",
    "club_ref.set(club_data)\n",
    "\n",
    "# Create a users subcollection under the club\n",
    "users_subcollection = club_ref.collection(\"members\")\n",
    "\n",
    "# Add users to the users subcollection\n",
    "for user_uuid, clubs_roles in user_clubs_roles.items():\n",
    "    for role in clubs_roles:\n",
    "        if role[\"club_id\"] == \"1\":\n",
    "            # Get user data from the users collection\n",
    "            user_doc_ref = users_collection.document(user_uuid)\n",
    "            user_snapshot = user_doc_ref.get()\n",
    "            user_data = user_snapshot.to_dict()\n",
    "\n",
    "            # Create the user data to be stored in the subcollection\n",
    "            user_subcollection_data = {\n",
    "                \"user\": user_uuid,\n",
    "                \"name\": user_data[\"name\"],\n",
    "                \"email\": user_data[\"email\"],\n",
    "                \"role\": role[\"role\"],\n",
    "            }\n",
    "            users_subcollection.document(user_uuid).set(user_subcollection_data)\n",
    "\n"
   ]
  },
  {
   "attachments": {},
   "cell_type": "markdown",
   "metadata": {},
   "source": [
    "### Create groups"
   ]
  },
  {
   "cell_type": "code",
   "execution_count": 65,
   "metadata": {},
   "outputs": [
    {
     "name": "stdout",
     "output_type": "stream",
     "text": [
      "Successfully created group: zNXLAD0lIPF5ttrx64h8 under club: 1\n"
     ]
    }
   ],
   "source": [
    "\n",
    "# The ID of the club under which the group will be created\n",
    "club_id = \"1\"\n",
    "club_ref = clubs_collection.document(club_id)\n",
    "\n",
    "# Get all user UUIDs from the users collection\n",
    "user_uuids = [doc.id for doc in users_collection.stream()]\n",
    "\n",
    "# Select a random subset of users to be members of the group\n",
    "member_uuids = random.sample(user_uuids, 10)  # choose 10 members randomly\n",
    "\n",
    "group_data = {\n",
    "    \"name\": \"Random Group\",  # the name of the group\n",
    "    \"member_uuids\": member_uuids,  # the UUIDs of the group's members\n",
    "    \"events\": [  # list of events, where each event is an object with a calendarId and eventId\n",
    "        {\n",
    "            \"calendarId\": \"dcromp88@googlemail.com\",  # replace with actual calendarId\n",
    "            \"eventId\": \"4d06bu8godice3gdt7qs8k3cg4\"  # replace with actual eventId\n",
    "        },\n",
    "        # more events can go here...\n",
    "    ],\n",
    "}\n",
    "\n",
    "# Create the group in the groups subcollection under the club\n",
    "groups_subcollection = club_ref.collection(\"groups\")\n",
    "group_ref = groups_subcollection.document()  # generate a random ID for the group\n",
    "group_ref.set(group_data)\n",
    "\n",
    "print(f\"Successfully created group: {group_ref.id} under club: {club_id}\")\n"
   ]
  },
  {
   "cell_type": "code",
   "execution_count": 48,
   "metadata": {},
   "outputs": [
    {
     "name": "stderr",
     "output_type": "stream",
     "text": [
      "/Users/davidcrompton/Documents/web-app-projects/.venv/lib/python3.9/site-packages/google/cloud/firestore_v1/base_collection.py:290: UserWarning: Detected filter using positional arguments. Prefer using the 'filter' keyword argument instead.\n",
      "  return query.where(field_path, op_string, value)\n"
     ]
    },
    {
     "name": "stdout",
     "output_type": "stream",
     "text": [
      "Members of the group 'Random Group' are: ['Triin', 'Mare', 'Henrik', 'Jaak', 'Mart', 'Bob', 'Evelin', 'Jüri', 'Tõnis', 'Liisa']\n"
     ]
    }
   ],
   "source": [
    "# Query the group by its name\n",
    "group_ref = clubs_collection.document(club_id).collection(\"groups\").where(\"name\", \"==\", \"Random Group\").get()\n",
    "\n",
    "if len(group_ref) > 0:\n",
    "    group_doc = group_ref[0]  # get the first matching group\n",
    "    member_uuids = group_doc.to_dict()[\"member_uuids\"]  # get the list of member UUIDs\n",
    "\n",
    "    # Query the names of the members from the users collection\n",
    "    member_names = [users_collection.document(uuid).get().to_dict()[\"name\"] for uuid in member_uuids]\n",
    "\n",
    "    print(f\"Members of the group 'Random Group' are: {member_names}\")\n",
    "else:\n",
    "    print(\"No group found with the name 'Random Group'\")\n"
   ]
  },
  {
   "attachments": {},
   "cell_type": "markdown",
   "metadata": {},
   "source": [
    "## Add events to clubs"
   ]
  },
  {
   "attachments": {},
   "cell_type": "markdown",
   "metadata": {},
   "source": [
    "### Listing events from calendar"
   ]
  },
  {
   "cell_type": "code",
   "execution_count": 34,
   "metadata": {},
   "outputs": [],
   "source": [
    "googleCalendarId = \"dcromp88@googlemail.com\"\n",
    "\n",
    "\n",
    "SCOPES = ['https://www.googleapis.com/auth/calendar']\n",
    "SERVICE_ACCOUNT_FILE = '../firebase-adminsdk.json'"
   ]
  },
  {
   "attachments": {},
   "cell_type": "markdown",
   "metadata": {},
   "source": [
    "### Add events to Firebase [events] collection"
   ]
  },
  {
   "cell_type": "code",
   "execution_count": 36,
   "metadata": {},
   "outputs": [
    {
     "name": "stdout",
     "output_type": "stream",
     "text": [
      "Getting the upcoming 10 events\n",
      "{'id': '4d06bu8godice3gdt7qs8k3cg4', 'is_recurring': True, 'recurrence_rules': ['RRULE:FREQ=MONTHLY;BYDAY=3SA'], 'summary': 'Competition ', 'location': '', 'start': '2023-05-20T13:00:00+02:00', 'next_occurrence': '2023-07-15T13:00:00+02:00'}  added\n",
      "{'id': '_8d136ea184o42ba36l1jeb9k8kqjaba264qjgba36t2jgdhp8gq44ha66s', 'is_recurring': False, 'recurrence_rules': [], 'summary': 'Fathers day', 'location': '', 'start': '2023-11-12', 'next_occurrence': '2023-11-12'}  added\n",
      "{'id': '2ai848el5g91a93m61cvc9uesm', 'is_recurring': True, 'recurrence_rules': ['RRULE:FREQ=WEEKLY;WKST=SU;BYDAY=FR,TU'], 'summary': 'Training', 'location': '', 'start': '2023-05-16T19:00:00+02:00', 'next_occurrence': '2023-07-04T19:00:00+02:00'}  added\n",
      "{'id': '6cm8ofu930v8ijkkomtf6ktjdf', 'is_recurring': True, 'recurrence_rules': ['RRULE:FREQ=WEEKLY;BYDAY=FR'], 'summary': 'Adult Training', 'location': '', 'start': '2023-05-19T20:00:00+02:00', 'next_occurrence': '2023-07-07T20:00:00+02:00'}  added\n"
     ]
    }
   ],
   "source": [
    "from dateutil.rrule import rrulestr\n",
    "from dateutil.parser import parse\n",
    "import datetime\n",
    "import os\n",
    "import firebase_admin\n",
    "from firebase_admin import credentials, firestore\n",
    "\n",
    "os.environ[\"GCLOUD_PROJECT\"] = \"wallet-login-45c1c\"\n",
    "\n",
    "from google.oauth2.credentials import Credentials\n",
    "from googleapiclient.discovery import build\n",
    "from googleapiclient.errors import HttpError\n",
    "from google.oauth2 import service_account\n",
    "\n",
    "\n",
    "def get_next_occurrence(rrule_str, dtstart):\n",
    "    rrule = rrulestr(rrule_str.replace('RRULE:', ''), dtstart=dtstart)\n",
    "    next_occurrence = rrule.after(datetime.datetime.now(datetime.timezone.utc))\n",
    "    return next_occurrence.isoformat()\n",
    "\n",
    "def import_events():\n",
    "    creds = service_account.Credentials.from_service_account_file(\n",
    "        SERVICE_ACCOUNT_FILE, scopes=SCOPES)\n",
    "\n",
    "    service = build('calendar', 'v3', credentials=creds)\n",
    "\n",
    "    now = datetime.datetime.utcnow().isoformat() + 'Z'\n",
    "    print('Getting the upcoming 10 events')\n",
    "    events_result = service.events().list(calendarId=googleCalendarId, timeMin=now,\n",
    "                                          maxResults=10, singleEvents=False).execute()\n",
    "    events = events_result.get('items', [])\n",
    "\n",
    "    if not firebase_admin._apps:\n",
    "        firebase_cred = credentials.Certificate(\"../firebase-adminsdk.json\")\n",
    "        default_app = firebase_admin.initialize_app(firebase_cred)\n",
    "\n",
    "    db = firestore.client()\n",
    "\n",
    "    for event in events:\n",
    "        is_recurring = 'recurrence' in event\n",
    "        event_id = event['id']\n",
    "        summary = event.get('summary', '')\n",
    "        location = event.get('location', '')\n",
    "        recurrence_rules = event.get('recurrence', []) if is_recurring else []\n",
    "        start = event['start'].get('dateTime', event['start'].get('date'))\n",
    "\n",
    "        next_occurrence = None\n",
    "        if is_recurring and recurrence_rules:\n",
    "            next_occurrence = get_next_occurrence(recurrence_rules[0], parse(start))\n",
    "        else:\n",
    "            next_occurrence = start\n",
    "\n",
    "        event_info = {\n",
    "            'id': event_id,\n",
    "            'is_recurring': is_recurring,\n",
    "            'recurrence_rules': recurrence_rules,\n",
    "            'summary': summary,\n",
    "            'location': location,\n",
    "            'start': start,\n",
    "            'next_occurrence': next_occurrence,\n",
    "        }\n",
    "\n",
    "        event_ref = db.collection('events').document(event_id)\n",
    "        event_ref.set(event_info)\n",
    "        print(event_info, ' added')\n",
    "\n",
    "\n",
    "if __name__ == '__main__':\n",
    "    import_events()\n"
   ]
  },
  {
   "cell_type": "code",
   "execution_count": 5,
   "metadata": {},
   "outputs": [],
   "source": [
    "firestore_client = firestore.client()\n",
    "# Create a collection named 'groups'\n",
    "groups_ref = firestore_client.collection('groups')\n",
    "# Create a document with ID 'group1' and some data\n",
    "group1_ref = groups_ref.document('group1')\n",
    "group1_ref.set({\n",
    "    'name': 'Group 1',\n",
    "    'members': ['Alice', 'Bob', 'Charlie']\n",
    "})\n",
    "\n",
    "# Create another document with ID 'group2' and some data\n",
    "group2_ref = groups_ref.document('group2')\n",
    "group2_ref.set({\n",
    "    'name': 'Group 2',\n",
    "    'members': ['David', 'Eve', 'Frank']\n",
    "})"
   ]
  },
  {
   "attachments": {},
   "cell_type": "markdown",
   "metadata": {},
   "source": [
    "### Create test events manually\n",
    "Testing the strucutre"
   ]
  },
  {
   "cell_type": "code",
   "execution_count": 36,
   "metadata": {},
   "outputs": [
    {
     "data": {
      "text/plain": [
       "update_time {\n",
       "  seconds: 1687533427\n",
       "  nanos: 938552000\n",
       "}"
      ]
     },
     "execution_count": 36,
     "metadata": {},
     "output_type": "execute_result"
    }
   ],
   "source": [
    "# Create a collection named 'events'\n",
    "events_ref = firestore_client.collection('events')\n",
    "\n",
    "# Create a document with ID 'event1' and a reference to group1\n",
    "event1_ref = events_ref.document('event1')\n",
    "event1_ref.set({\n",
    "    'name': 'Event 1',\n",
    "    'date': '2023-06-30',\n",
    "    'group': group1_ref # Reference to group1 document\n",
    "})\n",
    "\n",
    "# Create another document with ID 'event2' and a reference to group2\n",
    "event2_ref = events_ref.document('event2')\n",
    "event2_ref.set({\n",
    "    'name': 'Event 2',\n",
    "    'date': '2023-07-01',\n",
    "    'group': group2_ref # Reference to group2 document\n",
    "})"
   ]
  },
  {
   "attachments": {},
   "cell_type": "markdown",
   "metadata": {},
   "source": [
    "### OLD VERSION OF EVENTS"
   ]
  },
  {
   "cell_type": "code",
   "execution_count": null,
   "metadata": {},
   "outputs": [
    {
     "data": {
      "text/plain": [
       "update_time {\n",
       "  seconds: 1687370617\n",
       "  nanos: 317941000\n",
       "}"
      ]
     },
     "execution_count": 24,
     "metadata": {},
     "output_type": "execute_result"
    }
   ],
   "source": [
    "# Create a sub-collection for events under the club document\n",
    "events = club_ref.collection(\"events\")\n",
    "\n",
    "# Create a document for an event with some data fields\n",
    "event_id = \"456\"\n",
    "event_data = {\n",
    "    \"title\": \"Fencing Tournament\",\n",
    "    \"date\": \"2023-06-30\",\n",
    "    \"location\": \"Gladius Arena\"\n",
    "}\n",
    "event_ref = events.document(event_id)\n",
    "event_ref.set(event_data)\n",
    "\n",
    "# Create a sub-collection for occurrences under the event document\n",
    "occurrences = event_ref.collection(\"occurrences\")\n",
    "\n",
    "# Create a document for an occurrence with some data fields\n",
    "occurrence_id = \"789\"\n",
    "occurrence_data = {\n",
    "    \"start_time\": \"14:00\",\n",
    "    \"end_time\": \"16:00\",\n",
    "    \"participants\": [\"Alice\", \"Bob\"]\n",
    "}\n",
    "occurrence_ref = occurrences.document(occurrence_id)\n",
    "occurrence_ref.set(occurrence_data)\n",
    "\n",
    "# Create a sub-collection for attendance under the occurrence document\n",
    "attendance = occurrence_ref.collection(\"attendance\")\n",
    "\n",
    "# Create a document for an attendance with some data fields\n",
    "attendance_id = \"1011\"\n",
    "attendance_data = {\n",
    "    \"name\": \"Alice\",\n",
    "    \"score\": 3\n",
    "}\n",
    "attendance_ref = attendance.document(attendance_id)\n",
    "attendance_ref.set(attendance_data)"
   ]
  }
 ],
 "metadata": {
  "kernelspec": {
   "display_name": "base",
   "language": "python",
   "name": "python3"
  },
  "language_info": {
   "codemirror_mode": {
    "name": "ipython",
    "version": 3
   },
   "file_extension": ".py",
   "mimetype": "text/x-python",
   "name": "python",
   "nbconvert_exporter": "python",
   "pygments_lexer": "ipython3",
   "version": "3.9.6"
  },
  "orig_nbformat": 4
 },
 "nbformat": 4,
 "nbformat_minor": 2
}
