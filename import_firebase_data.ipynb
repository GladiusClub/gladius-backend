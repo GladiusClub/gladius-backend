{
 "cells": [
  {
   "attachments": {},
   "cell_type": "markdown",
   "metadata": {},
   "source": [
    "# The Gladius Data Model"
   ]
  },
  {
   "attachments": {},
   "cell_type": "markdown",
   "metadata": {},
   "source": [
    "### Data Model Structure"
   ]
  },
  {
   "attachments": {},
   "cell_type": "markdown",
   "metadata": {},
   "source": [
    "\n",
    "Collection: \"clubs\"\n",
    "\n",
    "Document: \"club_id\"\n",
    "Club data fields\n",
    "Sub-collection: \"events\"\n",
    "Document: \"event_id\"\n",
    "Event data fields\n",
    "Sub-collection: \"occurrences\"\n",
    "Document: \"occurrence_id\"\n",
    "Occurrence data fields\n",
    "Sub-collection: \"attendance\"\n",
    "Document: \"attendance_id\"\n",
    "Field: \"user_id\" (to reference the attending user)\n",
    "Field: \"score\" (record the score for the user at this occurrence)\n",
    "\n",
    "Collection: \"users\"\n",
    "\n",
    "Document: \"user_id\"\n",
    "User data fields\n",
    "Sub-collection: \"scores\"\n",
    "Document: \"score_id\"\n",
    "Field: \"club_id\" (to reference the club)\n",
    "Field: \"event_id\" (to reference the event)\n",
    "Field: \"occurrence_id\" (to reference the occurrence)\n",
    "Field: \"score\" (the user's score for this event occurrence)\n"
   ]
  },
  {
   "cell_type": "code",
   "execution_count": 80,
   "metadata": {},
   "outputs": [],
   "source": [
    "# Installs\n",
    "#!pip install firebase-admin"
   ]
  },
  {
   "cell_type": "code",
   "execution_count": 81,
   "metadata": {},
   "outputs": [],
   "source": [
    "\n",
    "# Import firebase_admin and initialize the app\n",
    "import firebase_admin\n",
    "from firebase_admin import auth, credentials, firestore\n",
    "import random\n"
   ]
  },
  {
   "attachments": {},
   "cell_type": "markdown",
   "metadata": {},
   "source": [
    "Authentication"
   ]
  },
  {
   "cell_type": "code",
   "execution_count": 82,
   "metadata": {},
   "outputs": [],
   "source": [
    "if not firebase_admin._apps:\n",
    "    cred = credentials.Certificate(\"../firebase-adminsdk.json\")\n",
    "    default_app = firebase_admin.initialize_app(cred)\n",
    "# Get a reference to the firestore database\n",
    "db = firestore.client()"
   ]
  },
  {
   "attachments": {},
   "cell_type": "markdown",
   "metadata": {},
   "source": [
    "# Create users with authentication"
   ]
  },
  {
   "attachments": {},
   "cell_type": "markdown",
   "metadata": {},
   "source": [
    "### Delete all auth users"
   ]
  },
  {
   "cell_type": "code",
   "execution_count": 83,
   "metadata": {},
   "outputs": [
    {
     "name": "stdout",
     "output_type": "stream",
     "text": [
      "Deleted user: JC7wqDBCm1areGebpEAP9H4ZFCj1\n",
      "Deleted user: JsgwlIfnJ6c6QqavCQEv3XiADXC2\n",
      "Deleted user: KwDzxrTIqJVqFJfwQp5DS2K9rED2\n",
      "Deleted user: O3VaXyqvVGP7Lvw4nKWOomofMg83\n",
      "Deleted user: OuqfrySfQmSeWYR0qfd77oSPSDS2\n",
      "Deleted user: VEK5BdcbMahpB6MXnq8eQ6RxkW33\n",
      "Deleted user: VQRdv8TU5mer9ektfPC6GdC7Jfp2\n",
      "Deleted user: gQMT2KpqPJX6AN6jRvurUOntyl63\n",
      "Deleted user: lIIQh7LcfRS1fttNMzwgP2gvIKT2\n",
      "Deleted user: rrxFS9SSFCbDoqjZh7Ixb18VR7j1\n",
      "Deleted user: yNy3xmcp19RaJhekiNYFFAi3udy2\n",
      "All users have been deleted.\n"
     ]
    }
   ],
   "source": [
    "user_list = auth.list_users()\n",
    "\n",
    "# Iterate over each user and delete them\n",
    "for user in user_list.users:\n",
    "    auth.delete_user(user.uid)\n",
    "    print(f\"Deleted user: {user.uid}\")\n",
    "\n",
    "print(\"All users have been deleted.\")"
   ]
  },
  {
   "attachments": {},
   "cell_type": "markdown",
   "metadata": {},
   "source": [
    "### Create new auth users"
   ]
  },
  {
   "cell_type": "code",
   "execution_count": 84,
   "metadata": {},
   "outputs": [
    {
     "name": "stdout",
     "output_type": "stream",
     "text": [
      "Successfully created new user: OYsTIWxITJTDRrMRX3FOZ4zeX3F2\n",
      "Successfully created new user: f0bOQGOlLAQp4gzjJexbSaKoRp13\n",
      "Successfully created new user: oq7zFTYUdqczFw7tsM5V4SXYYkU2\n",
      "Successfully created new user: uug2mnETM0PrZntIrf6nkw2JAPb2\n",
      "Successfully created new user: ZmJ8Mb0bEoZUqOfm8SH8XKjsNrP2\n",
      "Successfully created new user: k4s5ZsOWF6SV8h3Gh4aSnCBelWj2\n",
      "Successfully created new user: mxFfl1jym8NWkcxjxybuXzsK5Xp1\n",
      "Successfully created new user: 6uuGNDujf3faRDxPldlMSl9Wnns2\n",
      "Successfully created new user: rsuqCcPclYP7RNApjFSonxzhGal1\n",
      "Successfully created new user: GYHcWELQkFMpd9NidY8fyv3zER43\n",
      "Successfully created new user: WA5Gk2q1sZduXH3BNDNWVHJw8Ei2\n"
     ]
    }
   ],
   "source": [
    "# Create a list of users to add\n",
    "users = [\"Mare\", \"Jüri\", \"Liisa\", \"Mart\", \"Evelin\", \"Tõnis\", \"Mari\", \"Henrik\", \"Triin\", \"Jaak\", 'Bob']\n",
    "\n",
    "\n",
    "user_uuids = {}\n",
    "# Loop through the users and create them with a default password\n",
    "for user in users:\n",
    "  try:\n",
    "    # Create the user with the email and password\n",
    "    user_record = auth.create_user(\n",
    "      email=f'{user.lower()}@example.com',\n",
    "      password='123456'\n",
    "    )\n",
    "    user_uuids[user] = user_record.uid\n",
    "    # Print the user ID\n",
    "    print(f'Successfully created new user: {user_record.uid}')\n",
    "  except firebase_admin.auth.AuthError as e:\n",
    "    # Handle any errors\n",
    "    print(f'Error creating new user: {e}')"
   ]
  },
  {
   "attachments": {},
   "cell_type": "markdown",
   "metadata": {},
   "source": [
    "### Delete user collection"
   ]
  },
  {
   "cell_type": "code",
   "execution_count": 85,
   "metadata": {},
   "outputs": [
    {
     "name": "stdout",
     "output_type": "stream",
     "text": [
      "Users collection deleted successfully.\n"
     ]
    }
   ],
   "source": [
    "## Delete user collection\n",
    "# Function to delete a collection and its documents\n",
    "def delete_collection(collection_ref, batch_size):\n",
    "    docs = collection_ref.limit(batch_size).stream()\n",
    "    deleted = 0\n",
    "\n",
    "    for doc in docs:\n",
    "        doc.reference.delete()\n",
    "        deleted += 1\n",
    "\n",
    "    if deleted >= batch_size:\n",
    "        return delete_collection(collection_ref, batch_size)\n",
    "\n",
    "# Specify the \"users\" collection to be deleted\n",
    "users_collection_ref = db.collection(\"users\")\n",
    "\n",
    "# Delete the \"users\" collection and its documents\n",
    "delete_collection(users_collection_ref, 500)\n",
    "\n",
    "print(\"Users collection deleted successfully.\")"
   ]
  },
  {
   "attachments": {},
   "cell_type": "markdown",
   "metadata": {},
   "source": [
    "## Add users collection"
   ]
  },
  {
   "cell_type": "code",
   "execution_count": 86,
   "metadata": {},
   "outputs": [
    {
     "name": "stdout",
     "output_type": "stream",
     "text": [
      "Successfully created user: OYsTIWxITJTDRrMRX3FOZ4zeX3F2\n",
      "Successfully created user: f0bOQGOlLAQp4gzjJexbSaKoRp13\n",
      "Successfully created user: oq7zFTYUdqczFw7tsM5V4SXYYkU2\n",
      "Successfully created user: uug2mnETM0PrZntIrf6nkw2JAPb2\n",
      "Successfully created user: ZmJ8Mb0bEoZUqOfm8SH8XKjsNrP2\n",
      "Successfully created user: k4s5ZsOWF6SV8h3Gh4aSnCBelWj2\n",
      "Successfully created user: mxFfl1jym8NWkcxjxybuXzsK5Xp1\n",
      "Successfully created user: 6uuGNDujf3faRDxPldlMSl9Wnns2\n",
      "Successfully created user: rsuqCcPclYP7RNApjFSonxzhGal1\n",
      "Successfully created user: GYHcWELQkFMpd9NidY8fyv3zER43\n",
      "Successfully created user: WA5Gk2q1sZduXH3BNDNWVHJw8Ei2\n"
     ]
    }
   ],
   "source": [
    "# Create a collection for users\n",
    "users_collection = db.collection(\"users\")\n",
    "\n",
    "user_clubs_roles = {}\n",
    "\n",
    "for user in users:\n",
    "    user_data = {\n",
    "        \"name\": user,\n",
    "        \"email\": f\"{user.lower()}@example.com\",\n",
    "        \"age\": random.randint(18, 60),\n",
    "        \"occupation\": random.choice([\"Student\", \"Engineer\", \"Teacher\", \"Artist\"]),\n",
    "        \"is_active\": random.choice([True, False]),\n",
    "        \"clubs_roles\": [],  # initialize an empty list for clubs and roles\n",
    "    }\n",
    "\n",
    "    user_ref = users_collection.document(user_uuids[user])\n",
    "    user_ref.set(user_data)\n",
    "    print(f\"Successfully created user: {user_uuids[user]}\")\n",
    "\n",
    "    if user in [\"Bob\", \"Mare\"]:\n",
    "        user_clubs_roles[user_uuids[user]] = [{\"club_id\": \"1\", \"role\": \"owner\"}]\n",
    "    else:\n",
    "        user_clubs_roles[user_uuids[user]] = [{\"club_id\": \"1\", \"role\": \"athlete\"}]\n",
    "\n",
    "# After creating all users, update the users with their clubs and roles\n",
    "for user_uuid, clubs_roles in user_clubs_roles.items():\n",
    "    user_ref = users_collection.document(user_uuid)\n",
    "    user_ref.update({\"clubs_roles\": clubs_roles})\n"
   ]
  },
  {
   "attachments": {},
   "cell_type": "markdown",
   "metadata": {},
   "source": [
    "## Delete Club collection"
   ]
  },
  {
   "cell_type": "code",
   "execution_count": 97,
   "metadata": {},
   "outputs": [
    {
     "name": "stdout",
     "output_type": "stream",
     "text": [
      "Deleting doc 1 => {'description': 'A Learn to Earn Club', 'calendars': ['dcromp88@googlemail.com'], 'name': 'Gladius Club'}\n",
      "Deleting doc Fpd69fT2GzaJ3yTrCrX8 => {'event_ids': [{'calendarId': 'dcromp88@googlemail.com', 'eventId': '4d06bu8godice3gdt7qs8k3cg4'}], 'member_uuids': ['WA5Gk2q1sZduXH3BNDNWVHJw8Ei2'], 'name': 'Bob'}\n",
      "Deleting doc c1O7p8Ia3j4515xrKRAX => {'events': [{'calendarId': 'dcromp88@googlemail.com', 'eventId': '4d06bu8godice3gdt7qs8k3cg4'}], 'member_uuids': ['f0bOQGOlLAQp4gzjJexbSaKoRp13', 'uug2mnETM0PrZntIrf6nkw2JAPb2', 'ZmJ8Mb0bEoZUqOfm8SH8XKjsNrP2', 'rsuqCcPclYP7RNApjFSonxzhGal1', 'oq7zFTYUdqczFw7tsM5V4SXYYkU2', 'mxFfl1jym8NWkcxjxybuXzsK5Xp1', '6uuGNDujf3faRDxPldlMSl9Wnns2', 'OYsTIWxITJTDRrMRX3FOZ4zeX3F2', 'WA5Gk2q1sZduXH3BNDNWVHJw8Ei2', 'GYHcWELQkFMpd9NidY8fyv3zER43'], 'name': 'Random Group'}\n",
      "Deleting doc vt68TAGCeMoQnXEFihYe => {'events': [{'calendarId': 'dcromp88@googlemail.com', 'eventId': '4d06bu8godice3gdt7qs8k3cg4'}], 'member_uuids': ['rsuqCcPclYP7RNApjFSonxzhGal1', 'WA5Gk2q1sZduXH3BNDNWVHJw8Ei2', 'GYHcWELQkFMpd9NidY8fyv3zER43', 'mxFfl1jym8NWkcxjxybuXzsK5Xp1', 'ZmJ8Mb0bEoZUqOfm8SH8XKjsNrP2', 'f0bOQGOlLAQp4gzjJexbSaKoRp13', 'oq7zFTYUdqczFw7tsM5V4SXYYkU2', '6uuGNDujf3faRDxPldlMSl9Wnns2', 'uug2mnETM0PrZntIrf6nkw2JAPb2', 'OYsTIWxITJTDRrMRX3FOZ4zeX3F2'], 'name': 'Random Group'}\n",
      "Deleting doc 6uuGNDujf3faRDxPldlMSl9Wnns2 => {'name': 'Henrik', 'user': '6uuGNDujf3faRDxPldlMSl9Wnns2', 'email': 'henrik@example.com', 'role': 'athlete'}\n",
      "Deleting doc dcromp88@googlemail.com_4d06bu8godice3gdt7qs8k3cg4_20230715T110000Z => {'win': None, 'calendarId': 'dcromp88@googlemail.com', 'eventParentId': '4d06bu8godice3gdt7qs8k3cg4', 'eventId': '4d06bu8godice3gdt7qs8k3cg4_20230715T110000Z', 'score': None, 'coefficient': None, 'attended': True}\n",
      "Deleting doc GYHcWELQkFMpd9NidY8fyv3zER43 => {'name': 'Jaak', 'user': 'GYHcWELQkFMpd9NidY8fyv3zER43', 'email': 'jaak@example.com', 'role': 'athlete'}\n",
      "Deleting doc dcromp88@googlemail.com_4d06bu8godice3gdt7qs8k3cg4_20230715T110000Z => {'win': None, 'calendarId': 'dcromp88@googlemail.com', 'eventParentId': '4d06bu8godice3gdt7qs8k3cg4', 'eventId': '4d06bu8godice3gdt7qs8k3cg4_20230715T110000Z', 'score': None, 'coefficient': None, 'attended': True}\n",
      "Deleting doc OYsTIWxITJTDRrMRX3FOZ4zeX3F2 => {'name': 'Mare', 'user': 'OYsTIWxITJTDRrMRX3FOZ4zeX3F2', 'email': 'mare@example.com', 'role': 'owner'}\n",
      "Deleting doc dcromp88@googlemail.com_4d06bu8godice3gdt7qs8k3cg4_20230715T110000Z => {'win': None, 'calendarId': 'dcromp88@googlemail.com', 'eventParentId': '4d06bu8godice3gdt7qs8k3cg4', 'eventId': '4d06bu8godice3gdt7qs8k3cg4_20230715T110000Z', 'score': None, 'coefficient': None, 'attended': True}\n",
      "Deleting doc WA5Gk2q1sZduXH3BNDNWVHJw8Ei2 => {'name': 'Bob', 'user': 'WA5Gk2q1sZduXH3BNDNWVHJw8Ei2', 'email': 'bob@example.com', 'role': 'owner'}\n",
      "Deleting doc dcromp88@googlemail.com_4d06bu8godice3gdt7qs8k3cg4_20230715T110000Z => {'win': None, 'calendarId': 'dcromp88@googlemail.com', 'eventParentId': '4d06bu8godice3gdt7qs8k3cg4', 'eventId': '4d06bu8godice3gdt7qs8k3cg4_20230715T110000Z', 'score': None, 'coefficient': None, 'attended': True}\n",
      "Deleting doc ZmJ8Mb0bEoZUqOfm8SH8XKjsNrP2 => {'name': 'Evelin', 'user': 'ZmJ8Mb0bEoZUqOfm8SH8XKjsNrP2', 'email': 'evelin@example.com', 'role': 'athlete'}\n",
      "Deleting doc dcromp88@googlemail.com_4d06bu8godice3gdt7qs8k3cg4_20230715T110000Z => {'win': None, 'calendarId': 'dcromp88@googlemail.com', 'eventParentId': '4d06bu8godice3gdt7qs8k3cg4', 'eventId': '4d06bu8godice3gdt7qs8k3cg4_20230715T110000Z', 'score': None, 'coefficient': None, 'attended': True}\n",
      "Deleting doc f0bOQGOlLAQp4gzjJexbSaKoRp13 => {'name': 'Jüri', 'user': 'f0bOQGOlLAQp4gzjJexbSaKoRp13', 'email': 'jüri@example.com', 'role': 'athlete'}\n",
      "Deleting doc dcromp88@googlemail.com_4d06bu8godice3gdt7qs8k3cg4_20230715T110000Z => {'win': None, 'calendarId': 'dcromp88@googlemail.com', 'eventParentId': '4d06bu8godice3gdt7qs8k3cg4', 'eventId': '4d06bu8godice3gdt7qs8k3cg4_20230715T110000Z', 'score': None, 'coefficient': None, 'attended': True}\n",
      "Deleting doc k4s5ZsOWF6SV8h3Gh4aSnCBelWj2 => {'name': 'Tõnis', 'user': 'k4s5ZsOWF6SV8h3Gh4aSnCBelWj2', 'email': 'tõnis@example.com', 'role': 'athlete'}\n",
      "Deleting doc mxFfl1jym8NWkcxjxybuXzsK5Xp1 => {'name': 'Mari', 'user': 'mxFfl1jym8NWkcxjxybuXzsK5Xp1', 'email': 'mari@example.com', 'role': 'athlete'}\n",
      "Deleting doc dcromp88@googlemail.com_4d06bu8godice3gdt7qs8k3cg4_20230715T110000Z => {'win': None, 'calendarId': 'dcromp88@googlemail.com', 'eventParentId': '4d06bu8godice3gdt7qs8k3cg4', 'eventId': '4d06bu8godice3gdt7qs8k3cg4_20230715T110000Z', 'score': None, 'coefficient': None, 'attended': True}\n",
      "Deleting doc oq7zFTYUdqczFw7tsM5V4SXYYkU2 => {'name': 'Liisa', 'user': 'oq7zFTYUdqczFw7tsM5V4SXYYkU2', 'email': 'liisa@example.com', 'role': 'athlete'}\n",
      "Deleting doc dcromp88@googlemail.com_4d06bu8godice3gdt7qs8k3cg4_20230715T110000Z => {'win': None, 'calendarId': 'dcromp88@googlemail.com', 'eventParentId': '4d06bu8godice3gdt7qs8k3cg4', 'eventId': '4d06bu8godice3gdt7qs8k3cg4_20230715T110000Z', 'score': None, 'coefficient': None, 'attended': True}\n",
      "Deleting doc rsuqCcPclYP7RNApjFSonxzhGal1 => {'name': 'Triin', 'user': 'rsuqCcPclYP7RNApjFSonxzhGal1', 'email': 'triin@example.com', 'role': 'athlete'}\n",
      "Deleting doc dcromp88@googlemail.com_4d06bu8godice3gdt7qs8k3cg4_20230715T110000Z => {'win': None, 'calendarId': 'dcromp88@googlemail.com', 'eventParentId': '4d06bu8godice3gdt7qs8k3cg4', 'eventId': '4d06bu8godice3gdt7qs8k3cg4_20230715T110000Z', 'score': None, 'coefficient': None, 'attended': True}\n",
      "Deleting doc uug2mnETM0PrZntIrf6nkw2JAPb2 => {'name': 'Mart', 'user': 'uug2mnETM0PrZntIrf6nkw2JAPb2', 'email': 'mart@example.com', 'role': 'athlete'}\n",
      "Deleting doc dcromp88@googlemail.com_4d06bu8godice3gdt7qs8k3cg4_20230715T110000Z => {'win': None, 'calendarId': 'dcromp88@googlemail.com', 'eventParentId': '4d06bu8godice3gdt7qs8k3cg4', 'eventId': '4d06bu8godice3gdt7qs8k3cg4_20230715T110000Z', 'score': None, 'coefficient': None, 'attended': True}\n"
     ]
    }
   ],
   "source": [
    "def delete_collection(coll_ref, batch_size):\n",
    "    docs = coll_ref.list_documents(page_size=batch_size)\n",
    "    deleted = 0\n",
    "\n",
    "    for doc in docs:\n",
    "        print(f\"Deleting doc {doc.id} => {doc.get().to_dict()}\")\n",
    "        \n",
    "        # Delete subcollections of the document\n",
    "        for subcoll in doc.collections():\n",
    "            delete_collection(subcoll, batch_size)\n",
    "            \n",
    "        doc.delete()\n",
    "        deleted = deleted + 1\n",
    "\n",
    "    if deleted >= batch_size:\n",
    "        return delete_collection(coll_ref, batch_size)\n",
    "\n",
    "# Specify the \"clubs\" collection to be deleted\n",
    "clubs_collection_ref = db.collection(\"clubs\")\n",
    "\n",
    "# Delete the \"clubs\" collection and its documents\n",
    "delete_collection(clubs_collection_ref, 500)\n"
   ]
  },
  {
   "attachments": {},
   "cell_type": "markdown",
   "metadata": {},
   "source": [
    "## Add club collection"
   ]
  },
  {
   "cell_type": "code",
   "execution_count": 98,
   "metadata": {},
   "outputs": [],
   "source": [
    "\n",
    "# Create a collection for clubs\n",
    "clubs_collection = db.collection(\"clubs\")\n",
    "\n",
    "# Create a document for a club with some data fields\n",
    "club_id = '1'\n",
    "club_data = {\n",
    "    \"name\": \"Gladius Club\",\n",
    "    \"description\": \"A Learn to Earn Club\",\n",
    "    \"calendars\": [\"dcromp88@googlemail.com\"],\n",
    "}\n",
    "club_ref = clubs_collection.document(club_id)\n",
    "club_ref.set(club_data)\n",
    "\n",
    "# Create a users subcollection under the club\n",
    "users_subcollection = club_ref.collection(\"members\")\n",
    "\n",
    "# Add users to the users subcollection\n",
    "for user_uuid, clubs_roles in user_clubs_roles.items():\n",
    "    for role in clubs_roles:\n",
    "        if role[\"club_id\"] == \"1\":\n",
    "            # Get user data from the users collection\n",
    "            user_doc_ref = users_collection.document(user_uuid)\n",
    "            user_snapshot = user_doc_ref.get()\n",
    "            user_data = user_snapshot.to_dict()\n",
    "\n",
    "            # Create the user data to be stored in the subcollection\n",
    "            user_subcollection_data = {\n",
    "                \"user\": user_uuid,\n",
    "                \"name\": user_data[\"name\"],\n",
    "                \"email\": user_data[\"email\"],\n",
    "                \"role\": role[\"role\"],\n",
    "            }\n",
    "            users_subcollection.document(user_uuid).set(user_subcollection_data)\n",
    "\n"
   ]
  },
  {
   "attachments": {},
   "cell_type": "markdown",
   "metadata": {},
   "source": [
    "### Create groups"
   ]
  },
  {
   "cell_type": "code",
   "execution_count": 99,
   "metadata": {},
   "outputs": [
    {
     "name": "stdout",
     "output_type": "stream",
     "text": [
      "Successfully created group: 2Dr32xte1JQ8CLD15H1Q under club: 1\n"
     ]
    }
   ],
   "source": [
    "\n",
    "# The ID of the club under which the group will be created\n",
    "club_id = \"1\"\n",
    "club_ref = clubs_collection.document(club_id)\n",
    "\n",
    "# Get all user UUIDs from the users collection\n",
    "user_uuids = [doc.id for doc in users_collection.stream()]\n",
    "\n",
    "# Select a random subset of users to be members of the group\n",
    "member_uuids = random.sample(user_uuids, 10)  # choose 10 members randomly\n",
    "\n",
    "group_data = {\n",
    "    \"name\": \"Random Group\",  # the name of the group\n",
    "    \"member_uuids\": member_uuids,  # the UUIDs of the group's members\n",
    "    \"event_ids\": [  # list of events, where each event is an object with a calendarId and eventId\n",
    "        {\n",
    "            \"calendarId\": \"dcromp88@googlemail.com\",  # replace with actual calendarId\n",
    "            \"eventId\": \"4d06bu8godice3gdt7qs8k3cg4\"  # replace with actual eventId\n",
    "        },\n",
    "        # more events can go here...\n",
    "    ],\n",
    "}\n",
    "\n",
    "# Create the group in the groups subcollection under the club\n",
    "groups_subcollection = club_ref.collection(\"groups\")\n",
    "group_ref = groups_subcollection.document()  # generate a random ID for the group\n",
    "group_ref.set(group_data)\n",
    "\n",
    "print(f\"Successfully created group: {group_ref.id} under club: {club_id}\")\n"
   ]
  },
  {
   "cell_type": "code",
   "execution_count": 90,
   "metadata": {},
   "outputs": [
    {
     "name": "stderr",
     "output_type": "stream",
     "text": [
      "/Users/davidcrompton/Documents/web-app-projects/.venv/lib/python3.9/site-packages/google/cloud/firestore_v1/base_collection.py:290: UserWarning: Detected filter using positional arguments. Prefer using the 'filter' keyword argument instead.\n",
      "  return query.where(field_path, op_string, value)\n"
     ]
    },
    {
     "name": "stdout",
     "output_type": "stream",
     "text": [
      "Members of the group 'Random Group' are: ['Evelin', 'Bob', 'Jaak', 'Triin', 'Liisa', 'Mare', 'Tõnis', 'Mari', 'Mart', 'Jüri']\n"
     ]
    }
   ],
   "source": [
    "# Query the group by its name\n",
    "group_ref = clubs_collection.document(club_id).collection(\"groups\").where(\"name\", \"==\", \"Random Group\").get()\n",
    "\n",
    "if len(group_ref) > 0:\n",
    "    group_doc = group_ref[0]  # get the first matching group\n",
    "    member_uuids = group_doc.to_dict()[\"member_uuids\"]  # get the list of member UUIDs\n",
    "\n",
    "    # Query the names of the members from the users collection\n",
    "    member_names = [users_collection.document(uuid).get().to_dict()[\"name\"] for uuid in member_uuids]\n",
    "\n",
    "    print(f\"Members of the group 'Random Group' are: {member_names}\")\n",
    "else:\n",
    "    print(\"No group found with the name 'Random Group'\")\n"
   ]
  },
  {
   "attachments": {},
   "cell_type": "markdown",
   "metadata": {},
   "source": [
    "## Add events to members"
   ]
  },
  {
   "cell_type": "code",
   "execution_count": 95,
   "metadata": {},
   "outputs": [],
   "source": [
    "# Get the members subcollection under the club\n",
    "members_subcollection = club_ref.collection(\"members\")\n",
    "\n",
    "# Specify calendarId and eventId\n",
    "calendarId = \"dcromp88@googlemail.com\"\n",
    "eventId = \"4d06bu8godice3gdt7qs8k3cg4_20230715T110000Z\"\n",
    "\n",
    "# Add attendance records to the attendance subcollection of each member\n",
    "for user_uuid in member_uuids:\n",
    "    # Get the document reference for the member\n",
    "    member_doc_ref = members_subcollection.document(user_uuid)\n",
    "    \n",
    "    # Create an attendance subcollection under the member\n",
    "    attendance_subcollection = member_doc_ref.collection(\"attendance\")\n",
    "\n",
    "    # Prepare attendance data\n",
    "    attendance_data = {\n",
    "        \"attended\": True,\n",
    "        \"calendarId\": calendarId,\n",
    "        \"coefficient\": None,\n",
    "        \"eventId\": eventId,\n",
    "        \"eventParentId\": eventId.split('_')[0],  # splits eventId on '_' and gets the first part\n",
    "        \"score\": None,\n",
    "        \"win\": None,\n",
    "    }\n",
    "\n",
    "    # generate a document ID from \"calendarId_eventId\"\n",
    "    document_id = f\"{calendarId}_{eventId}\"\n",
    "    attendance_ref = attendance_subcollection.document(document_id)  \n",
    "    attendance_ref.set(attendance_data)\n"
   ]
  },
  {
   "attachments": {},
   "cell_type": "markdown",
   "metadata": {},
   "source": [
    "### Listing events from calendar"
   ]
  },
  {
   "cell_type": "code",
   "execution_count": 34,
   "metadata": {},
   "outputs": [],
   "source": [
    "googleCalendarId = \"dcromp88@googlemail.com\"\n",
    "\n",
    "\n",
    "SCOPES = ['https://www.googleapis.com/auth/calendar']\n",
    "SERVICE_ACCOUNT_FILE = '../firebase-adminsdk.json'"
   ]
  },
  {
   "attachments": {},
   "cell_type": "markdown",
   "metadata": {},
   "source": [
    "### Add events to Firebase [events] collection"
   ]
  },
  {
   "cell_type": "code",
   "execution_count": 36,
   "metadata": {},
   "outputs": [
    {
     "name": "stdout",
     "output_type": "stream",
     "text": [
      "Getting the upcoming 10 events\n",
      "{'id': '4d06bu8godice3gdt7qs8k3cg4', 'is_recurring': True, 'recurrence_rules': ['RRULE:FREQ=MONTHLY;BYDAY=3SA'], 'summary': 'Competition ', 'location': '', 'start': '2023-05-20T13:00:00+02:00', 'next_occurrence': '2023-07-15T13:00:00+02:00'}  added\n",
      "{'id': '_8d136ea184o42ba36l1jeb9k8kqjaba264qjgba36t2jgdhp8gq44ha66s', 'is_recurring': False, 'recurrence_rules': [], 'summary': 'Fathers day', 'location': '', 'start': '2023-11-12', 'next_occurrence': '2023-11-12'}  added\n",
      "{'id': '2ai848el5g91a93m61cvc9uesm', 'is_recurring': True, 'recurrence_rules': ['RRULE:FREQ=WEEKLY;WKST=SU;BYDAY=FR,TU'], 'summary': 'Training', 'location': '', 'start': '2023-05-16T19:00:00+02:00', 'next_occurrence': '2023-07-04T19:00:00+02:00'}  added\n",
      "{'id': '6cm8ofu930v8ijkkomtf6ktjdf', 'is_recurring': True, 'recurrence_rules': ['RRULE:FREQ=WEEKLY;BYDAY=FR'], 'summary': 'Adult Training', 'location': '', 'start': '2023-05-19T20:00:00+02:00', 'next_occurrence': '2023-07-07T20:00:00+02:00'}  added\n"
     ]
    }
   ],
   "source": [
    "from dateutil.rrule import rrulestr\n",
    "from dateutil.parser import parse\n",
    "import datetime\n",
    "import os\n",
    "import firebase_admin\n",
    "from firebase_admin import credentials, firestore\n",
    "\n",
    "os.environ[\"GCLOUD_PROJECT\"] = \"wallet-login-45c1c\"\n",
    "\n",
    "from google.oauth2.credentials import Credentials\n",
    "from googleapiclient.discovery import build\n",
    "from googleapiclient.errors import HttpError\n",
    "from google.oauth2 import service_account\n",
    "\n",
    "\n",
    "def get_next_occurrence(rrule_str, dtstart):\n",
    "    rrule = rrulestr(rrule_str.replace('RRULE:', ''), dtstart=dtstart)\n",
    "    next_occurrence = rrule.after(datetime.datetime.now(datetime.timezone.utc))\n",
    "    return next_occurrence.isoformat()\n",
    "\n",
    "def import_events():\n",
    "    creds = service_account.Credentials.from_service_account_file(\n",
    "        SERVICE_ACCOUNT_FILE, scopes=SCOPES)\n",
    "\n",
    "    service = build('calendar', 'v3', credentials=creds)\n",
    "\n",
    "    now = datetime.datetime.utcnow().isoformat() + 'Z'\n",
    "    print('Getting the upcoming 10 events')\n",
    "    events_result = service.events().list(calendarId=googleCalendarId, timeMin=now,\n",
    "                                          maxResults=10, singleEvents=False).execute()\n",
    "    events = events_result.get('items', [])\n",
    "\n",
    "    if not firebase_admin._apps:\n",
    "        firebase_cred = credentials.Certificate(\"../firebase-adminsdk.json\")\n",
    "        default_app = firebase_admin.initialize_app(firebase_cred)\n",
    "\n",
    "    db = firestore.client()\n",
    "\n",
    "    for event in events:\n",
    "        is_recurring = 'recurrence' in event\n",
    "        event_id = event['id']\n",
    "        summary = event.get('summary', '')\n",
    "        location = event.get('location', '')\n",
    "        recurrence_rules = event.get('recurrence', []) if is_recurring else []\n",
    "        start = event['start'].get('dateTime', event['start'].get('date'))\n",
    "\n",
    "        next_occurrence = None\n",
    "        if is_recurring and recurrence_rules:\n",
    "            next_occurrence = get_next_occurrence(recurrence_rules[0], parse(start))\n",
    "        else:\n",
    "            next_occurrence = start\n",
    "\n",
    "        event_info = {\n",
    "            'id': event_id,\n",
    "            'is_recurring': is_recurring,\n",
    "            'recurrence_rules': recurrence_rules,\n",
    "            'summary': summary,\n",
    "            'location': location,\n",
    "            'start': start,\n",
    "            'next_occurrence': next_occurrence,\n",
    "        }\n",
    "\n",
    "        event_ref = db.collection('events').document(event_id)\n",
    "        event_ref.set(event_info)\n",
    "        print(event_info, ' added')\n",
    "\n",
    "\n",
    "if __name__ == '__main__':\n",
    "    import_events()\n"
   ]
  },
  {
   "cell_type": "code",
   "execution_count": 5,
   "metadata": {},
   "outputs": [],
   "source": [
    "firestore_client = firestore.client()\n",
    "# Create a collection named 'groups'\n",
    "groups_ref = firestore_client.collection('groups')\n",
    "# Create a document with ID 'group1' and some data\n",
    "group1_ref = groups_ref.document('group1')\n",
    "group1_ref.set({\n",
    "    'name': 'Group 1',\n",
    "    'members': ['Alice', 'Bob', 'Charlie']\n",
    "})\n",
    "\n",
    "# Create another document with ID 'group2' and some data\n",
    "group2_ref = groups_ref.document('group2')\n",
    "group2_ref.set({\n",
    "    'name': 'Group 2',\n",
    "    'members': ['David', 'Eve', 'Frank']\n",
    "})"
   ]
  },
  {
   "attachments": {},
   "cell_type": "markdown",
   "metadata": {},
   "source": [
    "### Create test events manually\n",
    "Testing the strucutre"
   ]
  },
  {
   "cell_type": "code",
   "execution_count": 36,
   "metadata": {},
   "outputs": [
    {
     "data": {
      "text/plain": [
       "update_time {\n",
       "  seconds: 1687533427\n",
       "  nanos: 938552000\n",
       "}"
      ]
     },
     "execution_count": 36,
     "metadata": {},
     "output_type": "execute_result"
    }
   ],
   "source": [
    "# Create a collection named 'events'\n",
    "events_ref = firestore_client.collection('events')\n",
    "\n",
    "# Create a document with ID 'event1' and a reference to group1\n",
    "event1_ref = events_ref.document('event1')\n",
    "event1_ref.set({\n",
    "    'name': 'Event 1',\n",
    "    'date': '2023-06-30',\n",
    "    'group': group1_ref # Reference to group1 document\n",
    "})\n",
    "\n",
    "# Create another document with ID 'event2' and a reference to group2\n",
    "event2_ref = events_ref.document('event2')\n",
    "event2_ref.set({\n",
    "    'name': 'Event 2',\n",
    "    'date': '2023-07-01',\n",
    "    'group': group2_ref # Reference to group2 document\n",
    "})"
   ]
  },
  {
   "attachments": {},
   "cell_type": "markdown",
   "metadata": {},
   "source": [
    "### OLD VERSION OF EVENTS"
   ]
  },
  {
   "cell_type": "code",
   "execution_count": null,
   "metadata": {},
   "outputs": [
    {
     "data": {
      "text/plain": [
       "update_time {\n",
       "  seconds: 1687370617\n",
       "  nanos: 317941000\n",
       "}"
      ]
     },
     "execution_count": 24,
     "metadata": {},
     "output_type": "execute_result"
    }
   ],
   "source": [
    "# Create a sub-collection for events under the club document\n",
    "events = club_ref.collection(\"events\")\n",
    "\n",
    "# Create a document for an event with some data fields\n",
    "event_id = \"456\"\n",
    "event_data = {\n",
    "    \"title\": \"Fencing Tournament\",\n",
    "    \"date\": \"2023-06-30\",\n",
    "    \"location\": \"Gladius Arena\"\n",
    "}\n",
    "event_ref = events.document(event_id)\n",
    "event_ref.set(event_data)\n",
    "\n",
    "# Create a sub-collection for occurrences under the event document\n",
    "occurrences = event_ref.collection(\"occurrences\")\n",
    "\n",
    "# Create a document for an occurrence with some data fields\n",
    "occurrence_id = \"789\"\n",
    "occurrence_data = {\n",
    "    \"start_time\": \"14:00\",\n",
    "    \"end_time\": \"16:00\",\n",
    "    \"participants\": [\"Alice\", \"Bob\"]\n",
    "}\n",
    "occurrence_ref = occurrences.document(occurrence_id)\n",
    "occurrence_ref.set(occurrence_data)\n",
    "\n",
    "# Create a sub-collection for attendance under the occurrence document\n",
    "attendance = occurrence_ref.collection(\"attendance\")\n",
    "\n",
    "# Create a document for an attendance with some data fields\n",
    "attendance_id = \"1011\"\n",
    "attendance_data = {\n",
    "    \"name\": \"Alice\",\n",
    "    \"score\": 3\n",
    "}\n",
    "attendance_ref = attendance.document(attendance_id)\n",
    "attendance_ref.set(attendance_data)"
   ]
  }
 ],
 "metadata": {
  "kernelspec": {
   "display_name": "base",
   "language": "python",
   "name": "python3"
  },
  "language_info": {
   "codemirror_mode": {
    "name": "ipython",
    "version": 3
   },
   "file_extension": ".py",
   "mimetype": "text/x-python",
   "name": "python",
   "nbconvert_exporter": "python",
   "pygments_lexer": "ipython3",
   "version": "3.9.6"
  },
  "orig_nbformat": 4
 },
 "nbformat": 4,
 "nbformat_minor": 2
}
