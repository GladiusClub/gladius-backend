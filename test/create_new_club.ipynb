{
 "cells": [
  {
   "attachments": {},
   "cell_type": "markdown",
   "metadata": {},
   "source": [
    "# Golden Lotus Club\n",
    "https://www.artofsword.com"
   ]
  },
  {
   "cell_type": "code",
   "execution_count": 12,
   "metadata": {},
   "outputs": [],
   "source": [
    "# Installs\n",
    "#!pip install firebase-admin\n",
    "#!pip install web3\n",
    "#!pip install python-dotenv\n"
   ]
  },
  {
   "cell_type": "code",
   "execution_count": 1,
   "metadata": {},
   "outputs": [],
   "source": [
    "\n",
    "# Import firebase_admin and initialize the app\n",
    "import firebase_admin\n",
    "from firebase_admin import auth, credentials, firestore\n",
    "import random\n",
    "from dateutil.rrule import rrulestr\n",
    "from dateutil.parser import parse\n",
    "import datetime\n",
    "import os\n",
    "import firebase_admin\n",
    "from firebase_admin import credentials, firestore\n",
    "import os\n",
    "from web3 import Web3\n",
    "from dotenv import load_dotenv\n",
    "\n",
    "\n",
    "os.environ[\"GCLOUD_PROJECT\"] = \"wallet-login-45c1c\"\n",
    "\n",
    "from google.oauth2.credentials import Credentials\n",
    "from googleapiclient.discovery import build\n",
    "from googleapiclient.errors import HttpError\n",
    "from google.oauth2 import service_account"
   ]
  },
  {
   "attachments": {},
   "cell_type": "markdown",
   "metadata": {},
   "source": [
    "Authentication"
   ]
  },
  {
   "cell_type": "code",
   "execution_count": 2,
   "metadata": {},
   "outputs": [],
   "source": [
    "if not firebase_admin._apps:\n",
    "    cred = credentials.Certificate(\"../firebase-adminsdk.json\")\n",
    "    default_app = firebase_admin.initialize_app(cred)\n",
    "# Get a reference to the firestore database\n",
    "db = firestore.client()"
   ]
  },
  {
   "attachments": {},
   "cell_type": "markdown",
   "metadata": {},
   "source": [
    "# Create users with authentication"
   ]
  },
  {
   "attachments": {},
   "cell_type": "markdown",
   "metadata": {},
   "source": [
    "### Create new auth users"
   ]
  },
  {
   "cell_type": "code",
   "execution_count": null,
   "metadata": {},
   "outputs": [],
   "source": [
    "# Create a list of users to add\n",
    "users = \"Andrei\"\n",
    "email = \"ankisword@gmail.com\"\n",
    "password = '123456'\n",
    "\n",
    "user_uuids = {}\n",
    "# Loop through the users and create them with a default password\n",
    "\n",
    "try:\n",
    "  # Create the user with the email and password\n",
    "  user_record = auth.create_user(\n",
    "    email=email,\n",
    "    password=password\n",
    "  )\n",
    "  user_uuids[user] = user_record.uid\n",
    "  # Print the user ID\n",
    "  print(f'Successfully created new user: {user_record.uid}')\n",
    "except firebase_admin.auth.AuthError as e:\n",
    "  # Handle any errors\n",
    "  print(f'Error creating new user: {e}')"
   ]
  },
  {
   "attachments": {},
   "cell_type": "markdown",
   "metadata": {},
   "source": [
    "## Add users collection"
   ]
  },
  {
   "cell_type": "code",
   "execution_count": null,
   "metadata": {},
   "outputs": [],
   "source": [
    "load_dotenv(os.path.join('..', '.env'))\n",
    "INFURA_API_KEY = os.getenv('INFURA_API_KEY')\n",
    "\n",
    "def create_new_account():\n",
    "    # Create new web3 accounts for the users\n",
    "    infura_url = f\"https://polygon-mumbai.infura.io/v3/{os.getenv('INFURA_API_KEY')}\"\n",
    "    web3 = Web3(Web3.HTTPProvider(infura_url))\n",
    "\n",
    "    if web3.isConnected():\n",
    "        print(\"is connected\")\n",
    "    else:\n",
    "        print(\"Wow. Something went wrong\")\n",
    "\n",
    "    return web3.eth.account.create()"
   ]
  },
  {
   "attachments": {},
   "cell_type": "markdown",
   "metadata": {},
   "source": [
    "## Add club collection"
   ]
  },
  {
   "cell_type": "code",
   "execution_count": null,
   "metadata": {},
   "outputs": [],
   "source": [
    "# Create a collection for users\n",
    "users_collection = db.collection(\"users\")\n",
    "\n",
    "user_clubs_roles = {}\n",
    "\n",
    "account = create_new_account()\n",
    "for user in users:\n",
    "    user_data = {\n",
    "            \"name\": user,\n",
    "            \"email\": \"ankisword@gmail.com\",\n",
    "            \"age\": 25,\n",
    "            \"occupation\": \"Coach\",\n",
    "            \"is_active\": True,\n",
    "            \"clubs_roles\": [],\n",
    "            \"address\": account.address,\n",
    "            \"privateKey\": account.key.hex(),\n",
    "        }\n",
    "\n",
    "    user_ref = users_collection.document(user_uuids[user])\n",
    "    user_ref.set(user_data)\n",
    "    print(f\"Successfully created user: {user_uuids[user]}\")\n",
    "\n",
    "    if user in [\"Andrei\"]:\n",
    "            user_clubs_roles[user_uuids[user]] = [{\"club_id\": \"2\", \"role\": \"owner\"}]\n",
    "\n",
    "# After creating all users, update the users with their clubs and roles\n",
    "for user_uuid, clubs_roles in user_clubs_roles.items():\n",
    "    user_ref = users_collection.document(user_uuid)\n",
    "    user_ref.update({\"clubs_roles\": clubs_roles})\n"
   ]
  },
  {
   "cell_type": "code",
   "execution_count": 74,
   "metadata": {},
   "outputs": [
    {
     "name": "stdout",
     "output_type": "stream",
     "text": [
      "Andrei\n",
      "User Record:\n",
      "UID: 40WiH4RtOIgtJxGjwO6vadjAOem2\n",
      "Email: ankisword@gmail.com\n"
     ]
    }
   ],
   "source": [
    "users = [\"Andrei\"]\n",
    "user_uuids = {}\n",
    "user_uid = \"40WiH4RtOIgtJxGjwO6vadjAOem2\"\n",
    "\n",
    "\n",
    "for user in users:\n",
    "\n",
    "    # Get the user record\n",
    "    user_record = auth.get_user(user_uid)\n",
    "    print(user)\n",
    "    print(\"User Record:\")\n",
    "    print(\"UID:\", user_record.uid)\n",
    "    print(\"Email:\", user_record.email)\n",
    "    user_uuids[user] = user_record.uid"
   ]
  },
  {
   "cell_type": "code",
   "execution_count": 14,
   "metadata": {},
   "outputs": [
    {
     "data": {
      "text/plain": [
       "{'40WiH4RtOIgtJxGjwO6vadjAOem2': [{'club_id': '2', 'role': 'owner'}]}"
      ]
     },
     "execution_count": 14,
     "metadata": {},
     "output_type": "execute_result"
    }
   ],
   "source": [
    "# Create a collection for users\n",
    "users_collection = db.collection(\"users\")\n",
    "\n",
    "user_clubs_roles = {}\n",
    "\n",
    "for user in users:\n",
    "     #user_ref = users_collection.document(user_uuids[user])\n",
    "\n",
    "     if user in [\"Andrei\"]:\n",
    "            user_clubs_roles[user_uuids[user]] = [{\"club_id\": \"2\", \"role\": \"owner\"}]\n",
    "\n",
    "user_clubs_roles"
   ]
  },
  {
   "cell_type": "code",
   "execution_count": 78,
   "metadata": {},
   "outputs": [],
   "source": [
    "users_collection = db.collection(\"users\")\n",
    "\n",
    "\n",
    "# Create a collection for clubs\n",
    "clubs_collection = db.collection(\"clubs\")\n",
    "\n",
    "# Create a document for a club with some data fields\n",
    "club_id = '2'\n",
    "club_data = {\n",
    "    \"name\": \"Golden Lotus Club\",\n",
    "    \"description\": \"A Fencing Club\",\n",
    "    \"calendars\": [\"as.lexus@googlemail.com\"],\n",
    "}\n",
    "club_ref = clubs_collection.document(club_id)\n",
    "club_ref.set(club_data)\n",
    "\n",
    "\n",
    "# Create a users subcollection under the club\n",
    "users_subcollection = club_ref.collection(\"members\")\n",
    "\n",
    "# Add users to the users subcollection\n",
    "for user_uuid, clubs_roles in user_clubs_roles.items():\n",
    "    for role in clubs_roles:\n",
    "        if role[\"club_id\"] == \"2\":\n",
    "            # Get user data from the users collection\n",
    "            user_doc_ref = users_collection.document(user_uuid)\n",
    "            user_snapshot = user_doc_ref.get()\n",
    "            user_data = user_snapshot.to_dict()\n",
    "\n",
    "            # Create the user data to be stored in the subcollection\n",
    "            user_subcollection_data = {\n",
    "                \"user\": user_uuid,\n",
    "                \"name\": user_data[\"name\"],\n",
    "                \"email\": user_data[\"email\"],\n",
    "                \"address\": user_data[\"address\"],\n",
    "                \"role\": role[\"role\"],\n",
    "            }\n",
    "            users_subcollection.document(user_uuid).set(user_subcollection_data)\n",
    "\n"
   ]
  },
  {
   "attachments": {},
   "cell_type": "markdown",
   "metadata": {},
   "source": [
    "### Create groups"
   ]
  },
  {
   "cell_type": "code",
   "execution_count": 15,
   "metadata": {},
   "outputs": [
    {
     "data": {
      "text/plain": [
       "{'40WiH4RtOIgtJxGjwO6vadjAOem2': [{'club_id': '2', 'role': 'owner'}]}"
      ]
     },
     "execution_count": 15,
     "metadata": {},
     "output_type": "execute_result"
    }
   ],
   "source": [
    "user_clubs_roles"
   ]
  },
  {
   "cell_type": "code",
   "execution_count": 16,
   "metadata": {},
   "outputs": [
    {
     "name": "stdout",
     "output_type": "stream",
     "text": [
      "users to be addres to 2\n",
      "40WiH4RtOIgtJxGjwO6vadjAOem2\n"
     ]
    }
   ],
   "source": [
    "clubs_collection = db.collection(\"clubs\")\n",
    "\n",
    "# The ID of the club under which the group will be created\n",
    "club_id = \"2\"\n",
    "\n",
    "club_ref = clubs_collection.document(club_id)\n",
    "\n",
    "users_subcollection = club_ref.collection(\"members\")\n",
    "\n",
    "\n",
    "\n",
    "for user_uuid, clubs_roles in user_clubs_roles.items():\n",
    "    print('users to be addres to ' + club_id)\n",
    "    for role in clubs_roles:\n",
    "        if role[\"club_id\"] == \"2\":\n",
    "            user_uuids = user_uuid\n",
    "            \n",
    "print(user_uuids)\n",
    "\n"
   ]
  },
  {
   "cell_type": "code",
   "execution_count": 90,
   "metadata": {},
   "outputs": [
    {
     "name": "stdout",
     "output_type": "stream",
     "text": [
      "Successfully created group: hY9GGRuS8XWifG3AjFfx under club: 2\n"
     ]
    }
   ],
   "source": [
    "\n",
    "\n",
    "group_data = {\n",
    "    \"name\": \"Evening Group\",  # the name of the group\n",
    "    \"member_uuids\": user_uuids,  # the UUIDs of the group's members\n",
    "    \"event_ids\": [  # list of events, where each event is an object with a calendarId and eventId\n",
    "        {\n",
    "            \"calendarId\": \"as.lexus@gmail.com\",  # replace with actual calendarId\n",
    "            \"eventId\": \"4d06bu8godice3gdt7qs8k3cg4\"  # replace with actual eventId\n",
    "        },\n",
    "        # more events can go here...\n",
    "    ],\n",
    "}\n",
    "\n",
    "# Create the group in the groups subcollection under the club\n",
    "groups_subcollection = club_ref.collection(\"groups\")\n",
    "group_ref = groups_subcollection.document()  # generate a random ID for the group\n",
    "group_ref.set(group_data)\n",
    "\n",
    "print(f\"Successfully created group: {group_ref.id} under club: {club_id}\")\n",
    "\n",
    "\n"
   ]
  },
  {
   "cell_type": "code",
   "execution_count": 66,
   "metadata": {},
   "outputs": [
    {
     "name": "stdout",
     "output_type": "stream",
     "text": [
      "Successfully created group: pGl6jBT6HPZpKTUn6Yxl under club: 2\n"
     ]
    }
   ],
   "source": [
    "\n",
    "# The ID of the club under which the group will be created\n",
    "club_id = \"2\"\n",
    "club_ref = clubs_collection.document(club_id)\n",
    "\n",
    "# Get all user UUIDs from the users collection\n",
    "user_uuids = [doc.id for doc in users_collection.stream()]\n",
    "\n",
    "# Select a random subset of users to be members of the group\n",
    "member_uuids = random.sample(user_uuids, 10)  # choose 10 members randomly\n",
    "\n",
    "group_data = {\n",
    "    \"name\": \"Evening Group\",  # the name of the group\n",
    "    \"member_uuids\": member_uuids,  # the UUIDs of the group's members\n",
    "    \"event_ids\": [  # list of events, where each event is an object with a calendarId and eventId\n",
    "        {\n",
    "            \"calendarId\": \"as.lexus@gmail.com\",  # replace with actual calendarId\n",
    "            \"eventId\": \"7ud1orqm7edujuhrgdp5hfaaba\"  # replace with actual eventId\n",
    "        },\n",
    "        # more events can go here...\n",
    "    ],\n",
    "}\n",
    "\n",
    "# Create the group in the groups subcollection under the club\n",
    "groups_subcollection = club_ref.collection(\"groups\")\n",
    "group_ref = groups_subcollection.document()  # generate a random ID for the group\n",
    "group_ref.set(group_data)\n",
    "\n",
    "print(f\"Successfully created group: {group_ref.id} under club: {club_id}\")\n"
   ]
  },
  {
   "attachments": {},
   "cell_type": "markdown",
   "metadata": {},
   "source": [
    "## Add events to members"
   ]
  },
  {
   "cell_type": "code",
   "execution_count": 4,
   "metadata": {},
   "outputs": [],
   "source": [
    "googleCalendarId = \"a5652177622e249042f44aa44801e1329bf0948e36326967cb03c1ea0b9198e0@group.calendar.google.com\"\n",
    "\n",
    "\n",
    "SCOPES = ['https://www.googleapis.com/auth/calendar']\n",
    "SERVICE_ACCOUNT_FILE = '../firebase-adminsdk.json'"
   ]
  },
  {
   "cell_type": "code",
   "execution_count": 5,
   "metadata": {},
   "outputs": [
    {
     "name": "stdout",
     "output_type": "stream",
     "text": [
      "Getting the upcoming 20 events\n"
     ]
    }
   ],
   "source": [
    "def import_events():\n",
    "    # List to store events\n",
    "    events_list = []\n",
    "\n",
    "    creds = service_account.Credentials.from_service_account_file(\n",
    "        SERVICE_ACCOUNT_FILE, scopes=SCOPES)\n",
    "\n",
    "    service = build('calendar', 'v3', credentials=creds)\n",
    "\n",
    "    now = datetime.datetime.utcnow().isoformat() + 'Z'\n",
    "    print('Getting the upcoming 20 events')\n",
    "    events_result = service.events().list(calendarId=googleCalendarId, timeMin=now,\n",
    "                                          maxResults=100, singleEvents=False).execute()\n",
    "    events = events_result.get('items', [])\n",
    "\n",
    "    for event in events:\n",
    "        if 'recurrence' in event:  # if the event is a recurring event\n",
    "            # Getting individual instances of the recurring event\n",
    "            instances_result = service.events().instances(calendarId=googleCalendarId, eventId=event['id']).execute()\n",
    "            instances = instances_result.get('items', [])\n",
    "            events_list.extend(instances)  # Add the instances to the event list\n",
    "        else:\n",
    "            events_list.append(event)  # Add the non-recurring event to the event list\n",
    "\n",
    "        \n",
    "    events_list = sorted(events_list, key=lambda k: parse(k['start']['dateTime'] if 'dateTime' in k['start'] else k['start']['date'] + 'T00:00:00Z'))\n",
    "\n",
    "    return events_list\n",
    "\n",
    "\n",
    "events = import_events()\n"
   ]
  },
  {
   "cell_type": "code",
   "execution_count": null,
   "metadata": {},
   "outputs": [],
   "source": [
    "\n",
    "# Get the members subcollection under the club\n",
    "members_subcollection = club_ref.collection(\"members\")\n",
    "\n",
    "# Specify calendarId and eventId\n",
    "calendarId = \"a5652177622e249042f44aa44801e1329bf0948e36326967cb03c1ea0b9198e0@group.calendar.google.com\"\n",
    "\n",
    "# Constants\n",
    "MIN_SCORE = 0  # Define your minimum score here\n",
    "MAX_SCORE = 100  # Define your maximum score here\n",
    "\n",
    "for event in events[0:100]:\n",
    "    eventId = event['id']  # get eventId from the current event\n",
    "    # Get the start time of the event\n",
    "    event_start = event['start'].get('dateTime', event['start'].get('date'))\n",
    "    # Parse the start time to a datetime object\n",
    "    event_date = parse(event_start)\n",
    "    # Format the date to \"yyyy-mm-dd\"\n",
    "    event_date_str = event_date.strftime('%Y-%m-%d')\n",
    "\n",
    "    \n",
    "    # Add attendance records to the attendance subcollection of each member\n",
    "    for user_uuid in member_uuids:\n",
    "        # Get the document reference for the member\n",
    "        member_doc_ref = members_subcollection.document(user_uuid)\n",
    "        \n",
    "        # Create an attendance subcollection under the member\n",
    "        attendance_subcollection = member_doc_ref.collection(\"attendance\")\n",
    "\n",
    "        # 90% chance they attended\n",
    "        attended = random.choices([True, False], weights=[90, 10], k=1)[0]\n",
    "\n",
    "        win = random.choices([True, False], weights=[50, 50], k=1)[0]\n",
    "\n",
    "        if attended:\n",
    "            # Prepare attendance data\n",
    "            attendance_data = {\n",
    "                \"attended\": attended,\n",
    "                \"calendarId\": calendarId,\n",
    "                \"coefficient\": None,\n",
    "                \"date\": event_date_str,\n",
    "                \"eventId\": eventId,\n",
    "                \"eventParentId\": eventId.split('_')[0],  # splits eventId on '_' and gets the first part\n",
    "                \"score\": random.randint(MIN_SCORE, MAX_SCORE) if attended else None,  # generate a random score if attended\n",
    "                \"win\": win if attended else None,\n",
    "                \"paid\": False,\n",
    "            }\n",
    "\n",
    "            # generate a document ID from \"calendarId_eventId\"\n",
    "            document_id = f\"{calendarId}_{eventId}\"\n",
    "            attendance_ref = attendance_subcollection.document(document_id)  \n",
    "            attendance_ref.set(attendance_data)\n"
   ]
  },
  {
   "attachments": {},
   "cell_type": "markdown",
   "metadata": {},
   "source": [
    "### Add events to Firebase [events] collection"
   ]
  },
  {
   "cell_type": "code",
   "execution_count": 6,
   "metadata": {},
   "outputs": [
    {
     "name": "stdout",
     "output_type": "stream",
     "text": [
      "Getting the upcoming 10 events\n",
      "{'id': '51b8npkppkudnimnbcs2dtjfml', 'is_recurring': True, 'recurrence_rules': ['RRULE:FREQ=WEEKLY;WKST=MO;BYDAY=MO,WE,FR'], 'summary': 'Evening training', 'location': '', 'start': '2023-11-15T19:00:00+02:00', 'next_occurrence': '2023-11-15T19:00:00+02:00'}  added\n",
      "{'id': '7ud1orqm7edujuhrgdp5hfaaba', 'is_recurring': True, 'recurrence_rules': ['RRULE:FREQ=WEEKLY;WKST=MO;BYDAY=MO,WE'], 'summary': 'Evening traning', 'location': '', 'start': '2023-08-02T19:00:00+03:00', 'next_occurrence': '2023-08-23T19:00:00+03:00'}  added\n"
     ]
    }
   ],
   "source": [
    "\n",
    "\n",
    "\n",
    "def get_next_occurrence(rrule_str, dtstart):\n",
    "    rrule = rrulestr(rrule_str.replace('RRULE:', ''), dtstart=dtstart)\n",
    "    next_occurrence = rrule.after(datetime.datetime.now(datetime.timezone.utc))\n",
    "    return next_occurrence.isoformat()\n",
    "\n",
    "def import_events():\n",
    "    creds = service_account.Credentials.from_service_account_file(\n",
    "        SERVICE_ACCOUNT_FILE, scopes=SCOPES)\n",
    "\n",
    "    service = build('calendar', 'v3', credentials=creds)\n",
    "\n",
    "    now = datetime.datetime.utcnow().isoformat() + 'Z'\n",
    "    print('Getting the upcoming 10 events')\n",
    "    events_result = service.events().list(calendarId=googleCalendarId, timeMin=now,\n",
    "                                          maxResults=10, singleEvents=False).execute()\n",
    "    events = events_result.get('items', [])\n",
    "\n",
    "    if not firebase_admin._apps:\n",
    "        firebase_cred = credentials.Certificate(\"../firebase-adminsdk.json\")\n",
    "        default_app = firebase_admin.initialize_app(firebase_cred)\n",
    "\n",
    "    db = firestore.client()\n",
    "\n",
    "    for event in events:\n",
    "        is_recurring = 'recurrence' in event\n",
    "        event_id = event['id']\n",
    "        summary = event.get('summary', '')\n",
    "        location = event.get('location', '')\n",
    "        recurrence_rules = event.get('recurrence', []) if is_recurring else []\n",
    "        start = event['start'].get('dateTime', event['start'].get('date'))\n",
    "\n",
    "        next_occurrence = None\n",
    "        if is_recurring and recurrence_rules:\n",
    "            next_occurrence = get_next_occurrence(recurrence_rules[0], parse(start))\n",
    "        else:\n",
    "            next_occurrence = start\n",
    "\n",
    "        event_info = {\n",
    "            'id': event_id,\n",
    "            'is_recurring': is_recurring,\n",
    "            'recurrence_rules': recurrence_rules,\n",
    "            'summary': summary,\n",
    "            'location': location,\n",
    "            'start': start,\n",
    "            'next_occurrence': next_occurrence,\n",
    "        }\n",
    "\n",
    "        event_ref = db.collection('events').document(event_id)\n",
    "        event_ref.set(event_info)\n",
    "        print(event_info, ' added')\n",
    "\n",
    "\n",
    "if __name__ == '__main__':\n",
    "    import_events()\n"
   ]
  },
  {
   "cell_type": "code",
   "execution_count": null,
   "metadata": {},
   "outputs": [],
   "source": [
    "firestore_client = firestore.client()\n",
    "# Create a collection named 'groups'\n",
    "groups_ref = firestore_client.collection('groups')\n",
    "# Create a document with ID 'group1' and some data\n",
    "group1_ref = groups_ref.document('group1')\n",
    "group1_ref.set({\n",
    "    'name': 'Group 1',\n",
    "    'members': ['Alice', 'Bob', 'Charlie']\n",
    "})\n",
    "\n",
    "# Create another document with ID 'group2' and some data\n",
    "group2_ref = groups_ref.document('group2')\n",
    "group2_ref.set({\n",
    "    'name': 'Group 2',\n",
    "    'members': ['David', 'Eve', 'Frank']\n",
    "})"
   ]
  }
 ],
 "metadata": {
  "kernelspec": {
   "display_name": "base",
   "language": "python",
   "name": "python3"
  },
  "language_info": {
   "codemirror_mode": {
    "name": "ipython",
    "version": 3
   },
   "file_extension": ".py",
   "mimetype": "text/x-python",
   "name": "python",
   "nbconvert_exporter": "python",
   "pygments_lexer": "ipython3",
   "version": "3.10.6"
  },
  "orig_nbformat": 4
 },
 "nbformat": 4,
 "nbformat_minor": 2
}
