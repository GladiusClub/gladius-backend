{
 "cells": [
  {
   "cell_type": "markdown",
   "metadata": {},
   "source": [
    "Create a pair of Stellar wallets and make a transaction between them in testnet"
   ]
  },
  {
   "cell_type": "code",
   "execution_count": 1,
   "metadata": {},
   "outputs": [
    {
     "name": "stdout",
     "output_type": "stream",
     "text": [
      "Secret: SDKRM7G7PSK3ZCHMFA4LM343DJYX7RQTA5K7U7TC4DQ4SIX7UPLQMID2\n",
      "Public Key: GAJH3MTLFLG52NHZUBPS7BGCBZPYKN4DEXYWZ2J5ASOCLVMXTASGUG5B\n"
     ]
    }
   ],
   "source": [
    "# stellar-sdk >= 2.0.0 required\n",
    "# create a completely new and unique pair of keys\n",
    "# see more about KeyPair objects: https://stellar-sdk.readthedocs.io/en/latest/api.html#keypair\n",
    "from stellar_sdk import Keypair\n",
    "\n",
    "pair = Keypair.random()\n",
    "print(f\"Secret: {pair.secret}\")\n",
    "print(f\"Public Key: {pair.public_key}\")\n"
   ]
  },
  {
   "cell_type": "code",
   "execution_count": 2,
   "metadata": {},
   "outputs": [
    {
     "name": "stdout",
     "output_type": "stream",
     "text": [
      "ERROR! Response: \n",
      "{\n",
      "  \"type\": \"https://stellar.org/horizon-errors/bad_request\",\n",
      "  \"title\": \"Bad Request\",\n",
      "  \"status\": 400,\n",
      "  \"detail\": \"createAccountAlreadyExist (AAAAAAAAAGT/////AAAAAQAAAAAAAAAA/////AAAAAA=)\"\n",
      "}\n"
     ]
    }
   ],
   "source": [
    "# The SDK does not have tools for creating test accounts, so you'll have to\n",
    "# make your own HTTP request.\n",
    "\n",
    "# if you're trying this on Python, install the `requests` library.\n",
    "import requests\n",
    "public_key = pair.public_key\n",
    "\n",
    "#public_key = \"GBFHY475WERNIEBU6VWOQ6B6LYCAVIH3AOHGR6XJQC3OW6PYTR5RCQHS\"\n",
    "response = requests.get(f\"https://friendbot.stellar.org?addr={public_key}\")\n",
    "if response.status_code == 200:\n",
    "    print(f\"SUCCESS! You have a new account :)\\n{response.text}\")\n",
    "else:\n",
    "    print(f\"ERROR! Response: \\n{response.text}\")"
   ]
  },
  {
   "cell_type": "code",
   "execution_count": 3,
   "metadata": {},
   "outputs": [
    {
     "name": "stdout",
     "output_type": "stream",
     "text": [
      "Type: native, Balance: 10000.0000000\n"
     ]
    }
   ],
   "source": [
    "from stellar_sdk import Server\n",
    "\n",
    "server = Server(\"https://horizon-testnet.stellar.org\")\n",
    "public_key = \"GBFHY475WERNIEBU6VWOQ6B6LYCAVIH3AOHGR6XJQC3OW6PYTR5RCQHS\"\n",
    "account = server.accounts().account_id(public_key).call()\n",
    "for balance in account['balances']:\n",
    "    print(f\"Type: {balance['asset_type']}, Balance: {balance['balance']}\")"
   ]
  },
  {
   "cell_type": "markdown",
   "metadata": {},
   "source": [
    "Create second account "
   ]
  },
  {
   "cell_type": "code",
   "execution_count": 4,
   "metadata": {},
   "outputs": [
    {
     "name": "stdout",
     "output_type": "stream",
     "text": [
      "Secret: SDPAILELWKWFHMNYG27U5C7FRE5N5AT3T4NSBIHG3H4TJ2TJINCI6QTA\n",
      "Public Key: GDMNSDEK4TLML5Z6HGQXBP4HVD4BSTKRBAAXEH2DOI7YS76UMWZSR3SS\n"
     ]
    }
   ],
   "source": [
    "pair = Keypair.random()\n",
    "print(f\"Secret: {pair.secret}\")\n",
    "print(f\"Public Key: {pair.public_key}\")"
   ]
  },
  {
   "cell_type": "code",
   "execution_count": 5,
   "metadata": {},
   "outputs": [
    {
     "name": "stdout",
     "output_type": "stream",
     "text": [
      "SUCCESS! You have a new account :)\n",
      "{\n",
      "  \"_links\": {\n",
      "    \"self\": {\n",
      "      \"href\": \"https://horizon-testnet.stellar.org/transactions/1dba2bece607d5b255b3d75346bd299cac566b2e50913388bf94c98e2ae6bb5f\"\n",
      "    },\n",
      "    \"account\": {\n",
      "      \"href\": \"https://horizon-testnet.stellar.org/accounts/GBR7WTBMGNQUP6VEM2CJNDTVX54C33YTYE7UDKQKUNDEWRYSG4DXDIAT\"\n",
      "    },\n",
      "    \"ledger\": {\n",
      "      \"href\": \"https://horizon-testnet.stellar.org/ledgers/65488\"\n",
      "    },\n",
      "    \"operations\": {\n",
      "      \"href\": \"https://horizon-testnet.stellar.org/transactions/1dba2bece607d5b255b3d75346bd299cac566b2e50913388bf94c98e2ae6bb5f/operations{?cursor,limit,order}\",\n",
      "      \"templated\": true\n",
      "    },\n",
      "    \"effects\": {\n",
      "      \"href\": \"https://horizon-testnet.stellar.org/transactions/1dba2bece607d5b255b3d75346bd299cac566b2e50913388bf94c98e2ae6bb5f/effects{?cursor,limit,order}\",\n",
      "      \"templated\": true\n",
      "    },\n",
      "    \"precedes\": {\n",
      "      \"href\": \"https://horizon-testnet.stellar.org/transactions?order=asc\\u0026cursor=281268818284544\"\n",
      "    },\n",
      "    \"succeeds\": {\n",
      "      \"href\": \"https://horizon-testnet.stellar.org/transactions?order=desc\\u0026cursor=281268818284544\"\n",
      "    },\n",
      "    \"transaction\": {\n",
      "      \"href\": \"https://horizon-testnet.stellar.org/transactions/1dba2bece607d5b255b3d75346bd299cac566b2e50913388bf94c98e2ae6bb5f\"\n",
      "    }\n",
      "  },\n",
      "  \"id\": \"1dba2bece607d5b255b3d75346bd299cac566b2e50913388bf94c98e2ae6bb5f\",\n",
      "  \"paging_token\": \"281268818284544\",\n",
      "  \"successful\": true,\n",
      "  \"hash\": \"1dba2bece607d5b255b3d75346bd299cac566b2e50913388bf94c98e2ae6bb5f\",\n",
      "  \"ledger\": 65488,\n",
      "  \"created_at\": \"2024-02-10T17:08:41Z\",\n",
      "  \"source_account\": \"GBR7WTBMGNQUP6VEM2CJNDTVX54C33YTYE7UDKQKUNDEWRYSG4DXDIAT\",\n",
      "  \"source_account_sequence\": \"734439407643\",\n",
      "  \"fee_account\": \"GBR7WTBMGNQUP6VEM2CJNDTVX54C33YTYE7UDKQKUNDEWRYSG4DXDIAT\",\n",
      "  \"fee_charged\": \"100\",\n",
      "  \"max_fee\": \"1000000\",\n",
      "  \"operation_count\": 1,\n",
      "  \"envelope_xdr\": \"AAAAAgAAAABj+0wsM2FH+qRmhJaOdb94Le8TwT9BqgqjRktHEjcHcQAPQkAAAACrAAAAGwAAAAEAAAAAAAAAAAAAAAAAAAAAAAAAAAAAAAEAAAABAAAAABB90WssODNIgi6BHveqzxTRmIpvAFRyVNM+Hm2GVuCcAAAAAAAAAADY2QyK5NbF9z45oXC/h6j4GU1RCAFyH0NyP4l/1GWzKAAAABdIdugAAAAAAAAAAAISNwdxAAAAQBsXkqob6n8SdJKDEdDNvtYmn+UTJmPT7hqwJ36VWqX5s53OfTaN4mX5jng6UO/5OVcK2dxViabgWDoWMkxKfA+GVuCcAAAAQGzfTOBv4NGzozMrQWmRvr3Zew8DVZ5unYq56useFsBrUKpdNnR1xKGIk+xwo7mmBbcI+Cptcvu9fJ669jeJig8=\",\n",
      "  \"result_xdr\": \"AAAAAAAAAGQAAAAAAAAAAQAAAAAAAAAAAAAAAAAAAAA=\",\n",
      "  \"result_meta_xdr\": \"AAAAAwAAAAAAAAACAAAAAwAA/9AAAAAAAAAAAGP7TCwzYUf6pGaElo51v3gt7xPBP0GqCqNGS0cSNwdxAAAAADwU0jwAAACrAAAAGgAAAAAAAAAAAAAAAAAAAAABAAAAAAAAAAAAAAEAAAAAAAAAAAAAAAAAAAAAAAAAAgAAAAAAAAAAAAAAAAAAAAMAAAAAAADMMAAAAABlxp5aAAAAAAAAAAEAAP/QAAAAAAAAAABj+0wsM2FH+qRmhJaOdb94Le8TwT9BqgqjRktHEjcHcQAAAAA8FNI8AAAAqwAAABsAAAAAAAAAAAAAAAAAAAAAAQAAAAAAAAAAAAABAAAAAAAAAAAAAAAAAAAAAAAAAAIAAAAAAAAAAAAAAAAAAAADAAAAAAAA/9AAAAAAZcetmQAAAAAAAAABAAAAAwAAAAMAAP/PAAAAAAAAAAAQfdFrLDgzSIIugR73qs8U0ZiKbwBUclTTPh5thlbgnAFT0/gvD1zkAAAAawAAAGQAAAAAAAAAAAAAAAAAAAAAAQAAAAAAAAAAAAABAAAAAAAAAAAAAAAAAAAAAAAAAAIAAAAAAAAAAAAAAAAAAAADAAAAAAAAANsAAAAAZcJx5wAAAAAAAAABAAD/0AAAAAAAAAAAEH3Rayw4M0iCLoEe96rPFNGYim8AVHJU0z4ebYZW4JwBU9Pg5ph05AAAAGsAAABkAAAAAAAAAAAAAAAAAAAAAAEAAAAAAAAAAAAAAQAAAAAAAAAAAAAAAAAAAAAAAAACAAAAAAAAAAAAAAAAAAAAAwAAAAAAAADbAAAAAGXCcecAAAAAAAAAAAAA/9AAAAAAAAAAANjZDIrk1sX3PjmhcL+HqPgZTVEIAXIfQ3I/iX/UZbMoAAAAF0h26AAAAP/QAAAAAAAAAAAAAAAAAAAAAAAAAAABAAAAAAAAAAAAAAAAAAAAAAAAAAAAAAA=\",\n",
      "  \"fee_meta_xdr\": \"AAAAAgAAAAMAAMwwAAAAAAAAAABj+0wsM2FH+qRmhJaOdb94Le8TwT9BqgqjRktHEjcHcQAAAAA8FNKgAAAAqwAAABoAAAAAAAAAAAAAAAAAAAAAAQAAAAAAAAAAAAABAAAAAAAAAAAAAAAAAAAAAAAAAAIAAAAAAAAAAAAAAAAAAAADAAAAAAAAzDAAAAAAZcaeWgAAAAAAAAABAAD/0AAAAAAAAAAAY/tMLDNhR/qkZoSWjnW/eC3vE8E/QaoKo0ZLRxI3B3EAAAAAPBTSPAAAAKsAAAAaAAAAAAAAAAAAAAAAAAAAAAEAAAAAAAAAAAAAAQAAAAAAAAAAAAAAAAAAAAAAAAACAAAAAAAAAAAAAAAAAAAAAwAAAAAAAMwwAAAAAGXGnloAAAAA\",\n",
      "  \"memo_type\": \"none\",\n",
      "  \"signatures\": [\n",
      "    \"GxeSqhvqfxJ0koMR0M2+1iaf5RMmY9PuGrAnfpVapfmznc59No3iZfmOeDpQ7/k5VwrZ3FWJpuBYOhYyTEp8Dw==\",\n",
      "    \"bN9M4G/g0bOjMytBaZG+vdl7DwNVnm6dirnq6x4WwGtQql02dHXEoYiT7HCjuaYFtwj4Km1y+718nrr2N4mKDw==\"\n",
      "  ],\n",
      "  \"valid_after\": \"1970-01-01T00:00:00Z\",\n",
      "  \"preconditions\": {\n",
      "    \"timebounds\": {\n",
      "      \"min_time\": \"0\"\n",
      "    }\n",
      "  }\n",
      "}\n"
     ]
    }
   ],
   "source": [
    "\n",
    "public_key = \"GDMNSDEK4TLML5Z6HGQXBP4HVD4BSTKRBAAXEH2DOI7YS76UMWZSR3SS\"\n",
    "response = requests.get(f\"https://friendbot.stellar.org?addr={public_key}\")\n",
    "if response.status_code == 200:\n",
    "    print(f\"SUCCESS! You have a new account :)\\n{response.text}\")\n",
    "else:\n",
    "    print(f\"ERROR! Response: \\n{response.text}\")"
   ]
  },
  {
   "cell_type": "code",
   "execution_count": 6,
   "metadata": {},
   "outputs": [
    {
     "name": "stdout",
     "output_type": "stream",
     "text": [
      "Type: native, Balance: 10000.0000000\n"
     ]
    }
   ],
   "source": [
    "\n",
    "server = Server(\"https://horizon-testnet.stellar.org\")\n",
    "public_key = \"GDMNSDEK4TLML5Z6HGQXBP4HVD4BSTKRBAAXEH2DOI7YS76UMWZSR3SS\"\n",
    "account = server.accounts().account_id(public_key).call()\n",
    "for balance in account['balances']:\n",
    "    print(f\"Type: {balance['asset_type']}, Balance: {balance['balance']}\")"
   ]
  },
  {
   "cell_type": "markdown",
   "metadata": {},
   "source": [
    "Sending and receiving coins"
   ]
  },
  {
   "cell_type": "code",
   "execution_count": 8,
   "metadata": {},
   "outputs": [],
   "source": [
    "from stellar_sdk import Asset, Keypair, Network, Server, TransactionBuilder\n",
    "from stellar_sdk.exceptions import NotFoundError, BadResponseError, BadRequestError\n",
    "\n",
    "server = Server(\"https://horizon-testnet.stellar.org\")\n",
    "source_key = Keypair.from_secret(\"SDUIN6GBHQSGKTDGYPRPQHILJW6QTITNZOTM6KUOIKMCO25ZA2FNUJKV\")\n",
    "destination_id = \"GDMNSDEK4TLML5Z6HGQXBP4HVD4BSTKRBAAXEH2DOI7YS76UMWZSR3SS\"\n",
    "\n",
    "\n",
    "# First, check to make sure that the destination account exists.\n",
    "# You could skip this, but if the account does not exist, you will be charged\n",
    "# the transaction fee when the transaction fails.\n",
    "try:\n",
    "    server.load_account(destination_id)\n",
    "except NotFoundError:\n",
    "    # If the account is not found, surface an error message for logging.\n",
    "    raise Exception(\"The destination account does not exist!\")\n",
    "\n",
    "# If there was no error, load up-to-date information on your account.\n",
    "source_account = server.load_account(source_key.public_key)\n",
    "\n",
    "# Let's fetch base_fee from network\n",
    "base_fee = server.fetch_base_fee()"
   ]
  },
  {
   "cell_type": "code",
   "execution_count": 10,
   "metadata": {},
   "outputs": [
    {
     "name": "stdout",
     "output_type": "stream",
     "text": [
      "Response: {'memo': 'Test Transaction', 'memo_bytes': 'VGVzdCBUcmFuc2FjdGlvbg==', '_links': {'self': {'href': 'https://horizon-testnet.stellar.org/transactions/a2ac084af8b3c0574a78211710e5ab1344da9999d14fe4b4c0b2ec0b68dbae32'}, 'account': {'href': 'https://horizon-testnet.stellar.org/accounts/GBFHY475WERNIEBU6VWOQ6B6LYCAVIH3AOHGR6XJQC3OW6PYTR5RCQHS'}, 'ledger': {'href': 'https://horizon-testnet.stellar.org/ledgers/65669'}, 'operations': {'href': 'https://horizon-testnet.stellar.org/transactions/a2ac084af8b3c0574a78211710e5ab1344da9999d14fe4b4c0b2ec0b68dbae32/operations{?cursor,limit,order}', 'templated': True}, 'effects': {'href': 'https://horizon-testnet.stellar.org/transactions/a2ac084af8b3c0574a78211710e5ab1344da9999d14fe4b4c0b2ec0b68dbae32/effects{?cursor,limit,order}', 'templated': True}, 'precedes': {'href': 'https://horizon-testnet.stellar.org/transactions?order=asc&cursor=282046207365120'}, 'succeeds': {'href': 'https://horizon-testnet.stellar.org/transactions?order=desc&cursor=282046207365120'}, 'transaction': {'href': 'https://horizon-testnet.stellar.org/transactions/a2ac084af8b3c0574a78211710e5ab1344da9999d14fe4b4c0b2ec0b68dbae32'}}, 'id': 'a2ac084af8b3c0574a78211710e5ab1344da9999d14fe4b4c0b2ec0b68dbae32', 'paging_token': '282046207365120', 'successful': True, 'hash': 'a2ac084af8b3c0574a78211710e5ab1344da9999d14fe4b4c0b2ec0b68dbae32', 'ledger': 65669, 'created_at': '2024-02-10T17:24:32Z', 'source_account': 'GBFHY475WERNIEBU6VWOQ6B6LYCAVIH3AOHGR6XJQC3OW6PYTR5RCQHS', 'source_account_sequence': '281148559196161', 'fee_account': 'GBFHY475WERNIEBU6VWOQ6B6LYCAVIH3AOHGR6XJQC3OW6PYTR5RCQHS', 'fee_charged': '100', 'max_fee': '100', 'operation_count': 1, 'envelope_xdr': 'AAAAAgAAAABKfHP9sSLUEDT1bOh4Pl4ECqD7A45o+umAtut5+Jx7EQAAAGQAAP+0AAAAAQAAAAEAAAAAAAAAAAAAAABlx7FWAAAAAQAAABBUZXN0IFRyYW5zYWN0aW9uAAAAAQAAAAAAAAABAAAAANjZDIrk1sX3PjmhcL+HqPgZTVEIAXIfQ3I/iX/UZbMoAAAAAAAAAAAF9eEAAAAAAAAAAAH4nHsRAAAAQOYwptuyuvsO5tqMfnqUmwxRXG9aIevukrYtvzGNoOvSFCtJBBqsPk82h+1kI0jOtp2MEXf6zNWl3Hz9SoVp/Qg=', 'result_xdr': 'AAAAAAAAAGQAAAAAAAAAAQAAAAAAAAABAAAAAAAAAAA=', 'result_meta_xdr': 'AAAAAwAAAAAAAAACAAAAAwABAIUAAAAAAAAAAEp8c/2xItQQNPVs6Hg+XgQKoPsDjmj66YC263n4nHsRAAAAF0h255wAAP+0AAAAAAAAAAAAAAAAAAAAAAAAAAABAAAAAAAAAAAAAAAAAAAAAAAAAQABAIUAAAAAAAAAAEp8c/2xItQQNPVs6Hg+XgQKoPsDjmj66YC263n4nHsRAAAAF0h255wAAP+0AAAAAQAAAAAAAAAAAAAAAAAAAAABAAAAAAAAAAAAAAEAAAAAAAAAAAAAAAAAAAAAAAAAAgAAAAAAAAAAAAAAAAAAAAMAAAAAAAEAhQAAAABlx7FQAAAAAAAAAAEAAAAEAAAAAwABAIUAAAAAAAAAAEp8c/2xItQQNPVs6Hg+XgQKoPsDjmj66YC263n4nHsRAAAAF0h255wAAP+0AAAAAQAAAAAAAAAAAAAAAAAAAAABAAAAAAAAAAAAAAEAAAAAAAAAAAAAAAAAAAAAAAAAAgAAAAAAAAAAAAAAAAAAAAMAAAAAAAEAhQAAAABlx7FQAAAAAAAAAAEAAQCFAAAAAAAAAABKfHP9sSLUEDT1bOh4Pl4ECqD7A45o+umAtut5+Jx7EQAAABdCgQacAAD/tAAAAAEAAAAAAAAAAAAAAAAAAAAAAQAAAAAAAAAAAAABAAAAAAAAAAAAAAAAAAAAAAAAAAIAAAAAAAAAAAAAAAAAAAADAAAAAAABAIUAAAAAZcexUAAAAAAAAAADAAD/0AAAAAAAAAAA2NkMiuTWxfc+OaFwv4eo+BlNUQgBch9Dcj+Jf9RlsygAAAAXSHboAAAA/9AAAAAAAAAAAAAAAAAAAAAAAAAAAAEAAAAAAAAAAAAAAAAAAAAAAAABAAEAhQAAAAAAAAAA2NkMiuTWxfc+OaFwv4eo+BlNUQgBch9Dcj+Jf9RlsygAAAAXTmzJAAAA/9AAAAAAAAAAAAAAAAAAAAAAAAAAAAEAAAAAAAAAAAAAAAAAAAAAAAAAAAAAAA==', 'fee_meta_xdr': 'AAAAAgAAAAMAAP+0AAAAAAAAAABKfHP9sSLUEDT1bOh4Pl4ECqD7A45o+umAtut5+Jx7EQAAABdIdugAAAD/tAAAAAAAAAAAAAAAAAAAAAAAAAAAAQAAAAAAAAAAAAAAAAAAAAAAAAEAAQCFAAAAAAAAAABKfHP9sSLUEDT1bOh4Pl4ECqD7A45o+umAtut5+Jx7EQAAABdIduecAAD/tAAAAAAAAAAAAAAAAAAAAAAAAAAAAQAAAAAAAAAAAAAAAAAAAA==', 'memo_type': 'text', 'signatures': ['5jCm27K6+w7m2ox+epSbDFFcb1oh6+6Sti2/MY2g69IUK0kEGqw+TzaH7WQjSM62nYwRd/rM1aXcfP1KhWn9CA=='], 'valid_after': '1970-01-01T00:00:00Z', 'valid_before': '2024-02-10T17:24:38Z', 'preconditions': {'timebounds': {'min_time': '0', 'max_time': '1707585878'}}}\n"
     ]
    }
   ],
   "source": [
    "\n",
    "# Start building the transaction.\n",
    "transaction = (\n",
    "    TransactionBuilder(\n",
    "        source_account=source_account,\n",
    "        network_passphrase=Network.TESTNET_NETWORK_PASSPHRASE,\n",
    "        base_fee=base_fee,\n",
    "    )\n",
    "        # Because Stellar allows transaction in many currencies, you must specify the asset type.\n",
    "        # Here we are sending Lumens.\n",
    "        .append_payment_op(destination=destination_id, asset=Asset.native(), amount=\"10\")\n",
    "        # A memo allows you to add your own metadata to a transaction. It's\n",
    "        # optional and does not affect how Stellar treats the transaction.\n",
    "        .add_text_memo(\"Test Transaction\")\n",
    "        # Wait a maximum of three minutes for the transaction\n",
    "        .set_timeout(10)\n",
    "        .build()\n",
    ")\n",
    "\n",
    "# Sign the transaction to prove you are actually the person sending it.\n",
    "transaction.sign(source_key)\n",
    "\n",
    "try:\n",
    "    # And finally, send it off to Stellar!\n",
    "    response = server.submit_transaction(transaction)\n",
    "    print(f\"Response: {response}\")\n",
    "except (BadRequestError, BadResponseError) as err:\n",
    "    print(f\"Something went wrong!\\n{err}\")"
   ]
  },
  {
   "cell_type": "code",
   "execution_count": 1,
   "metadata": {},
   "outputs": [],
   "source": [
    "import requests\n",
    "from stellar_sdk import Keypair\n",
    "\n",
    "def create_new_stellar_account():\n",
    "    pair = Keypair.random()\n",
    "    #print(f\"Secret: {pair.secret}\")\n",
    "    print(f\"Stellar public Key: {pair.public_key}\")\n",
    "    return pair\n",
    "\n",
    "def activate_new_stellar_account(public_key):\n",
    "    \n",
    "    response = requests.get(f\"https://friendbot.stellar.org?addr={public_key}\")\n",
    "    if response.status_code == 200:\n",
    "        print(f\"SUCCESS! You have a new account :)\\n{response.text}\")\n",
    "    else:\n",
    "        print(f\"ERROR! Response: \\n{response.text}\")\n",
    "    return response.text\n"
   ]
  },
  {
   "cell_type": "code",
   "execution_count": 7,
   "metadata": {},
   "outputs": [
    {
     "name": "stdout",
     "output_type": "stream",
     "text": [
      "Stellar public Key: GCFGWTTYNFTO3YAIV6LHQ6N5SVYCPSJZFFT7QLSORDMWV2UBQV6ACISW\n"
     ]
    }
   ],
   "source": [
    "stellar_wallet = create_new_stellar_account()"
   ]
  },
  {
   "cell_type": "code",
   "execution_count": 11,
   "metadata": {},
   "outputs": [
    {
     "data": {
      "text/plain": [
       "'SCODQKESWRVYS45G4DWHIE4DYOMLURUHOWW4E5X524WCDUYM2WQQKHTV'"
      ]
     },
     "execution_count": 11,
     "metadata": {},
     "output_type": "execute_result"
    }
   ],
   "source": [
    "stellar_wallet.secret"
   ]
  },
  {
   "cell_type": "code",
   "execution_count": 9,
   "metadata": {},
   "outputs": [
    {
     "name": "stdout",
     "output_type": "stream",
     "text": [
      "SUCCESS! You have a new account :)\n",
      "{\n",
      "  \"_links\": {\n",
      "    \"self\": {\n",
      "      \"href\": \"https://horizon-testnet.stellar.org/transactions/f9fdf74548074f89000c5fb2e0771ba4835f3c6c5261603f9946a0f7b2e7dd04\"\n",
      "    },\n",
      "    \"account\": {\n",
      "      \"href\": \"https://horizon-testnet.stellar.org/accounts/GA75DETSR3HZEQDPAZVAUS6N5KVZDJP34JN437HS42VWRK2N3VRD67UI\"\n",
      "    },\n",
      "    \"ledger\": {\n",
      "      \"href\": \"https://horizon-testnet.stellar.org/ledgers/79418\"\n",
      "    },\n",
      "    \"operations\": {\n",
      "      \"href\": \"https://horizon-testnet.stellar.org/transactions/f9fdf74548074f89000c5fb2e0771ba4835f3c6c5261603f9946a0f7b2e7dd04/operations{?cursor,limit,order}\",\n",
      "      \"templated\": true\n",
      "    },\n",
      "    \"effects\": {\n",
      "      \"href\": \"https://horizon-testnet.stellar.org/transactions/f9fdf74548074f89000c5fb2e0771ba4835f3c6c5261603f9946a0f7b2e7dd04/effects{?cursor,limit,order}\",\n",
      "      \"templated\": true\n",
      "    },\n",
      "    \"precedes\": {\n",
      "      \"href\": \"https://horizon-testnet.stellar.org/transactions?order=asc\\u0026cursor=341097712721920\"\n",
      "    },\n",
      "    \"succeeds\": {\n",
      "      \"href\": \"https://horizon-testnet.stellar.org/transactions?order=desc\\u0026cursor=341097712721920\"\n",
      "    },\n",
      "    \"transaction\": {\n",
      "      \"href\": \"https://horizon-testnet.stellar.org/transactions/f9fdf74548074f89000c5fb2e0771ba4835f3c6c5261603f9946a0f7b2e7dd04\"\n",
      "    }\n",
      "  },\n",
      "  \"id\": \"f9fdf74548074f89000c5fb2e0771ba4835f3c6c5261603f9946a0f7b2e7dd04\",\n",
      "  \"paging_token\": \"341097712721920\",\n",
      "  \"successful\": true,\n",
      "  \"hash\": \"f9fdf74548074f89000c5fb2e0771ba4835f3c6c5261603f9946a0f7b2e7dd04\",\n",
      "  \"ledger\": 79418,\n",
      "  \"created_at\": \"2024-02-11T13:30:04Z\",\n",
      "  \"source_account\": \"GA75DETSR3HZEQDPAZVAUS6N5KVZDJP34JN437HS42VWRK2N3VRD67UI\",\n",
      "  \"source_account_sequence\": \"558345748508\",\n",
      "  \"fee_account\": \"GA75DETSR3HZEQDPAZVAUS6N5KVZDJP34JN437HS42VWRK2N3VRD67UI\",\n",
      "  \"fee_charged\": \"100\",\n",
      "  \"max_fee\": \"1000000\",\n",
      "  \"operation_count\": 1,\n",
      "  \"envelope_xdr\": \"AAAAAgAAAAA/0ZJyjs+SQG8GagpLzeqrkaX74lvN/PLmq2irTd1iPwAPQkAAAACCAAAAHAAAAAEAAAAAAAAAAAAAAAAAAAAAAAAAAAAAAAEAAAABAAAAABB90WssODNIgi6BHveqzxTRmIpvAFRyVNM+Hm2GVuCcAAAAAAAAAACKa054aWbt4Aivlnh5vZVwJ8k5KWf4Lk6I2WrqgYV8AQAAABdIdugAAAAAAAAAAAJN3WI/AAAAQIQ8OID1rf40f3Z+oW5xQBgsL3CThsAJ/kbjv78zXQf1tsFYaMqHbkrlWicoTPxkIqqTUpjw7JnxLAncmOQpqQWGVuCcAAAAQK96KeiqXguwuVNYgmtT/xmNiizFv9fUB4K+p4cFNr7sU4t/x7sr+ImqfzNrEdekIIhy81/gHmXOHp0wEIuVNgg=\",\n",
      "  \"result_xdr\": \"AAAAAAAAAGQAAAAAAAAAAQAAAAAAAAAAAAAAAAAAAAA=\",\n",
      "  \"result_meta_xdr\": \"AAAAAwAAAAAAAAACAAAAAwABNjoAAAAAAAAAAD/RknKOz5JAbwZqCkvN6quRpfviW8388uaraKtN3WI/AAAAADwzVZAAAACCAAAAGwAAAAAAAAAAAAAAAAAAAAABAAAAAAAAAAAAAAEAAAAAAAAAAAAAAAAAAAAAAAAAAgAAAAAAAAAAAAAAAAAAAAMAAAAAAAEKAAAAAABlx+MtAAAAAAAAAAEAATY6AAAAAAAAAAA/0ZJyjs+SQG8GagpLzeqrkaX74lvN/PLmq2irTd1iPwAAAAA8M1WQAAAAggAAABwAAAAAAAAAAAAAAAAAAAAAAQAAAAAAAAAAAAABAAAAAAAAAAAAAAAAAAAAAAAAAAIAAAAAAAAAAAAAAAAAAAADAAAAAAABNjoAAAAAZcjL3AAAAAAAAAABAAAAAwAAAAMAATYzAAAAAAAAAAAQfdFrLDgzSIIugR73qs8U0ZiKbwBUclTTPh5thlbgnAFTCeE2/awcAAAAawAAAGQAAAAAAAAAAAAAAAAAAAAAAQAAAAAAAAAAAAABAAAAAAAAAAAAAAAAAAAAAAAAAAIAAAAAAAAAAAAAAAAAAAADAAAAAAAAANsAAAAAZcJx5wAAAAAAAAABAAE2OgAAAAAAAAAAEH3Rayw4M0iCLoEe96rPFNGYim8AVHJU0z4ebYZW4JwBUwnJ7obEHAAAAGsAAABkAAAAAAAAAAAAAAAAAAAAAAEAAAAAAAAAAAAAAQAAAAAAAAAAAAAAAAAAAAAAAAACAAAAAAAAAAAAAAAAAAAAAwAAAAAAAADbAAAAAGXCcecAAAAAAAAAAAABNjoAAAAAAAAAAIprTnhpZu3gCK+WeHm9lXAnyTkpZ/guTojZauqBhXwBAAAAF0h26AAAATY6AAAAAAAAAAAAAAAAAAAAAAAAAAABAAAAAAAAAAAAAAAAAAAAAAAAAAAAAAA=\",\n",
      "  \"fee_meta_xdr\": \"AAAAAgAAAAMAAQoAAAAAAAAAAAA/0ZJyjs+SQG8GagpLzeqrkaX74lvN/PLmq2irTd1iPwAAAAA8M1X0AAAAggAAABsAAAAAAAAAAAAAAAAAAAAAAQAAAAAAAAAAAAABAAAAAAAAAAAAAAAAAAAAAAAAAAIAAAAAAAAAAAAAAAAAAAADAAAAAAABCgAAAAAAZcfjLQAAAAAAAAABAAE2OgAAAAAAAAAAP9GSco7PkkBvBmoKS83qq5Gl++Jbzfzy5qtoq03dYj8AAAAAPDNVkAAAAIIAAAAbAAAAAAAAAAAAAAAAAAAAAAEAAAAAAAAAAAAAAQAAAAAAAAAAAAAAAAAAAAAAAAACAAAAAAAAAAAAAAAAAAAAAwAAAAAAAQoAAAAAAGXH4y0AAAAA\",\n",
      "  \"memo_type\": \"none\",\n",
      "  \"signatures\": [\n",
      "    \"hDw4gPWt/jR/dn6hbnFAGCwvcJOGwAn+RuO/vzNdB/W2wVhoyoduSuVaJyhM/GQiqpNSmPDsmfEsCdyY5CmpBQ==\",\n",
      "    \"r3op6KpeC7C5U1iCa1P/GY2KLMW/19QHgr6nhwU2vuxTi3/Huyv4iap/M2sR16QgiHLzX+AeZc4enTAQi5U2CA==\"\n",
      "  ],\n",
      "  \"valid_after\": \"1970-01-01T00:00:00Z\",\n",
      "  \"preconditions\": {\n",
      "    \"timebounds\": {\n",
      "      \"min_time\": \"0\"\n",
      "    }\n",
      "  }\n",
      "}\n"
     ]
    }
   ],
   "source": [
    "activate_new_stellar = activate_new_stellar_account(stellar_wallet.public_key)\n"
   ]
  },
  {
   "cell_type": "code",
   "execution_count": 10,
   "metadata": {},
   "outputs": [
    {
     "data": {
      "text/plain": [
       "'{\\n  \"_links\": {\\n    \"self\": {\\n      \"href\": \"https://horizon-testnet.stellar.org/transactions/f9fdf74548074f89000c5fb2e0771ba4835f3c6c5261603f9946a0f7b2e7dd04\"\\n    },\\n    \"account\": {\\n      \"href\": \"https://horizon-testnet.stellar.org/accounts/GA75DETSR3HZEQDPAZVAUS6N5KVZDJP34JN437HS42VWRK2N3VRD67UI\"\\n    },\\n    \"ledger\": {\\n      \"href\": \"https://horizon-testnet.stellar.org/ledgers/79418\"\\n    },\\n    \"operations\": {\\n      \"href\": \"https://horizon-testnet.stellar.org/transactions/f9fdf74548074f89000c5fb2e0771ba4835f3c6c5261603f9946a0f7b2e7dd04/operations{?cursor,limit,order}\",\\n      \"templated\": true\\n    },\\n    \"effects\": {\\n      \"href\": \"https://horizon-testnet.stellar.org/transactions/f9fdf74548074f89000c5fb2e0771ba4835f3c6c5261603f9946a0f7b2e7dd04/effects{?cursor,limit,order}\",\\n      \"templated\": true\\n    },\\n    \"precedes\": {\\n      \"href\": \"https://horizon-testnet.stellar.org/transactions?order=asc\\\\u0026cursor=341097712721920\"\\n    },\\n    \"succeeds\": {\\n      \"href\": \"https://horizon-testnet.stellar.org/transactions?order=desc\\\\u0026cursor=341097712721920\"\\n    },\\n    \"transaction\": {\\n      \"href\": \"https://horizon-testnet.stellar.org/transactions/f9fdf74548074f89000c5fb2e0771ba4835f3c6c5261603f9946a0f7b2e7dd04\"\\n    }\\n  },\\n  \"id\": \"f9fdf74548074f89000c5fb2e0771ba4835f3c6c5261603f9946a0f7b2e7dd04\",\\n  \"paging_token\": \"341097712721920\",\\n  \"successful\": true,\\n  \"hash\": \"f9fdf74548074f89000c5fb2e0771ba4835f3c6c5261603f9946a0f7b2e7dd04\",\\n  \"ledger\": 79418,\\n  \"created_at\": \"2024-02-11T13:30:04Z\",\\n  \"source_account\": \"GA75DETSR3HZEQDPAZVAUS6N5KVZDJP34JN437HS42VWRK2N3VRD67UI\",\\n  \"source_account_sequence\": \"558345748508\",\\n  \"fee_account\": \"GA75DETSR3HZEQDPAZVAUS6N5KVZDJP34JN437HS42VWRK2N3VRD67UI\",\\n  \"fee_charged\": \"100\",\\n  \"max_fee\": \"1000000\",\\n  \"operation_count\": 1,\\n  \"envelope_xdr\": \"AAAAAgAAAAA/0ZJyjs+SQG8GagpLzeqrkaX74lvN/PLmq2irTd1iPwAPQkAAAACCAAAAHAAAAAEAAAAAAAAAAAAAAAAAAAAAAAAAAAAAAAEAAAABAAAAABB90WssODNIgi6BHveqzxTRmIpvAFRyVNM+Hm2GVuCcAAAAAAAAAACKa054aWbt4Aivlnh5vZVwJ8k5KWf4Lk6I2WrqgYV8AQAAABdIdugAAAAAAAAAAAJN3WI/AAAAQIQ8OID1rf40f3Z+oW5xQBgsL3CThsAJ/kbjv78zXQf1tsFYaMqHbkrlWicoTPxkIqqTUpjw7JnxLAncmOQpqQWGVuCcAAAAQK96KeiqXguwuVNYgmtT/xmNiizFv9fUB4K+p4cFNr7sU4t/x7sr+ImqfzNrEdekIIhy81/gHmXOHp0wEIuVNgg=\",\\n  \"result_xdr\": \"AAAAAAAAAGQAAAAAAAAAAQAAAAAAAAAAAAAAAAAAAAA=\",\\n  \"result_meta_xdr\": \"AAAAAwAAAAAAAAACAAAAAwABNjoAAAAAAAAAAD/RknKOz5JAbwZqCkvN6quRpfviW8388uaraKtN3WI/AAAAADwzVZAAAACCAAAAGwAAAAAAAAAAAAAAAAAAAAABAAAAAAAAAAAAAAEAAAAAAAAAAAAAAAAAAAAAAAAAAgAAAAAAAAAAAAAAAAAAAAMAAAAAAAEKAAAAAABlx+MtAAAAAAAAAAEAATY6AAAAAAAAAAA/0ZJyjs+SQG8GagpLzeqrkaX74lvN/PLmq2irTd1iPwAAAAA8M1WQAAAAggAAABwAAAAAAAAAAAAAAAAAAAAAAQAAAAAAAAAAAAABAAAAAAAAAAAAAAAAAAAAAAAAAAIAAAAAAAAAAAAAAAAAAAADAAAAAAABNjoAAAAAZcjL3AAAAAAAAAABAAAAAwAAAAMAATYzAAAAAAAAAAAQfdFrLDgzSIIugR73qs8U0ZiKbwBUclTTPh5thlbgnAFTCeE2/awcAAAAawAAAGQAAAAAAAAAAAAAAAAAAAAAAQAAAAAAAAAAAAABAAAAAAAAAAAAAAAAAAAAAAAAAAIAAAAAAAAAAAAAAAAAAAADAAAAAAAAANsAAAAAZcJx5wAAAAAAAAABAAE2OgAAAAAAAAAAEH3Rayw4M0iCLoEe96rPFNGYim8AVHJU0z4ebYZW4JwBUwnJ7obEHAAAAGsAAABkAAAAAAAAAAAAAAAAAAAAAAEAAAAAAAAAAAAAAQAAAAAAAAAAAAAAAAAAAAAAAAACAAAAAAAAAAAAAAAAAAAAAwAAAAAAAADbAAAAAGXCcecAAAAAAAAAAAABNjoAAAAAAAAAAIprTnhpZu3gCK+WeHm9lXAnyTkpZ/guTojZauqBhXwBAAAAF0h26AAAATY6AAAAAAAAAAAAAAAAAAAAAAAAAAABAAAAAAAAAAAAAAAAAAAAAAAAAAAAAAA=\",\\n  \"fee_meta_xdr\": \"AAAAAgAAAAMAAQoAAAAAAAAAAAA/0ZJyjs+SQG8GagpLzeqrkaX74lvN/PLmq2irTd1iPwAAAAA8M1X0AAAAggAAABsAAAAAAAAAAAAAAAAAAAAAAQAAAAAAAAAAAAABAAAAAAAAAAAAAAAAAAAAAAAAAAIAAAAAAAAAAAAAAAAAAAADAAAAAAABCgAAAAAAZcfjLQAAAAAAAAABAAE2OgAAAAAAAAAAP9GSco7PkkBvBmoKS83qq5Gl++Jbzfzy5qtoq03dYj8AAAAAPDNVkAAAAIIAAAAbAAAAAAAAAAAAAAAAAAAAAAEAAAAAAAAAAAAAAQAAAAAAAAAAAAAAAAAAAAAAAAACAAAAAAAAAAAAAAAAAAAAAwAAAAAAAQoAAAAAAGXH4y0AAAAA\",\\n  \"memo_type\": \"none\",\\n  \"signatures\": [\\n    \"hDw4gPWt/jR/dn6hbnFAGCwvcJOGwAn+RuO/vzNdB/W2wVhoyoduSuVaJyhM/GQiqpNSmPDsmfEsCdyY5CmpBQ==\",\\n    \"r3op6KpeC7C5U1iCa1P/GY2KLMW/19QHgr6nhwU2vuxTi3/Huyv4iap/M2sR16QgiHLzX+AeZc4enTAQi5U2CA==\"\\n  ],\\n  \"valid_after\": \"1970-01-01T00:00:00Z\",\\n  \"preconditions\": {\\n    \"timebounds\": {\\n      \"min_time\": \"0\"\\n    }\\n  }\\n}'"
      ]
     },
     "execution_count": 10,
     "metadata": {},
     "output_type": "execute_result"
    }
   ],
   "source": [
    "activate_new_stellar"
   ]
  }
 ],
 "metadata": {
  "kernelspec": {
   "display_name": "Python 3",
   "language": "python",
   "name": "python3"
  },
  "language_info": {
   "codemirror_mode": {
    "name": "ipython",
    "version": 3
   },
   "file_extension": ".py",
   "mimetype": "text/x-python",
   "name": "python",
   "nbconvert_exporter": "python",
   "pygments_lexer": "ipython3",
   "version": "3.10.12"
  },
  "orig_nbformat": 4
 },
 "nbformat": 4,
 "nbformat_minor": 2
}
