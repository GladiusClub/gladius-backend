{
 "cells": [
  {
   "cell_type": "code",
   "execution_count": null,
   "metadata": {
    "vscode": {
     "languageId": "powershell"
    }
   },
   "outputs": [],
   "source": [
    "# https://stackoverflow.com/questions/69086493/pinning-directory-through-pinata-api-with-python \n",
    "\n",
    "api_key = 'f4a3172d4b5a41342550'\n",
    "secret_key = '4e6cc79c404e76d32ee84ad9f0165814609640975bd2bf049fb4ebad049bef24'\n",
    "token = 'eyJhbGciOiJIUzI1NiIsInR5cCI6IkpXVCJ9.eyJ1c2VySW5mb3JtYXRpb24iOnsiaWQiOiIyOTkzZjE0ZS1hNDU0LTRhOGQtOTdkNi04YTM3NDM5OGEzNWMiLCJlbWFpbCI6ImFzLmxleHVzQGdtYWlsLmNvbSIsImVtYWlsX3ZlcmlmaWVkIjp0cnVlLCJwaW5fcG9saWN5Ijp7InJlZ2lvbnMiOlt7ImlkIjoiRlJBMSIsImRlc2lyZWRSZXBsaWNhdGlvbkNvdW50IjoxfSx7ImlkIjoiTllDMSIsImRlc2lyZWRSZXBsaWNhdGlvbkNvdW50IjoxfV0sInZlcnNpb24iOjF9LCJtZmFfZW5hYmxlZCI6ZmFsc2UsInN0YXR1cyI6IkFDVElWRSJ9LCJhdXRoZW50aWNhdGlvblR5cGUiOiJzY29wZWRLZXkiLCJzY29wZWRLZXlLZXkiOiJmNGEzMTcyZDRiNWE0MTM0MjU1MCIsInNjb3BlZEtleVNlY3JldCI6IjRlNmNjNzljNDA0ZTc2ZDMyZWU4NGFkOWYwMTY1ODE0NjA5NjQwOTc1YmQyYmYwNDlmYjRlYmFkMDQ5YmVmMjQiLCJpYXQiOjE2OTUwNjQxMDl9.Ah41XX3PQ79BaXBSri6TPgcYq6zFFIBhjFsTkccKFjI'\n",
    "\n",
    "\n"
   ]
  },
  {
   "cell_type": "code",
   "execution_count": 9,
   "metadata": {
    "vscode": {
     "languageId": "powershell"
    }
   },
   "outputs": [
    {
     "name": "stdout",
     "output_type": "stream",
     "text": [
      "{'IpfsHash': 'Qmcmo2abVknSdDmncbi5mTjny2Z5TY5nfCUWKJwf9HxnEr', 'PinSize': 70520, 'Timestamp': '2023-09-18T19:32:43.388Z'}\n"
     ]
    }
   ],
   "source": [
    "import requests\n",
    "\n",
    "# Define your API key and secret key as headers\n",
    "headers = {\n",
    "    \"pinata_api_key\": api_key,\n",
    "    \"pinata_secret_api_key\": secret_key,\n",
    "    \"token\" : token\n",
    "}\n",
    "\n",
    "# Load your image file as a byte stream\n",
    "file = open(\"image.jpg\", \"rb\")\n",
    "\n",
    "\n",
    "# Define your file as a multipart/form-data object\n",
    "files = {\n",
    "    \"file\": (\"image.jpg\", file)\n",
    "}\n",
    "\n",
    "# Upload your file to Pinata and get the response\n",
    "response = requests.post(\"https://api.pinata.cloud/pinning/pinFileToIPFS\", files=files, headers=headers)\n",
    "\n",
    "# Print the response\n",
    "print(response.json())\n"
   ]
  },
  {
   "cell_type": "code",
   "execution_count": null,
   "metadata": {
    "vscode": {
     "languageId": "powershell"
    }
   },
   "outputs": [],
   "source": [
    "from brownie import network, Contract\n",
    "\n",
    "# Connect to the Polygon network\n",
    "network.connect(\"polygon\")\n",
    "\n",
    "# Load the NFT contract from the Polygon explorer\n",
    "NFT = Contract.from_explorer(\"0x123456789abcdef\") # Replace with your contract address\n",
    "\n",
    "# Deploy the NFT contract on the Polygon network\n",
    "NFT.deploy({\"from\": \"YOUR_WALLET_ADDRESS\"})\n",
    "\n",
    "# Mint an NFT with your desired parameters\n",
    "NFT.mint(\"YOUR_WALLET_ADDRESS\", \"https://ipfs.io/ipfs/Qmcmo2abVknSdDmncbi5mTjny2Z5TY5nfCUWKJwf9HxnEr\", {\"from\": \"YOUR_WALLET_ADDRESS\"}) # Replace with your wallet address and metadata URI\n"
   ]
  }
 ],
 "metadata": {
  "kernelspec": {
   "display_name": "Python 3",
   "language": "python",
   "name": "python3"
  },
  "language_info": {
   "codemirror_mode": {
    "name": "ipython",
    "version": 3
   },
   "file_extension": ".py",
   "mimetype": "text/x-python",
   "name": "python",
   "nbconvert_exporter": "python",
   "pygments_lexer": "ipython3",
   "version": "3.9.13"
  },
  "orig_nbformat": 4
 },
 "nbformat": 4,
 "nbformat_minor": 2
}
