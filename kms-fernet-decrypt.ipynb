{
 "cells": [
  {
   "cell_type": "code",
   "execution_count": 6,
   "metadata": {},
   "outputs": [],
   "source": [
    "from google.oauth2 import service_account\n",
    "from google.cloud import kms\n",
    "from cryptography.fernet import Fernet\n",
    "\n",
    "import firebase_admin\n",
    "from firebase_admin import auth, credentials, firestore\n"
   ]
  },
  {
   "attachments": {},
   "cell_type": "markdown",
   "metadata": {},
   "source": [
    "Global params"
   ]
  },
  {
   "cell_type": "code",
   "execution_count": 7,
   "metadata": {},
   "outputs": [],
   "source": [
    "# SERVICE_ACCOUNT_FILE = '../firebase-adminsdk.json'\n",
    "KMS_SERVICE_ACCOUNT_FILE = '../../kms-admin.json'\n",
    "\n",
    "project_id = 'wallet-login-45c1c'"
   ]
  },
  {
   "attachments": {},
   "cell_type": "markdown",
   "metadata": {},
   "source": [
    "KMS params"
   ]
  },
  {
   "cell_type": "code",
   "execution_count": 8,
   "metadata": {},
   "outputs": [
    {
     "name": "stdout",
     "output_type": "stream",
     "text": [
      "projects/wallet-login-45c1c/locations/global/keyRings/gladius-key-ring/cryptoKeys/gladius-key\n"
     ]
    }
   ],
   "source": [
    "# Build the parent name from the project and location.\n",
    "parent = f\"projects/{project_id}/locations/global\"\n",
    "\n",
    "# Build the key ring name.\n",
    "key_ring_name = f\"{parent}/keyRings/gladius-key-ring\"\n",
    "\n",
    "# Build the key name.\n",
    "key_name = f\"{key_ring_name}/cryptoKeys/gladius-key\"\n",
    "\n",
    "print(key_name)"
   ]
  },
  {
   "attachments": {},
   "cell_type": "markdown",
   "metadata": {},
   "source": [
    "#### Connect to KMS"
   ]
  },
  {
   "cell_type": "code",
   "execution_count": 9,
   "metadata": {},
   "outputs": [],
   "source": [
    "\n",
    "# Create the credentials object from the service account file.\n",
    "kms_credentials = service_account.Credentials.from_service_account_file(KMS_SERVICE_ACCOUNT_FILE)\n",
    "\n",
    "# Create the client with the credentials.\n",
    "kms_client  = kms.KeyManagementServiceClient(credentials=kms_credentials)"
   ]
  },
  {
   "attachments": {},
   "cell_type": "markdown",
   "metadata": {},
   "source": [
    "#### Connect to Firebase"
   ]
  },
  {
   "cell_type": "code",
   "execution_count": 11,
   "metadata": {},
   "outputs": [],
   "source": [
    "if not firebase_admin._apps:\n",
    "    firebase_cred = credentials.Certificate('../../firebase-adminsdk.json')\n",
    "    firebase_admin.initialize_app(firebase_cred)\n",
    "db = firestore.client()"
   ]
  },
  {
   "cell_type": "code",
   "execution_count": 13,
   "metadata": {},
   "outputs": [],
   "source": [
    "user_id = 'WUTqVpvvvcaroORmoC34HwweJJp1'  # Test03\n",
    "user_ref = db.collection('users').document(user_id)\n",
    "encrypted_private_key = user_ref.get().get('encrypted_stellar_secret')\n",
    "encrypted_encryption_key = user_ref.get().get('encrypted_encryption_key')\n"
   ]
  },
  {
   "cell_type": "code",
   "execution_count": 14,
   "metadata": {},
   "outputs": [],
   "source": [
    "response = kms_client.decrypt(\n",
    "    request={\"name\": key_name, \"ciphertext\": encrypted_encryption_key}\n",
    ")\n",
    "encryption_key = response.plaintext\n"
   ]
  },
  {
   "cell_type": "code",
   "execution_count": 16,
   "metadata": {},
   "outputs": [
    {
     "data": {
      "text/plain": [
       "b'GCRXQGTZK6Y6G7MIC4K4IUKWYSF5J5KICIUDLIV5SHY3WXG5SVSGAUU6'"
      ]
     },
     "execution_count": 16,
     "metadata": {},
     "output_type": "execute_result"
    }
   ],
   "source": [
    "f = Fernet(encryption_key)\n",
    "\n",
    "decrypted_private_key = f.decrypt(encrypted_private_key)\n",
    "decrypted_private_key"
   ]
  }
 ],
 "metadata": {
  "kernelspec": {
   "display_name": ".venv",
   "language": "python",
   "name": "python3"
  },
  "language_info": {
   "codemirror_mode": {
    "name": "ipython",
    "version": 3
   },
   "file_extension": ".py",
   "mimetype": "text/x-python",
   "name": "python",
   "nbconvert_exporter": "python",
   "pygments_lexer": "ipython3",
   "version": "3.10.12"
  },
  "orig_nbformat": 4
 },
 "nbformat": 4,
 "nbformat_minor": 2
}
