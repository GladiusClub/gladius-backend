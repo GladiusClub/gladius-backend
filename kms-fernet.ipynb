{
 "cells": [
  {
   "attachments": {},
   "cell_type": "markdown",
   "metadata": {},
   "source": [
    "## Encrypt user private key with Fernet with encryption key stored in GCP KMS\n",
    "https://cryptography.io/en/latest/fernet/\n",
    "\n",
    "https://www.geeksforgeeks.org/fernet-symmetric-encryption-using-cryptography-module-in-python/ \n",
    "\n",
    "\n",
    "#### Step 1. Activate Cloud Key Management Service (KMS) API\n",
    "https://console.cloud.google.com/marketplace/product/google/cloudkms.googleapis.com"
   ]
  },
  {
   "attachments": {},
   "cell_type": "markdown",
   "metadata": {},
   "source": [
    "#### Step 2. Create a Google service account that has the role of Cloud KMS Admin\n",
    "https://console.cloud.google.com/iam-admin/serviceaccounts\n",
    "\n",
    "Generate and download a private key for the service account in JSON format"
   ]
  },
  {
   "attachments": {},
   "cell_type": "markdown",
   "metadata": {},
   "source": [
    "#### Step 3. Install KMS client lib\n",
    "\n",
    "pip install google-cloud-kms firebase-admin"
   ]
  },
  {
   "attachments": {},
   "cell_type": "markdown",
   "metadata": {},
   "source": [
    "#### Step 4. Connect to KMS"
   ]
  },
  {
   "cell_type": "code",
   "execution_count": 4,
   "metadata": {},
   "outputs": [],
   "source": [
    "from google.cloud import kms\n",
    "from google.oauth2 import service_account"
   ]
  },
  {
   "cell_type": "code",
   "execution_count": 30,
   "metadata": {},
   "outputs": [],
   "source": [
    "# SERVICE_ACCOUNT_FILE = '../firebase-adminsdk.json'\n",
    "KMS_SERVICE_ACCOUNT_FILE = '../kms-admin.json'\n",
    "\n",
    "project_id = 'wallet-login-45c1c'"
   ]
  },
  {
   "cell_type": "code",
   "execution_count": 6,
   "metadata": {},
   "outputs": [],
   "source": [
    "\n",
    "# Create the credentials object from the service account file.\n",
    "credentials = service_account.Credentials.from_service_account_file(SERVICE_ACCOUNT_FILE)\n",
    "\n",
    "# Create the client with the credentials.\n",
    "client = kms.KeyManagementServiceClient(credentials=credentials)\n"
   ]
  },
  {
   "attachments": {},
   "cell_type": "markdown",
   "metadata": {},
   "source": [
    "create a key ring, a key, and a key version. You can specify the name of the key when you create it. \n",
    "For example, you can use the following code to create a symmetric encryption key named gladius-key in a key ring named gladius-key-ring in the global location"
   ]
  },
  {
   "cell_type": "code",
   "execution_count": null,
   "metadata": {},
   "outputs": [],
   "source": [
    "\n",
    "\n",
    "# Build the parent name from the project and location.\n",
    "parent = f\"projects/{project_id}/locations/global\"\n",
    "\n",
    "# Build the key ring name.\n",
    "key_ring_name = f\"{parent}/keyRings/gladius-key-ring\"\n",
    "\n",
    "# Build the key name.\n",
    "key_name = f\"{key_ring_name}/cryptoKeys/gladius-key\"\n",
    "\n",
    "# Create the key ring.\n",
    "key_ring = {}\n",
    "client.create_key_ring(request={\"parent\": parent, \"key_ring_id\": \"gladius-key-ring\", \"key_ring\": key_ring})\n",
    "\n",
    "# Create the key.\n",
    "purpose = kms.CryptoKey.CryptoKeyPurpose.ENCRYPT_DECRYPT\n",
    "crypto_key = {\"purpose\": purpose}\n",
    "client.create_crypto_key(request={\"parent\": key_ring_name, \"crypto_key_id\": \"gladius-key\", \"crypto_key\": crypto_key})\n"
   ]
  },
  {
   "attachments": {},
   "cell_type": "markdown",
   "metadata": {},
   "source": [
    "### Test KMS"
   ]
  },
  {
   "attachments": {},
   "cell_type": "markdown",
   "metadata": {},
   "source": [
    "You can use the client library to encrypt and decrypt data with the key you created. For example, you can use the following code to encrypt and decrypt a message using gladius-key"
   ]
  },
  {
   "cell_type": "code",
   "execution_count": 8,
   "metadata": {},
   "outputs": [
    {
     "name": "stdout",
     "output_type": "stream",
     "text": [
      "b'\\n$\\x00\\x04\\xc9Y\\x9b\\x9d\\x86\\xa2\\xdf\\x92u\\xe3\\xcd?\\x97.\\x1e\\x07\\x1a& \\xaaB\\x94?\\xb8j\\x9cbP2B\\x16\\x9c?o\\x129\\x00\\x06\\x16!\\xa1\\xda\\xc6/\\x0c\\t\\xf8g`\\xf6\\xfb\\xc9u\\x95\\xe4\\x98^3\\xaf\\xce\\nl\\x8d\\x80\\x99x\\xdf\\xfb6\\x8f\\x1f\\xa3\\x98\\x19s/\\xe13\\x98Y\\xc1\\xb8\\x03\\xb4T\\xac\\xe9\\x9fL\\t\\x95\\xd1\\x0c'\n"
     ]
    }
   ],
   "source": [
    "\n",
    "# Build the key name.\n",
    "key_name = f\"projects/{project_id}/locations/global/keyRings/gladius-key-ring/cryptoKeys/gladius-key\"\n",
    "\n",
    "# The message to encrypt.\n",
    "message = b\"Hello Gladius 2!\"\n",
    "\n",
    "# Encrypt the message.\n",
    "response = client.encrypt(request={\"name\": key_name, \"plaintext\": message})\n",
    "ciphertext = response.ciphertext\n",
    "\n",
    "print(ciphertext)"
   ]
  },
  {
   "cell_type": "code",
   "execution_count": 7,
   "metadata": {},
   "outputs": [
    {
     "name": "stdout",
     "output_type": "stream",
     "text": [
      "b'Hello Gladius 2!'\n"
     ]
    }
   ],
   "source": [
    "# Decrypt the message.\n",
    "response = client.decrypt(request={\"name\": key_name, \"ciphertext\": ciphertext})\n",
    "plaintext = response.plaintext\n",
    "\n",
    "print(plaintext)\n"
   ]
  },
  {
   "attachments": {},
   "cell_type": "markdown",
   "metadata": {},
   "source": [
    "### Step 5. Encrypt private_key with Fernet and encryption key stored in Cloud KMS\n",
    "https://cryptography.io/en/latest/fernet/"
   ]
  },
  {
   "cell_type": "code",
   "execution_count": 9,
   "metadata": {},
   "outputs": [],
   "source": [
    "# pip install cryptography\n",
    "\n",
    "from cryptography.fernet import Fernet"
   ]
  },
  {
   "attachments": {},
   "cell_type": "markdown",
   "metadata": {},
   "source": [
    "Use the generate_key() method of the Fernet class to generate a new fernet key2. The key is a random value, and will be completely different each time you call the method2. The key is a URL-safe base64-encoded 32-byte key2. You need to keep this key safe and secret, as it is the only way to encrypt and decrypt your data with Fernet2. For example:"
   ]
  },
  {
   "cell_type": "code",
   "execution_count": 11,
   "metadata": {},
   "outputs": [],
   "source": [
    "# this re-gerate the encryption key\n",
    "\n",
    "key = Fernet.generate_key()"
   ]
  },
  {
   "attachments": {},
   "cell_type": "markdown",
   "metadata": {},
   "source": [
    "### Backup an encryption key into a file in a bucket "
   ]
  },
  {
   "cell_type": "code",
   "execution_count": 45,
   "metadata": {},
   "outputs": [],
   "source": [
    "from google.cloud import storage\n",
    "from google.oauth2 import service_account\n",
    "\n",
    "# gcloud config set project  'wallet-login-45c1c'\n",
    "# gsutil mb -l europe-west1 gs://gladius-backend\n",
    "\n",
    "storage_client = storage.Client(project='wallet-login-45c1c', \n",
    "                                credentials=service_account.Credentials.from_service_account_file('../firebase-adminsdk.json'))\n",
    "\n",
    "bucket_name = 'gladius-backend'\n",
    "key_str = key.decode('utf-8')\n",
    "file_name = 'gladius-key-encryption_key-ciphertext.txt'"
   ]
  },
  {
   "cell_type": "code",
   "execution_count": 34,
   "metadata": {},
   "outputs": [],
   "source": [
    "#save encryption key to a bucket gs://gladius-backend\n",
    "\n",
    "bucket = storage_client.bucket(bucket_name)\n",
    "blob = bucket.blob(file_name)\n",
    "\n",
    "blob.upload_from_string(key_str, content_type='text')\n"
   ]
  },
  {
   "attachments": {},
   "cell_type": "markdown",
   "metadata": {},
   "source": [
    "### Load an encryption key from a file in a bucket "
   ]
  },
  {
   "cell_type": "code",
   "execution_count": 35,
   "metadata": {},
   "outputs": [],
   "source": [
    "from google.cloud import storage\n",
    "from google.oauth2 import service_account\n",
    "\n",
    "# Create a storage client\n",
    "storage_client = storage.Client(project='wallet-login-45c1c', \n",
    "                                credentials=service_account.Credentials.from_service_account_file('../firebase-adminsdk.json'))\n",
    "\n",
    "# Get the bucket and blob (file) objects\n",
    "bucket_name = 'gladius-backend'\n",
    "file_name = 'gladius-key-encryption_key-ciphertext.txt'\n",
    "bucket = storage_client.bucket(bucket_name)\n",
    "blob = bucket.blob(file_name)\n",
    "\n",
    "# Download the file contents as bytes\n",
    "encryption_key = blob.download_as_bytes()\n",
    "\n"
   ]
  },
  {
   "cell_type": "code",
   "execution_count": 36,
   "metadata": {},
   "outputs": [
    {
     "name": "stdout",
     "output_type": "stream",
     "text": [
      "b'iy1qGhJqjFTcUReSRcQ_eQ9v81vfUW8lVj4ZLn8MBQM='\n"
     ]
    }
   ],
   "source": [
    "# Print the byte data\n",
    "print(encryption_key)\n"
   ]
  },
  {
   "attachments": {},
   "cell_type": "markdown",
   "metadata": {},
   "source": [
    "Connect to KMS with SA"
   ]
  },
  {
   "cell_type": "code",
   "execution_count": 37,
   "metadata": {},
   "outputs": [],
   "source": [
    "from google.cloud import kms\n",
    "from google.oauth2 import service_account\n",
    "\n",
    "# Create the credentials object from the service account file.\n",
    "kms_credentials = service_account.Credentials.from_service_account_file(KMS_SERVICE_ACCOUNT_FILE)\n",
    "\n",
    "# Create the client with the credentials.\n",
    "kms_client  = kms.KeyManagementServiceClient(credentials=kms_credentials)"
   ]
  },
  {
   "attachments": {},
   "cell_type": "markdown",
   "metadata": {},
   "source": [
    "##### Create Gladius Key Ring - Gladius Key (if not exist in Cloud KMS)"
   ]
  },
  {
   "cell_type": "code",
   "execution_count": 38,
   "metadata": {},
   "outputs": [
    {
     "name": "stdout",
     "output_type": "stream",
     "text": [
      "projects/wallet-login-45c1c/locations/global/keyRings/gladius-key-ring/cryptoKeys/gladius-key\n"
     ]
    }
   ],
   "source": [
    "\n",
    "# Build the parent name from the project and location.\n",
    "parent = f\"projects/{project_id}/locations/global\"\n",
    "\n",
    "# Build the key ring name.\n",
    "key_ring_name = f\"{parent}/keyRings/gladius-key-ring\"\n",
    "\n",
    "# Build the key name.\n",
    "key_name = f\"{key_ring_name}/cryptoKeys/gladius-key\"\n",
    "\n",
    "print(key_name)\n",
    "\n",
    "# NEEDED ONLY FIRST TIME\n",
    "# Create the key ring.\n",
    "# key_ring = {}\n",
    "# client.create_key_ring(request={\"parent\": parent, \"key_ring_id\": \"gladius-key-ring\", \"key_ring\": key_ring})\n",
    "\n",
    "# Create the key.\n",
    "# purpose = kms.CryptoKey.CryptoKeyPurpose.ENCRYPT_DECRYPT\n",
    "# crypto_key = {\"purpose\": purpose}\n",
    "# client.create_crypto_key(request={\"parent\": key_ring_name, \"crypto_key_id\": \"gladius-key\", \"crypto_key\": crypto_key})\n"
   ]
  },
  {
   "cell_type": "code",
   "execution_count": 15,
   "metadata": {},
   "outputs": [],
   "source": [
    "key=encryption_key"
   ]
  },
  {
   "cell_type": "code",
   "execution_count": 39,
   "metadata": {},
   "outputs": [],
   "source": [
    "response = kms_client.encrypt(request={\"name\": key_name, \"plaintext\": encryption_key})\n",
    "encrypted_encryption_key = response.ciphertext\n"
   ]
  },
  {
   "cell_type": "code",
   "execution_count": 16,
   "metadata": {},
   "outputs": [],
   "source": [
    "\n",
    "# Encrypt the encryption key with Google KMS.\n",
    "\n",
    "response = client.encrypt(request={\"name\": key_name, \"plaintext\": key})\n",
    "encrypted_encryption_key = response.ciphertext\n"
   ]
  },
  {
   "cell_type": "code",
   "execution_count": 21,
   "metadata": {},
   "outputs": [],
   "source": [
    "#encrypted_encryption_key"
   ]
  },
  {
   "attachments": {},
   "cell_type": "markdown",
   "metadata": {},
   "source": [
    "Use the client library to decrypt your encryption key that was encrypted with a Cloud KMS key\n",
    "\n",
    "https://cloud.google.com/kms/docs/encrypt-decrypt"
   ]
  },
  {
   "cell_type": "code",
   "execution_count": 18,
   "metadata": {},
   "outputs": [],
   "source": [
    "\n",
    "# Decrypt your encryption key with Google KMS.\n",
    "response = client.decrypt(request={\"name\": key_name, \"ciphertext\": encrypted_encryption_key})\n",
    "encryption_key = response.plaintext"
   ]
  },
  {
   "cell_type": "code",
   "execution_count": 45,
   "metadata": {},
   "outputs": [
    {
     "data": {
      "text/plain": [
       "b\"\\n$\\x00\\x04\\xc9Y\\x9b\\xc1\\xefNp\\x97U\\x1e\\xfc\\xd7\\xfc`F\\x97\\x90\\xae\\x03KY\\xd8\\xdc\\xbc\\xa8\\x9b\\x7f-Q\\xdcY\\x9f#\\xde\\x12U\\x00\\x06\\x16!\\xa1i\\x83\\xe3\\xdf\\r\\x86+4\\xffw\\xb9\\x13\\x0ckl\\xff\\xe3T\\x13g\\xe4\\xb9\\xf1\\xd3\\xb6k\\xd00\\xeb\\x97\\x17\\xecF\\x0f\\xba\\x86\\x1f'\\xae\\x17\\x7f\\x17\\xd8\\x15|\\xb4\\xebiV\\nt\\xd0o\\xcfCy\\x1c;\\xd2\\x80\\x0b\\xa6(\\xd1\\x9e\\x08&\\x16T\\xeb\\xc4\\xbaT\\xb7\\xba<u\\x93~\\xea\""
      ]
     },
     "execution_count": 45,
     "metadata": {},
     "output_type": "execute_result"
    }
   ],
   "source": [
    "encrypted_encryption_key"
   ]
  },
  {
   "cell_type": "code",
   "execution_count": 20,
   "metadata": {},
   "outputs": [],
   "source": [
    "#encryption_key"
   ]
  },
  {
   "attachments": {},
   "cell_type": "markdown",
   "metadata": {},
   "source": [
    "## Encrypt Data in Firebase\n",
    "\n",
    "### Connect to Firebase"
   ]
  },
  {
   "cell_type": "code",
   "execution_count": 50,
   "metadata": {},
   "outputs": [],
   "source": [
    "import firebase_admin\n",
    "from firebase_admin import auth, credentials, firestore\n",
    "\n",
    "\n",
    "if not firebase_admin._apps:\n",
    "    cred = credentials.Certificate(\"../firebase-adminsdk.json\")\n",
    "    default_app = firebase_admin.initialize_app(cred)\n",
    "# Get a reference to the firestore database\n",
    "db = firestore.client()\n",
    "\n",
    "# Get a reference to the users collection.\n",
    "users_ref = db.collection(\"users\")\n",
    "\n",
    "# Get all documents from the users collection.\n",
    "users_docs = users_ref.stream()"
   ]
  },
  {
   "attachments": {},
   "cell_type": "markdown",
   "metadata": {},
   "source": [
    "Create a Fernet object with your encryption key\n",
    "\n",
    "https://www.geeksforgeeks.org/fernet-symmetric-encryption-using-cryptography-module-in-python/"
   ]
  },
  {
   "cell_type": "code",
   "execution_count": 27,
   "metadata": {},
   "outputs": [],
   "source": [
    "from cryptography.fernet import Fernet\n",
    "\n",
    "f = Fernet(encryption_key)"
   ]
  },
  {
   "attachments": {},
   "cell_type": "markdown",
   "metadata": {},
   "source": [
    "Use the update() method of the Firestore client to save or update the name field for a specific user document. You need to specify the document reference and a dictionary of fields and values to update. For each name field, use the encrypt() method of Fernet to encrypt it with your encryption key"
   ]
  },
  {
   "cell_type": "code",
   "execution_count": 51,
   "metadata": {},
   "outputs": [],
   "source": [
    "# Iterate over the documents and encrypt and update the name field.\n",
    "for user_doc in users_docs:\n",
    "  # Get the document data as a dictionary.\n",
    "  user_data = user_doc.to_dict()\n",
    "\n",
    "  # Get the name field from the data.\n",
    "  user_name = user_data.get(\"name\")\n",
    "\n",
    "  # Print the name field.\n",
    "  #print(user_name)\n",
    "\n",
    "\n",
    "  # Encrypt the name field with Fernet.\n",
    "  encrypted_user_name = f.encrypt(user_name.encode())\n",
    "  #print(encrypted_user_name)\n",
    "\n",
    "  # Update the document with the encrypted name field.\n",
    "  user_doc.reference.update({\"glc_transaction_private_key\": encrypted_user_name})\n",
    "  \n",
    "  # Store encrypted_encryption_key in user doc\n",
    "  user_doc.reference.update({\"encrypted_encryption_key\": encrypted_encryption_key})\n"
   ]
  },
  {
   "attachments": {},
   "cell_type": "markdown",
   "metadata": {},
   "source": [
    "### Decrypt private key in users/user/glc_transaction_private_key\n",
    "using users/user/encrypted_encryption_key\n",
    "decrypted with KMS"
   ]
  },
  {
   "cell_type": "code",
   "execution_count": 52,
   "metadata": {},
   "outputs": [],
   "source": [
    "user_id = 'jjzEiaH1SqN92fMuQSapSbKuHVB2'  # Bob\n",
    "user_ref = db.collection('users').document(user_id)\n",
    "encrypted_private_key = user_ref.get().get('glc_transaction_private_key')\n",
    "encrypted_encryption_key = user_ref.get().get('encrypted_encryption_key')"
   ]
  },
  {
   "cell_type": "code",
   "execution_count": 54,
   "metadata": {},
   "outputs": [],
   "source": [
    "response = kms_client.decrypt(\n",
    "    request={\"name\": key_name, \"ciphertext\": encrypted_encryption_key}\n",
    ")\n",
    "encryption_key = response.plaintext"
   ]
  },
  {
   "cell_type": "code",
   "execution_count": 55,
   "metadata": {},
   "outputs": [
    {
     "data": {
      "text/plain": [
       "b'Bob'"
      ]
     },
     "execution_count": 55,
     "metadata": {},
     "output_type": "execute_result"
    }
   ],
   "source": [
    "cipher_suite = Fernet(encryption_key)\n",
    "#encrypted_private_key = base64.b64decode(encrypted_private_key)  # If necessary\n",
    "\n",
    "decrypted_private_key = cipher_suite.decrypt(encrypted_private_key)\n",
    "decrypted_private_key"
   ]
  },
  {
   "cell_type": "code",
   "execution_count": null,
   "metadata": {},
   "outputs": [],
   "source": [
    "# encrypted_private_key was actually encrypted user_name\n",
    "# glc_transaction_private_key = f.encrypt(user_name.encode())"
   ]
  }
 ],
 "metadata": {
  "kernelspec": {
   "display_name": "Python 3",
   "language": "python",
   "name": "python3"
  },
  "language_info": {
   "codemirror_mode": {
    "name": "ipython",
    "version": 3
   },
   "file_extension": ".py",
   "mimetype": "text/x-python",
   "name": "python",
   "nbconvert_exporter": "python",
   "pygments_lexer": "ipython3",
   "version": "3.10.6"
  },
  "orig_nbformat": 4
 },
 "nbformat": 4,
 "nbformat_minor": 2
}
